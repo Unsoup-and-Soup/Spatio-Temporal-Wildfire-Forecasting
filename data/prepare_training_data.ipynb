{
 "cells": [
  {
   "cell_type": "code",
   "execution_count": 431,
   "id": "70b047f1",
   "metadata": {
    "ExecuteTime": {
     "end_time": "2022-12-03T20:39:47.180475Z",
     "start_time": "2022-12-03T20:39:47.170627Z"
    }
   },
   "outputs": [],
   "source": [
    "from shapely.geometry import Point, Polygon, MultiPolygon\n",
    "from datetime import datetime, timedelta\n",
    "from tensorflow.keras.models import Sequential\n",
    "from tensorflow.keras.layers import Dense, Conv2D, ConvLSTM2D, LSTM, GRU\n",
    "from tensorflow.keras.layers import RepeatVector, Activation, MaxPooling3D, MaxPooling2D, Dropout, Flatten\n",
    "from tensorflow.keras.optimizers import Adam\n",
    "from tensorflow.keras.metrics import Accuracy, BinaryAccuracy, Precision, Recall, PrecisionAtRecall, RecallAtPrecision\n",
    "from sklearn.model_selection import train_test_split\n",
    "from pyproj import CRS\n",
    "import geopandas as gpd\n",
    "import pandas as pd\n",
    "import numpy as np\n",
    "import pathlib\n",
    "import os\n",
    "import matplotlib.pyplot as plt\n",
    "import random\n",
    "import pickle\n",
    "import rtree"
   ]
  },
  {
   "cell_type": "code",
   "execution_count": 95,
   "id": "536ec903",
   "metadata": {
    "ExecuteTime": {
     "end_time": "2022-12-03T17:59:44.533020Z",
     "start_time": "2022-12-03T17:59:44.517128Z"
    }
   },
   "outputs": [],
   "source": [
    "diam = 40\n",
    "\n",
    "def generate_grid(fire_file_path, centroid_x, centroid_y):\n",
    "    fires = gpd.read_file(fire_file_path)\n",
    "    fires = fires.to_crs(epsg=3310)\n",
    "\n",
    "    # Get bounds of CRS\n",
    "    x_min, y_min, x_max, y_max = (-5198207.57, -1564155.99, 6820717.07, 5283999.14)\n",
    "\n",
    "    # Get the max polygon from shp file\n",
    "    polygons = fires.geometry\n",
    "    max_fire = None\n",
    "    for polygon in polygons:\n",
    "        if polygon is None:\n",
    "            continue\n",
    "        if not max_fire or polygon.area > max_fire.area:\n",
    "            max_fire = polygon\n",
    "            \n",
    "    if max_fire is None:\n",
    "        raise ValueError\n",
    "\n",
    "    # Generate points for each sqkm\n",
    "    points = []\n",
    "\n",
    "    topleft_x = int(centroid_x - (diam / 2) * 1000)\n",
    "    topleft_y = int(centroid_y - (diam / 2) * 1000)\n",
    "\n",
    "    points = [(x, y) for x in range(topleft_x, topleft_x + diam * 1000, 1000) for y in range(topleft_y, topleft_y + diam * 1000, 1000)]\n",
    "\n",
    "    # Generate boolean grid    \n",
    "    points_gdf = gpd.GeoDataFrame(index=list(range(diam ** 2)), crs='EPSG:3310', geometry=[Point(p) for p in points])\n",
    "    \n",
    "    max_fire_gdf = gpd.GeoDataFrame(index=[0], crs='EPSG:3310', geometry=[max_fire])\n",
    "    \n",
    "    join = gpd.sjoin(points_gdf, max_fire_gdf, how='left', predicate='within')\n",
    "    join['in'] = join['index_right'].notnull().astype(int)\n",
    "    \n",
    "    grid = np.asarray(join['in']).reshape(-1, diam)\n",
    "    x_grid = np.asarray([(x - x_min) / (x_max - x_min) for x, _ in points]).reshape(-1, diam)\n",
    "    y_grid = np.asarray([(y - y_min) / (y_max - y_min) for _, y in points]).reshape(-1, diam)\n",
    "    \n",
    "#     print(grid)\n",
    "#     print(x_grid)\n",
    "#     print(y_grid)\n",
    "\n",
    "    return grid, x_grid, y_grid"
   ]
  },
  {
   "cell_type": "code",
   "execution_count": 109,
   "id": "79c070cd",
   "metadata": {
    "ExecuteTime": {
     "end_time": "2022-12-03T18:34:12.638799Z",
     "start_time": "2022-12-03T18:29:16.849426Z"
    },
    "collapsed": true
   },
   "outputs": [
    {
     "name": "stdout",
     "output_type": "stream",
     "text": [
      "0 .DS_Store\n",
      "1 CA-AEU-024918_Butte\n"
     ]
    },
    {
     "name": "stderr",
     "output_type": "stream",
     "text": [
      "ERROR:fiona._env:Unable to open download/cleaned_fire_data/CA-AEU-024918_Butte/GIS/20150914/20150913_2309_Butte_CAAEU024918_Poly_FirePolygon_NAD_1983_California_Teale_Albers.shx or download/cleaned_fire_data/CA-AEU-024918_Butte/GIS/20150914/20150913_2309_Butte_CAAEU024918_Poly_FirePolygon_NAD_1983_California_Teale_Albers.SHX. Set SHAPE_RESTORE_SHX config option to YES to restore or create it.\n"
     ]
    },
    {
     "name": "stdout",
     "output_type": "stream",
     "text": [
      "2 CA-BDF-013409_El_Dorado\n",
      "3 CA-BDF_007894_Lake\n",
      "4 CA-BEU-003422_Soberanes\n"
     ]
    },
    {
     "name": "stderr",
     "output_type": "stream",
     "text": [
      "ERROR:fiona._env:Unable to open download/cleaned_fire_data/CA-BEU-003422_Soberanes/GIS/20160904/20160903_1806_Soberanes_16CABEU003422_Poly_FirePolygon_NAD_1983_California_Teale_Albers.shx or download/cleaned_fire_data/CA-BEU-003422_Soberanes/GIS/20160904/20160903_1806_Soberanes_16CABEU003422_Poly_FirePolygon_NAD_1983_California_Teale_Albers.SHX. Set SHAPE_RESTORE_SHX config option to YES to restore or create it.\n"
     ]
    },
    {
     "name": "stdout",
     "output_type": "stream",
     "text": [
      "5 CA-BTU-009205_Dixie\n"
     ]
    },
    {
     "name": "stderr",
     "output_type": "stream",
     "text": [
      "ERROR:fiona._env:Unable to open download/cleaned_fire_data/CA-BTU-009692_BTU%20Lightning%20Complex/GIS/20200821/20200820_BTU-GTU_CABTU009841_EventPolygon.shx or download/cleaned_fire_data/CA-BTU-009692_BTU%20Lightning%20Complex/GIS/20200821/20200820_BTU-GTU_CABTU009841_EventPolygon.SHX. Set SHAPE_RESTORE_SHX config option to YES to restore or create it.\n"
     ]
    },
    {
     "name": "stdout",
     "output_type": "stream",
     "text": [
      "6 CA-BTU-009692_BTU%20Lightning%20Complex\n",
      "7 CA-BTU-016737_Camp\n",
      "8 CA-CZU-005205_CZU_Lightning_Complex\n",
      "9 CA-ENF-024030_Caldor\n",
      "10 CA-ENF-024030_Caldor_CALFIRE\n",
      "11 CA-HIA-000115_MillCreek1\n",
      "12 CA-HUU-005606_Humboldt_Complex\n",
      "13 CA-KNF-004500_Pony\n",
      "14 CA-KNF-005956_Happy_Camp_Cmplx\n",
      "15 CA-KNF-006081_Salmon_August_Complex\n",
      "16 CA-KNF-007501_Gap\n",
      "17 CA-KNF-5659_Fort_Complex\n",
      "18 CA-KNF-5949_Forks_Complex\n",
      "19 CA-KNF-6098_Eclipse_Complex\n",
      "20 CA-KNF-6385_RiverComplex\n",
      "21 CA-KNP-000122_KNPComplex\n",
      "22 CA-LMU-003917_Gold\n",
      "23 CA-LNU-010045_Central_LNU_Complex\n",
      "24 CA-LNU-010105_SouthernLNUComplex\n",
      "25 CA-LNU-013407_LNU_Lightning_Complex\n",
      "26 CA-LNU-015947_Glass\n",
      "27 CA-LNU-019376_Kincade\n",
      "28 CA-LPF-002428_Dolan\n",
      "29 CA-LPF-002809_Rey\n",
      "30 CA-MEU-007202_LodgeLightningComplex\n",
      "31 CA-MEU-008674_Mendocino_Complex\n",
      "32 CA-MEU-010843_August_Complex_West_Zone\n",
      "33 CA-NOD-004727_W-5ColdSprings\n",
      "34 CA-PNF-001308_PNF_North_Complex\n",
      "35 CA-PNF-001324_Walker\n",
      "36 CA-PNF-1064_Beckwourth\n",
      "37 CA-SCU-005740_SCU_Lightning_Complex\n",
      "38 CA-SHF-000017_Cutthroat_Middle_Ramshorn\n",
      "39 CA-SHF-001175_McFarland\n",
      "40 CA-SHF-001187_Monument\n",
      "41 CA-SHF-001223_Hirz\n",
      "42 CA-SHF-001444_Delta\n"
     ]
    },
    {
     "name": "stderr",
     "output_type": "stream",
     "text": [
      "ERROR:fiona._env:Unable to open download/cleaned_fire_data/CA-SHF-001770_Helena/GIS/20170903/EventPolygon 1.34.18 AM.shx or download/cleaned_fire_data/CA-SHF-001770_Helena/GIS/20170903/EventPolygon 1.34.18 AM.SHX. Set SHAPE_RESTORE_SHX config option to YES to restore or create it.\n",
      "ERROR:fiona._env:Unable to open download/cleaned_fire_data/CA-SHF-001770_Helena/GIS/20170904/EventPolygon 1.34.39 AM.shx or download/cleaned_fire_data/CA-SHF-001770_Helena/GIS/20170904/EventPolygon 1.34.39 AM.SHX. Set SHAPE_RESTORE_SHX config option to YES to restore or create it.\n"
     ]
    },
    {
     "name": "stdout",
     "output_type": "stream",
     "text": [
      "43 CA-SHF-001770_Helena\n",
      "44 CA-SHF-001850_Buck\n",
      "45 CA-SHF-002066_River_Complex\n"
     ]
    },
    {
     "name": "stderr",
     "output_type": "stream",
     "text": [
      "ERROR:fiona._env:Unable to open download/cleaned_fire_data/CA-SHF-002066_River_Complex/GIS/20150811/20150811_0753_RiverComplex_CA_SHF002066_Poly_FirePolygon_NAD_1983_UTM_Zone_10N.shx or download/cleaned_fire_data/CA-SHF-002066_River_Complex/GIS/20150811/20150811_0753_RiverComplex_CA_SHF002066_Poly_FirePolygon_NAD_1983_UTM_Zone_10N.SHX. Set SHAPE_RESTORE_SHX config option to YES to restore or create it.\n"
     ]
    },
    {
     "name": "stdout",
     "output_type": "stream",
     "text": [
      "46 CA-SHF-002067_Fork_Complex\n",
      "47 CA-SHF-002108_South_Complex\n",
      "48 CA-SHU-006248_BULLY\n",
      "49 CA-SHU-006933_Eiler\n",
      "50 CA-SHU-007808_Carr\n",
      "51 CA-SHU-009978_Zogg\n",
      "52 CA-SLU-008948_Chimney\n",
      "53 CA-SNF-0001743_Railroad\n",
      "54 CA-SNF-000745_Ferguson\n",
      "55 CA-SNF-001391_Creek\n",
      "56 CA-SNF_001732_Aspen\n"
     ]
    },
    {
     "name": "stderr",
     "output_type": "stream",
     "text": [
      "ERROR:fiona._env:Unable to open download/cleaned_fire_data/CA-SNF_001732_Aspen/GIS/20130729/20130729_1600_Aspen_CA-SNF-001732_Poly_FirePolygon_NAD_1983_UTM_Zone_11N.shx or download/cleaned_fire_data/CA-SNF_001732_Aspen/GIS/20130729/20130729_1600_Aspen_CA-SNF-001732_Poly_FirePolygon_NAD_1983_UTM_Zone_11N.SHX. Set SHAPE_RESTORE_SHX config option to YES to restore or create it.\n"
     ]
    },
    {
     "name": "stdout",
     "output_type": "stream",
     "text": [
      "57 CA-SNF_001746_Rough\n",
      "58 CA-SQF-001317_Schaeffer\n",
      "59 CA-SQF-002595_Cedar\n",
      "60 CA-SQF-002622_SQF%20COMPLEX\n",
      "61 CA-SRF-000656_Red_Salmon_Complex\n",
      "62 CA-SRF-000741_Orleans\n",
      "63 CA-SRF-001433_Mad_River_Complex\n",
      "64 CA-SRF-001470_Nickowitz\n",
      "65 CA-SRF-001476_Route_Complex\n",
      "66 CA-SRF-001488_GasquetComplex\n",
      "67 CA-SRF-1494_Corral_Complex\n",
      "68 CA-SRF-651_McCash\n",
      "69 CA-STF-001702_Donnell\n",
      "70 CA-VNC-103156_Thomas\n"
     ]
    }
   ],
   "source": [
    "DATE_FORMAT_CODE = '%Y%m%d'\n",
    "\n",
    "dataset_path = \"./download/cleaned_fire_data/\"\n",
    "\n",
    "all_data = []\n",
    "\n",
    "def preprocess_all(dataset_path):\n",
    "    regions = os.listdir(dataset_path)\n",
    "    for i, region in enumerate(sorted(regions)):\n",
    "        print(i, region)\n",
    "        if region != '.DS_Store':\n",
    "            date_path = os.path.join(dataset_path, region, 'GIS')\n",
    "            dates = os.listdir(date_path)\n",
    "            dates.sort() # Sort dates so that earliest date occur first\n",
    "            dates.remove(\".DS_Store\")\n",
    "            \n",
    "            # Obtain centroid for first date\n",
    "            fire_file_path = os.path.join(date_path, dates[0])\n",
    "            fire_file_name = list(pathlib.Path(fire_file_path).glob('*.shp'))\n",
    "            \n",
    "            if not fire_file_name:\n",
    "                continue\n",
    "            \n",
    "            try:\n",
    "                fires = gpd.read_file(fire_file_name[0])\n",
    "                fires = fires.to_crs(epsg=3310)\n",
    "                polygons = fires.geometry\n",
    "                max_fire = None\n",
    "                for polygon in polygons:\n",
    "                    if polygon is None:\n",
    "                        continue\n",
    "                    if not max_fire or polygon.area > max_fire.area:\n",
    "                        max_fire = polygon\n",
    "                        \n",
    "                # If first date does not have a fire, we skip the region\n",
    "                if not max_fire:\n",
    "                    continue\n",
    "\n",
    "                centroid_x = max_fire.centroid.x\n",
    "                centroid_y = max_fire.centroid.y\n",
    "            except:\n",
    "                continue\n",
    "            \n",
    "            for i, date in enumerate(dates):\n",
    "                # Check if 5 days in future exists\n",
    "                date_time_obj = datetime.strptime(date, DATE_FORMAT_CODE)\n",
    "                fire_file_path = os.path.join(date_path, date)\n",
    "                fire_file_name = list(pathlib.Path(fire_file_path).glob('*.shp'))\n",
    "                \n",
    "                if not fire_file_name:\n",
    "                    continue\n",
    "                    \n",
    "                try:\n",
    "                    grid, x_grid, y_grid = generate_grid(fire_file_name[0], centroid_x, centroid_y)\n",
    "                except ValueError as e:\n",
    "                    continue\n",
    "                    \n",
    "#                 print(datetime.strftime(date_time_obj, DATE_FORMAT_CODE))\n",
    "\n",
    "                all_data.append([date_time_obj, region, grid, x_grid, y_grid])\n",
    "                \n",
    "#                 break\n",
    "#             break\n",
    "                        \n",
    "            \n",
    "#             with open('all_data.pkl', 'wb') as f:\n",
    "#                 pickle.dump(all_data, f)\n",
    "\n",
    "preprocess_all(dataset_path)\n",
    "with open('all_data.pkl', 'wb') as f:\n",
    "    pickle.dump(all_data, f)"
   ]
  },
  {
   "cell_type": "code",
   "execution_count": 116,
   "id": "89201f69",
   "metadata": {
    "ExecuteTime": {
     "end_time": "2022-12-03T18:37:50.543608Z",
     "start_time": "2022-12-03T18:37:49.906915Z"
    },
    "scrolled": true
   },
   "outputs": [
    {
     "data": {
      "text/html": [
       "<div>\n",
       "<style scoped>\n",
       "    .dataframe tbody tr th:only-of-type {\n",
       "        vertical-align: middle;\n",
       "    }\n",
       "\n",
       "    .dataframe tbody tr th {\n",
       "        vertical-align: top;\n",
       "    }\n",
       "\n",
       "    .dataframe thead th {\n",
       "        text-align: right;\n",
       "    }\n",
       "</style>\n",
       "<table border=\"1\" class=\"dataframe\">\n",
       "  <thead>\n",
       "    <tr style=\"text-align: right;\">\n",
       "      <th></th>\n",
       "      <th>date</th>\n",
       "      <th>name</th>\n",
       "      <th>fire</th>\n",
       "      <th>x</th>\n",
       "      <th>y</th>\n",
       "    </tr>\n",
       "  </thead>\n",
       "  <tbody>\n",
       "    <tr>\n",
       "      <th>0</th>\n",
       "      <td>2015-09-10</td>\n",
       "      <td>CA-AEU-024918_Butte</td>\n",
       "      <td>[[0, 0, 0, 0, 0, 0, 0, 0, 0, 0, 0, 0, 0, 0, 0,...</td>\n",
       "      <td>[[0.4259604518162617, 0.4259604518162617, 0.42...</td>\n",
       "      <td>[[0.23055654552615254, 0.2307025702555894, 0.2...</td>\n",
       "    </tr>\n",
       "    <tr>\n",
       "      <th>1</th>\n",
       "      <td>2015-09-11</td>\n",
       "      <td>CA-AEU-024918_Butte</td>\n",
       "      <td>[[0, 0, 0, 0, 0, 0, 0, 0, 0, 0, 0, 0, 0, 0, 0,...</td>\n",
       "      <td>[[0.4259604518162617, 0.4259604518162617, 0.42...</td>\n",
       "      <td>[[0.23055654552615254, 0.2307025702555894, 0.2...</td>\n",
       "    </tr>\n",
       "    <tr>\n",
       "      <th>2</th>\n",
       "      <td>2015-09-12</td>\n",
       "      <td>CA-AEU-024918_Butte</td>\n",
       "      <td>[[0, 0, 0, 0, 0, 0, 0, 0, 0, 0, 0, 0, 0, 0, 0,...</td>\n",
       "      <td>[[0.4259604518162617, 0.4259604518162617, 0.42...</td>\n",
       "      <td>[[0.23055654552615254, 0.2307025702555894, 0.2...</td>\n",
       "    </tr>\n",
       "    <tr>\n",
       "      <th>3</th>\n",
       "      <td>2015-09-13</td>\n",
       "      <td>CA-AEU-024918_Butte</td>\n",
       "      <td>[[0, 0, 0, 0, 0, 0, 0, 0, 0, 0, 0, 0, 0, 0, 0,...</td>\n",
       "      <td>[[0.4259604518162617, 0.4259604518162617, 0.42...</td>\n",
       "      <td>[[0.23055654552615254, 0.2307025702555894, 0.2...</td>\n",
       "    </tr>\n",
       "    <tr>\n",
       "      <th>4</th>\n",
       "      <td>2015-09-15</td>\n",
       "      <td>CA-AEU-024918_Butte</td>\n",
       "      <td>[[0, 0, 0, 0, 0, 0, 0, 0, 0, 0, 0, 0, 0, 0, 0,...</td>\n",
       "      <td>[[0.4259604518162617, 0.4259604518162617, 0.42...</td>\n",
       "      <td>[[0.23055654552615254, 0.2307025702555894, 0.2...</td>\n",
       "    </tr>\n",
       "    <tr>\n",
       "      <th>...</th>\n",
       "      <td>...</td>\n",
       "      <td>...</td>\n",
       "      <td>...</td>\n",
       "      <td>...</td>\n",
       "      <td>...</td>\n",
       "    </tr>\n",
       "    <tr>\n",
       "      <th>1708</th>\n",
       "      <td>2017-12-27</td>\n",
       "      <td>CA-VNC-103156_Thomas</td>\n",
       "      <td>[[0, 0, 0, 0, 0, 0, 0, 0, 0, 0, 0, 0, 0, 0, 0,...</td>\n",
       "      <td>[[0.4370482990231978, 0.4370482990231978, 0.43...</td>\n",
       "      <td>[[0.16602325274719645, 0.16616927747663332, 0....</td>\n",
       "    </tr>\n",
       "    <tr>\n",
       "      <th>1709</th>\n",
       "      <td>2017-12-28</td>\n",
       "      <td>CA-VNC-103156_Thomas</td>\n",
       "      <td>[[0, 0, 0, 0, 0, 0, 0, 0, 0, 0, 0, 0, 0, 0, 0,...</td>\n",
       "      <td>[[0.4370482990231978, 0.4370482990231978, 0.43...</td>\n",
       "      <td>[[0.16602325274719645, 0.16616927747663332, 0....</td>\n",
       "    </tr>\n",
       "    <tr>\n",
       "      <th>1710</th>\n",
       "      <td>2017-12-29</td>\n",
       "      <td>CA-VNC-103156_Thomas</td>\n",
       "      <td>[[0, 0, 0, 0, 0, 0, 0, 0, 0, 0, 0, 0, 0, 0, 0,...</td>\n",
       "      <td>[[0.4370482990231978, 0.4370482990231978, 0.43...</td>\n",
       "      <td>[[0.16602325274719645, 0.16616927747663332, 0....</td>\n",
       "    </tr>\n",
       "    <tr>\n",
       "      <th>1711</th>\n",
       "      <td>2017-12-30</td>\n",
       "      <td>CA-VNC-103156_Thomas</td>\n",
       "      <td>[[0, 0, 0, 0, 0, 0, 0, 0, 0, 0, 0, 0, 0, 0, 0,...</td>\n",
       "      <td>[[0.4370482990231978, 0.4370482990231978, 0.43...</td>\n",
       "      <td>[[0.16602325274719645, 0.16616927747663332, 0....</td>\n",
       "    </tr>\n",
       "    <tr>\n",
       "      <th>1712</th>\n",
       "      <td>2017-12-31</td>\n",
       "      <td>CA-VNC-103156_Thomas</td>\n",
       "      <td>[[0, 0, 0, 0, 0, 0, 0, 0, 0, 0, 0, 0, 0, 0, 0,...</td>\n",
       "      <td>[[0.4370482990231978, 0.4370482990231978, 0.43...</td>\n",
       "      <td>[[0.16602325274719645, 0.16616927747663332, 0....</td>\n",
       "    </tr>\n",
       "  </tbody>\n",
       "</table>\n",
       "<p>1713 rows × 5 columns</p>\n",
       "</div>"
      ],
      "text/plain": [
       "           date                  name  \\\n",
       "0    2015-09-10   CA-AEU-024918_Butte   \n",
       "1    2015-09-11   CA-AEU-024918_Butte   \n",
       "2    2015-09-12   CA-AEU-024918_Butte   \n",
       "3    2015-09-13   CA-AEU-024918_Butte   \n",
       "4    2015-09-15   CA-AEU-024918_Butte   \n",
       "...         ...                   ...   \n",
       "1708 2017-12-27  CA-VNC-103156_Thomas   \n",
       "1709 2017-12-28  CA-VNC-103156_Thomas   \n",
       "1710 2017-12-29  CA-VNC-103156_Thomas   \n",
       "1711 2017-12-30  CA-VNC-103156_Thomas   \n",
       "1712 2017-12-31  CA-VNC-103156_Thomas   \n",
       "\n",
       "                                                   fire  \\\n",
       "0     [[0, 0, 0, 0, 0, 0, 0, 0, 0, 0, 0, 0, 0, 0, 0,...   \n",
       "1     [[0, 0, 0, 0, 0, 0, 0, 0, 0, 0, 0, 0, 0, 0, 0,...   \n",
       "2     [[0, 0, 0, 0, 0, 0, 0, 0, 0, 0, 0, 0, 0, 0, 0,...   \n",
       "3     [[0, 0, 0, 0, 0, 0, 0, 0, 0, 0, 0, 0, 0, 0, 0,...   \n",
       "4     [[0, 0, 0, 0, 0, 0, 0, 0, 0, 0, 0, 0, 0, 0, 0,...   \n",
       "...                                                 ...   \n",
       "1708  [[0, 0, 0, 0, 0, 0, 0, 0, 0, 0, 0, 0, 0, 0, 0,...   \n",
       "1709  [[0, 0, 0, 0, 0, 0, 0, 0, 0, 0, 0, 0, 0, 0, 0,...   \n",
       "1710  [[0, 0, 0, 0, 0, 0, 0, 0, 0, 0, 0, 0, 0, 0, 0,...   \n",
       "1711  [[0, 0, 0, 0, 0, 0, 0, 0, 0, 0, 0, 0, 0, 0, 0,...   \n",
       "1712  [[0, 0, 0, 0, 0, 0, 0, 0, 0, 0, 0, 0, 0, 0, 0,...   \n",
       "\n",
       "                                                      x  \\\n",
       "0     [[0.4259604518162617, 0.4259604518162617, 0.42...   \n",
       "1     [[0.4259604518162617, 0.4259604518162617, 0.42...   \n",
       "2     [[0.4259604518162617, 0.4259604518162617, 0.42...   \n",
       "3     [[0.4259604518162617, 0.4259604518162617, 0.42...   \n",
       "4     [[0.4259604518162617, 0.4259604518162617, 0.42...   \n",
       "...                                                 ...   \n",
       "1708  [[0.4370482990231978, 0.4370482990231978, 0.43...   \n",
       "1709  [[0.4370482990231978, 0.4370482990231978, 0.43...   \n",
       "1710  [[0.4370482990231978, 0.4370482990231978, 0.43...   \n",
       "1711  [[0.4370482990231978, 0.4370482990231978, 0.43...   \n",
       "1712  [[0.4370482990231978, 0.4370482990231978, 0.43...   \n",
       "\n",
       "                                                      y  \n",
       "0     [[0.23055654552615254, 0.2307025702555894, 0.2...  \n",
       "1     [[0.23055654552615254, 0.2307025702555894, 0.2...  \n",
       "2     [[0.23055654552615254, 0.2307025702555894, 0.2...  \n",
       "3     [[0.23055654552615254, 0.2307025702555894, 0.2...  \n",
       "4     [[0.23055654552615254, 0.2307025702555894, 0.2...  \n",
       "...                                                 ...  \n",
       "1708  [[0.16602325274719645, 0.16616927747663332, 0....  \n",
       "1709  [[0.16602325274719645, 0.16616927747663332, 0....  \n",
       "1710  [[0.16602325274719645, 0.16616927747663332, 0....  \n",
       "1711  [[0.16602325274719645, 0.16616927747663332, 0....  \n",
       "1712  [[0.16602325274719645, 0.16616927747663332, 0....  \n",
       "\n",
       "[1713 rows x 5 columns]"
      ]
     },
     "execution_count": 116,
     "metadata": {},
     "output_type": "execute_result"
    }
   ],
   "source": [
    "df = pd.DataFrame(all_data, columns=['date', 'name', 'fire', 'x', 'y'])\n",
    "df.to_pickle(\"./all_df.pkl\")\n",
    "df"
   ]
  },
  {
   "cell_type": "code",
   "execution_count": 497,
   "id": "a1683fd9",
   "metadata": {
    "ExecuteTime": {
     "end_time": "2022-12-03T20:58:21.614088Z",
     "start_time": "2022-12-03T20:58:18.365439Z"
    }
   },
   "outputs": [],
   "source": [
    "days = [2, 4, 6]\n",
    "\n",
    "data = []\n",
    "label = []\n",
    "for i in range(len(df)):\n",
    "    row = df.iloc[i]\n",
    "    \n",
    "    fire = np.asarray(row['fire'])\n",
    "    x_grid = np.asarray(row['y'])\n",
    "    y_grid = np.asarray(row['y'])\n",
    "    \n",
    "    good = True\n",
    "    \n",
    "    fire_future = []\n",
    "    for k in days:\n",
    "        temp = df[(df['date'] == row['date'] + timedelta(days=k)) & (df['name'] == row['name'])]\n",
    "        if len(temp) == 0:\n",
    "            good = False\n",
    "            break\n",
    "        fire_future.append(temp['fire'].iloc[0])\n",
    "        \n",
    "    if not good:\n",
    "        continue\n",
    "        \n",
    "    data += [[fire] * len(days)]\n",
    "    label.append(np.asarray(fire_future).flatten())\n",
    "    \n",
    "data = np.asarray(data)\n",
    "label = np.asarray(label)"
   ]
  },
  {
   "cell_type": "code",
   "execution_count": 498,
   "id": "a93d8465",
   "metadata": {
    "ExecuteTime": {
     "end_time": "2022-12-03T20:58:23.340225Z",
     "start_time": "2022-12-03T20:58:23.334303Z"
    }
   },
   "outputs": [
    {
     "name": "stdout",
     "output_type": "stream",
     "text": [
      "(1040, 3, 40, 40) (1040, 4800)\n"
     ]
    }
   ],
   "source": [
    "print(data.shape, label.shape)"
   ]
  },
  {
   "cell_type": "code",
   "execution_count": 557,
   "id": "b2177388",
   "metadata": {
    "ExecuteTime": {
     "end_time": "2022-12-03T21:24:41.641026Z",
     "start_time": "2022-12-03T21:24:41.608722Z"
    }
   },
   "outputs": [],
   "source": [
    "X_train, X_test, y_train, y_test = train_test_split(data, label, test_size=0.20)"
   ]
  },
  {
   "cell_type": "code",
   "execution_count": 572,
   "id": "0ae249bc",
   "metadata": {
    "ExecuteTime": {
     "end_time": "2022-12-03T21:42:25.188131Z",
     "start_time": "2022-12-03T21:42:25.091502Z"
    }
   },
   "outputs": [
    {
     "name": "stdout",
     "output_type": "stream",
     "text": [
      "Model: \"sequential_120\"\n",
      "_________________________________________________________________\n",
      " Layer (type)                Output Shape              Param #   \n",
      "=================================================================\n",
      " dense_207 (Dense)           (None, 3, 40, 100)        4100      \n",
      "                                                                 \n",
      " flatten_62 (Flatten)        (None, 12000)             0         \n",
      "                                                                 \n",
      " dense_208 (Dense)           (None, 400)               4800400   \n",
      "                                                                 \n",
      " dense_209 (Dense)           (None, 4800)              1924800   \n",
      "                                                                 \n",
      "=================================================================\n",
      "Total params: 6,729,300\n",
      "Trainable params: 6,729,300\n",
      "Non-trainable params: 0\n",
      "_________________________________________________________________\n"
     ]
    }
   ],
   "source": [
    "model = Sequential()\n",
    "\n",
    "model.add(Dense(units=100, input_shape=(len(days), diam, diam), activation='relu'))\n",
    "model.add(Flatten())\n",
    "model.add(Dense(units=400, activation='relu'))\n",
    "model.add(Dense(units=diam ** 2 * len(days), activation='sigmoid'))\n",
    "\n",
    "# model.add(ConvLSTM2D(8, (3, 3), padding='valid', input_shape=(len(days), diam, diam, 1), return_sequences=True))\n",
    "# model.add(Activation('relu'))\n",
    "# # model.add(MaxPooling3D(pool_size=(1, 2, 2)))\n",
    "\n",
    "# model.add(ConvLSTM2D(8, (3, 3), padding='valid', return_sequences=True))\n",
    "# model.add(Activation('relu'))\n",
    "# model.add(MaxPooling3D(pool_size=(1, 2, 2)))\n",
    "\n",
    "# # model.add(ConvLSTM2D(8, (6, 6), padding='valid', return_sequences=True, input_shape=(3, diam, diam)))\n",
    "# # model.add(Activation('relu'))\n",
    "\n",
    "# # model.add(ConvLSTM2D(32, (4, 4), padding='valid', return_sequences=True))\n",
    "# # model.add(Activation('relu'))\n",
    "# # model.add(MaxPooling3D(pool_size=(1, 2, 2)))\n",
    "\n",
    "# model.add(Flatten())\n",
    "\n",
    "# model.add(Dense(units=600, activation='relu'))\n",
    "# model.add(Dense(units=600, activation='relu'))\n",
    "# model.add(Dense(units=diam ** 2 * len(days), activation='sigmoid'))\n",
    "\n",
    "model.summary()"
   ]
  },
  {
   "cell_type": "code",
   "execution_count": 573,
   "id": "9f12c5df",
   "metadata": {
    "ExecuteTime": {
     "end_time": "2022-12-03T21:42:27.493705Z",
     "start_time": "2022-12-03T21:42:27.463348Z"
    }
   },
   "outputs": [],
   "source": [
    "model.compile(optimizer=Adam(), loss='mean_squared_error', metrics=[BinaryAccuracy(), Precision(), Recall(), PrecisionAtRecall(0.2), RecallAtPrecision(0.2)])"
   ]
  },
  {
   "cell_type": "code",
   "execution_count": 577,
   "id": "88483d9b",
   "metadata": {
    "ExecuteTime": {
     "end_time": "2022-12-03T21:45:43.039591Z",
     "start_time": "2022-12-03T21:43:32.688806Z"
    }
   },
   "outputs": [
    {
     "name": "stdout",
     "output_type": "stream",
     "text": [
      "Epoch 1/50\n",
      "133/133 [==============================] - 4s 29ms/step - loss: 0.0211 - binary_accuracy: 0.9744 - precision_15: 0.9363 - recall_11: 0.8995 - precision_at_recall_10: 0.9858 - recall_at_precision_10: 0.9796 - val_loss: 0.0137 - val_binary_accuracy: 0.9838 - val_precision_15: 0.9619 - val_recall_11: 0.9382 - val_precision_at_recall_10: 0.9885 - val_recall_at_precision_10: 0.9851\n",
      "Epoch 2/50\n",
      "133/133 [==============================] - 4s 30ms/step - loss: 0.0138 - binary_accuracy: 0.9836 - precision_15: 0.9576 - recall_11: 0.9379 - precision_at_recall_10: 0.9921 - recall_at_precision_10: 0.9861 - val_loss: 0.0167 - val_binary_accuracy: 0.9793 - val_precision_15: 0.9601 - val_recall_11: 0.9111 - val_precision_at_recall_10: 0.9879 - val_recall_at_precision_10: 0.9905\n",
      "Epoch 3/50\n",
      "133/133 [==============================] - 5s 35ms/step - loss: 0.0114 - binary_accuracy: 0.9864 - precision_15: 0.9658 - recall_11: 0.9473 - precision_at_recall_10: 0.9937 - recall_at_precision_10: 0.9899 - val_loss: 0.0108 - val_binary_accuracy: 0.9871 - val_precision_15: 0.9688 - val_recall_11: 0.9519 - val_precision_at_recall_10: 0.9891 - val_recall_at_precision_10: 0.9902\n",
      "Epoch 4/50\n",
      "133/133 [==============================] - 5s 41ms/step - loss: 0.0096 - binary_accuracy: 0.9890 - precision_15: 0.9757 - recall_11: 0.9541 - precision_at_recall_10: 0.9948 - recall_at_precision_10: 0.9895 - val_loss: 0.0107 - val_binary_accuracy: 0.9872 - val_precision_15: 0.9741 - val_recall_11: 0.9470 - val_precision_at_recall_10: 0.9896 - val_recall_at_precision_10: 0.9886\n",
      "Epoch 5/50\n",
      "133/133 [==============================] - 5s 41ms/step - loss: 0.0086 - binary_accuracy: 0.9902 - precision_15: 0.9797 - recall_11: 0.9577 - precision_at_recall_10: 0.9957 - recall_at_precision_10: 0.9915 - val_loss: 0.0111 - val_binary_accuracy: 0.9868 - val_precision_15: 0.9746 - val_recall_11: 0.9439 - val_precision_at_recall_10: 0.9899 - val_recall_at_precision_10: 0.9879\n",
      "Epoch 6/50\n",
      "133/133 [==============================] - 5s 38ms/step - loss: 0.0082 - binary_accuracy: 0.9906 - precision_15: 0.9788 - recall_11: 0.9611 - precision_at_recall_10: 0.9964 - recall_at_precision_10: 0.9911 - val_loss: 0.0107 - val_binary_accuracy: 0.9873 - val_precision_15: 0.9706 - val_recall_11: 0.9510 - val_precision_at_recall_10: 0.9901 - val_recall_at_precision_10: 0.9908\n",
      "Epoch 7/50\n",
      "133/133 [==============================] - 5s 35ms/step - loss: 0.0077 - binary_accuracy: 0.9913 - precision_15: 0.9826 - recall_11: 0.9618 - precision_at_recall_10: 0.9969 - recall_at_precision_10: 0.9917 - val_loss: 0.0096 - val_binary_accuracy: 0.9886 - val_precision_15: 0.9707 - val_recall_11: 0.9590 - val_precision_at_recall_10: 0.9904 - val_recall_at_precision_10: 0.9920\n",
      "Epoch 8/50\n",
      "133/133 [==============================] - 4s 31ms/step - loss: 0.0073 - binary_accuracy: 0.9918 - precision_15: 0.9833 - recall_11: 0.9643 - precision_at_recall_10: 0.9963 - recall_at_precision_10: 0.9921 - val_loss: 0.0102 - val_binary_accuracy: 0.9881 - val_precision_15: 0.9715 - val_recall_11: 0.9551 - val_precision_at_recall_10: 0.9887 - val_recall_at_precision_10: 0.9900\n",
      "Epoch 9/50\n",
      "133/133 [==============================] - 4s 33ms/step - loss: 0.0072 - binary_accuracy: 0.9919 - precision_15: 0.9851 - recall_11: 0.9633 - precision_at_recall_10: 0.9970 - recall_at_precision_10: 0.9919 - val_loss: 0.0096 - val_binary_accuracy: 0.9885 - val_precision_15: 0.9723 - val_recall_11: 0.9570 - val_precision_at_recall_10: 0.9900 - val_recall_at_precision_10: 0.9911\n",
      "Epoch 10/50\n",
      "133/133 [==============================] - 4s 33ms/step - loss: 0.0068 - binary_accuracy: 0.9924 - precision_15: 0.9853 - recall_11: 0.9663 - precision_at_recall_10: 0.9975 - recall_at_precision_10: 0.9913 - val_loss: 0.0099 - val_binary_accuracy: 0.9884 - val_precision_15: 0.9737 - val_recall_11: 0.9546 - val_precision_at_recall_10: 0.9892 - val_recall_at_precision_10: 0.9905\n",
      "Epoch 11/50\n",
      "133/133 [==============================] - 5s 37ms/step - loss: 0.0067 - binary_accuracy: 0.9926 - precision_15: 0.9868 - recall_11: 0.9663 - precision_at_recall_10: 0.9974 - recall_at_precision_10: 0.9917 - val_loss: 0.0096 - val_binary_accuracy: 0.9889 - val_precision_15: 0.9703 - val_recall_11: 0.9613 - val_precision_at_recall_10: 0.9892 - val_recall_at_precision_10: 0.9932\n",
      "Epoch 12/50\n",
      "133/133 [==============================] - 5s 37ms/step - loss: 0.0063 - binary_accuracy: 0.9930 - precision_15: 0.9875 - recall_11: 0.9679 - precision_at_recall_10: 0.9976 - recall_at_precision_10: 0.9925 - val_loss: 0.0091 - val_binary_accuracy: 0.9892 - val_precision_15: 0.9716 - val_recall_11: 0.9619 - val_precision_at_recall_10: 0.9893 - val_recall_at_precision_10: 0.9914\n",
      "Epoch 13/50\n",
      "133/133 [==============================] - 5s 37ms/step - loss: 0.0062 - binary_accuracy: 0.9931 - precision_15: 0.9872 - recall_11: 0.9686 - precision_at_recall_10: 0.9978 - recall_at_precision_10: 0.9924 - val_loss: 0.0095 - val_binary_accuracy: 0.9886 - val_precision_15: 0.9670 - val_recall_11: 0.9633 - val_precision_at_recall_10: 0.9897 - val_recall_at_precision_10: 0.9917\n",
      "Epoch 14/50\n",
      "133/133 [==============================] - 5s 36ms/step - loss: 0.0063 - binary_accuracy: 0.9930 - precision_15: 0.9865 - recall_11: 0.9692 - precision_at_recall_10: 0.9970 - recall_at_precision_10: 0.9928 - val_loss: 0.0099 - val_binary_accuracy: 0.9885 - val_precision_15: 0.9717 - val_recall_11: 0.9575 - val_precision_at_recall_10: 0.9892 - val_recall_at_precision_10: 0.9903\n",
      "Epoch 15/50\n",
      "133/133 [==============================] - 4s 30ms/step - loss: 0.0058 - binary_accuracy: 0.9936 - precision_15: 0.9893 - recall_11: 0.9699 - precision_at_recall_10: 0.9982 - recall_at_precision_10: 0.9925 - val_loss: 0.0096 - val_binary_accuracy: 0.9888 - val_precision_15: 0.9722 - val_recall_11: 0.9587 - val_precision_at_recall_10: 0.9902 - val_recall_at_precision_10: 0.9918\n",
      "Epoch 16/50\n",
      "133/133 [==============================] - 4s 29ms/step - loss: 0.0057 - binary_accuracy: 0.9937 - precision_15: 0.9881 - recall_11: 0.9716 - precision_at_recall_10: 0.9982 - recall_at_precision_10: 0.9945 - val_loss: 0.0094 - val_binary_accuracy: 0.9889 - val_precision_15: 0.9740 - val_recall_11: 0.9579 - val_precision_at_recall_10: 0.9901 - val_recall_at_precision_10: 0.9902\n",
      "Epoch 17/50\n",
      "133/133 [==============================] - 4s 29ms/step - loss: 0.0053 - binary_accuracy: 0.9941 - precision_15: 0.9905 - recall_11: 0.9722 - precision_at_recall_10: 0.9984 - recall_at_precision_10: 0.9942 - val_loss: 0.0094 - val_binary_accuracy: 0.9890 - val_precision_15: 0.9740 - val_recall_11: 0.9584 - val_precision_at_recall_10: 0.9894 - val_recall_at_precision_10: 0.9897\n",
      "Epoch 18/50\n",
      "133/133 [==============================] - 4s 29ms/step - loss: 0.0053 - binary_accuracy: 0.9942 - precision_15: 0.9905 - recall_11: 0.9726 - precision_at_recall_10: 0.9983 - recall_at_precision_10: 0.9938 - val_loss: 0.0096 - val_binary_accuracy: 0.9889 - val_precision_15: 0.9671 - val_recall_11: 0.9652 - val_precision_at_recall_10: 0.9886 - val_recall_at_precision_10: 0.9929\n",
      "Epoch 19/50\n",
      "133/133 [==============================] - 4s 30ms/step - loss: 0.0051 - binary_accuracy: 0.9944 - precision_15: 0.9915 - recall_11: 0.9728 - precision_at_recall_10: 0.9986 - recall_at_precision_10: 0.9940 - val_loss: 0.0094 - val_binary_accuracy: 0.9890 - val_precision_15: 0.9717 - val_recall_11: 0.9606 - val_precision_at_recall_10: 0.9887 - val_recall_at_precision_10: 0.9901\n",
      "Epoch 20/50\n",
      "133/133 [==============================] - 4s 30ms/step - loss: 0.0049 - binary_accuracy: 0.9947 - precision_15: 0.9916 - recall_11: 0.9748 - precision_at_recall_10: 0.9983 - recall_at_precision_10: 0.9943 - val_loss: 0.0095 - val_binary_accuracy: 0.9890 - val_precision_15: 0.9713 - val_recall_11: 0.9611 - val_precision_at_recall_10: 0.9881 - val_recall_at_precision_10: 0.9917\n",
      "Epoch 21/50\n",
      "133/133 [==============================] - 4s 32ms/step - loss: 0.0047 - binary_accuracy: 0.9948 - precision_15: 0.9924 - recall_11: 0.9744 - precision_at_recall_10: 0.9985 - recall_at_precision_10: 0.9950 - val_loss: 0.0095 - val_binary_accuracy: 0.9889 - val_precision_15: 0.9705 - val_recall_11: 0.9613 - val_precision_at_recall_10: 0.9886 - val_recall_at_precision_10: 0.9894\n"
     ]
    },
    {
     "name": "stdout",
     "output_type": "stream",
     "text": [
      "Epoch 22/50\n",
      "133/133 [==============================] - 5s 34ms/step - loss: 0.0045 - binary_accuracy: 0.9951 - precision_15: 0.9933 - recall_11: 0.9754 - precision_at_recall_10: 0.9987 - recall_at_precision_10: 0.9952 - val_loss: 0.0097 - val_binary_accuracy: 0.9888 - val_precision_15: 0.9697 - val_recall_11: 0.9613 - val_precision_at_recall_10: 0.9888 - val_recall_at_precision_10: 0.9895\n",
      "Epoch 23/50\n",
      "133/133 [==============================] - 5s 35ms/step - loss: 0.0047 - binary_accuracy: 0.9947 - precision_15: 0.9917 - recall_11: 0.9747 - precision_at_recall_10: 0.9987 - recall_at_precision_10: 0.9951 - val_loss: 0.0096 - val_binary_accuracy: 0.9889 - val_precision_15: 0.9674 - val_recall_11: 0.9647 - val_precision_at_recall_10: 0.9879 - val_recall_at_precision_10: 0.9927\n",
      "Epoch 24/50\n",
      "133/133 [==============================] - 5s 35ms/step - loss: 0.0046 - binary_accuracy: 0.9949 - precision_15: 0.9926 - recall_11: 0.9750 - precision_at_recall_10: 0.9986 - recall_at_precision_10: 0.9958 - val_loss: 0.0093 - val_binary_accuracy: 0.9891 - val_precision_15: 0.9708 - val_recall_11: 0.9625 - val_precision_at_recall_10: 0.9883 - val_recall_at_precision_10: 0.9901\n",
      "Epoch 25/50\n",
      "133/133 [==============================] - 4s 33ms/step - loss: 0.0044 - binary_accuracy: 0.9952 - precision_15: 0.9941 - recall_11: 0.9753 - precision_at_recall_10: 0.9987 - recall_at_precision_10: 0.9956 - val_loss: 0.0095 - val_binary_accuracy: 0.9889 - val_precision_15: 0.9689 - val_recall_11: 0.9633 - val_precision_at_recall_10: 0.9880 - val_recall_at_precision_10: 0.9904\n",
      "Epoch 26/50\n",
      "133/133 [==============================] - 4s 33ms/step - loss: 0.0043 - binary_accuracy: 0.9952 - precision_15: 0.9932 - recall_11: 0.9764 - precision_at_recall_10: 0.9987 - recall_at_precision_10: 0.9958 - val_loss: 0.0093 - val_binary_accuracy: 0.9890 - val_precision_15: 0.9649 - val_recall_11: 0.9679 - val_precision_at_recall_10: 0.9880 - val_recall_at_precision_10: 0.9917\n",
      "Epoch 27/50\n",
      "133/133 [==============================] - 4s 34ms/step - loss: 0.0043 - binary_accuracy: 0.9952 - precision_15: 0.9932 - recall_11: 0.9765 - precision_at_recall_10: 0.9988 - recall_at_precision_10: 0.9949 - val_loss: 0.0092 - val_binary_accuracy: 0.9893 - val_precision_15: 0.9689 - val_recall_11: 0.9653 - val_precision_at_recall_10: 0.9882 - val_recall_at_precision_10: 0.9912\n",
      "Epoch 28/50\n",
      "133/133 [==============================] - 5s 35ms/step - loss: 0.0042 - binary_accuracy: 0.9953 - precision_15: 0.9929 - recall_11: 0.9770 - precision_at_recall_10: 0.9987 - recall_at_precision_10: 0.9952 - val_loss: 0.0103 - val_binary_accuracy: 0.9883 - val_precision_15: 0.9613 - val_recall_11: 0.9674 - val_precision_at_recall_10: 0.9865 - val_recall_at_precision_10: 0.9925\n",
      "Epoch 29/50\n",
      "133/133 [==============================] - 5s 35ms/step - loss: 0.0043 - binary_accuracy: 0.9953 - precision_15: 0.9933 - recall_11: 0.9769 - precision_at_recall_10: 0.9987 - recall_at_precision_10: 0.9946 - val_loss: 0.0096 - val_binary_accuracy: 0.9889 - val_precision_15: 0.9678 - val_recall_11: 0.9642 - val_precision_at_recall_10: 0.9874 - val_recall_at_precision_10: 0.9898\n",
      "Epoch 30/50\n",
      " 15/133 [==>...........................] - ETA: 3s - loss: 0.0019 - binary_accuracy: 0.9979 - precision_15: 0.9962 - recall_11: 0.9902 - precision_at_recall_10: 0.9986 - recall_at_precision_10: 0.9966"
     ]
    },
    {
     "ename": "KeyboardInterrupt",
     "evalue": "",
     "output_type": "error",
     "traceback": [
      "\u001b[0;31m---------------------------------------------------------------------------\u001b[0m",
      "\u001b[0;31mKeyboardInterrupt\u001b[0m                         Traceback (most recent call last)",
      "Cell \u001b[0;32mIn [577], line 1\u001b[0m\n\u001b[0;32m----> 1\u001b[0m \u001b[43mmodel\u001b[49m\u001b[38;5;241;43m.\u001b[39;49m\u001b[43mfit\u001b[49m\u001b[43m(\u001b[49m\u001b[43mX_train\u001b[49m\u001b[43m,\u001b[49m\u001b[43m \u001b[49m\u001b[43my_train\u001b[49m\u001b[43m,\u001b[49m\u001b[43m \u001b[49m\u001b[43mbatch_size\u001b[49m\u001b[38;5;241;43m=\u001b[39;49m\u001b[38;5;241;43m5\u001b[39;49m\u001b[43m,\u001b[49m\u001b[43m \u001b[49m\u001b[43mepochs\u001b[49m\u001b[38;5;241;43m=\u001b[39;49m\u001b[38;5;241;43m50\u001b[39;49m\u001b[43m,\u001b[49m\u001b[43m \u001b[49m\u001b[43mvalidation_split\u001b[49m\u001b[38;5;241;43m=\u001b[39;49m\u001b[38;5;241;43m0.2\u001b[39;49m\u001b[43m)\u001b[49m\n",
      "File \u001b[0;32m~/Desktop/CS 3300/Project 2/prediction/venv/lib/python3.8/site-packages/keras/utils/traceback_utils.py:65\u001b[0m, in \u001b[0;36mfilter_traceback.<locals>.error_handler\u001b[0;34m(*args, **kwargs)\u001b[0m\n\u001b[1;32m     63\u001b[0m filtered_tb \u001b[38;5;241m=\u001b[39m \u001b[38;5;28;01mNone\u001b[39;00m\n\u001b[1;32m     64\u001b[0m \u001b[38;5;28;01mtry\u001b[39;00m:\n\u001b[0;32m---> 65\u001b[0m     \u001b[38;5;28;01mreturn\u001b[39;00m \u001b[43mfn\u001b[49m\u001b[43m(\u001b[49m\u001b[38;5;241;43m*\u001b[39;49m\u001b[43margs\u001b[49m\u001b[43m,\u001b[49m\u001b[43m \u001b[49m\u001b[38;5;241;43m*\u001b[39;49m\u001b[38;5;241;43m*\u001b[39;49m\u001b[43mkwargs\u001b[49m\u001b[43m)\u001b[49m\n\u001b[1;32m     66\u001b[0m \u001b[38;5;28;01mexcept\u001b[39;00m \u001b[38;5;167;01mException\u001b[39;00m \u001b[38;5;28;01mas\u001b[39;00m e:\n\u001b[1;32m     67\u001b[0m     filtered_tb \u001b[38;5;241m=\u001b[39m _process_traceback_frames(e\u001b[38;5;241m.\u001b[39m__traceback__)\n",
      "File \u001b[0;32m~/Desktop/CS 3300/Project 2/prediction/venv/lib/python3.8/site-packages/keras/engine/training.py:1564\u001b[0m, in \u001b[0;36mModel.fit\u001b[0;34m(self, x, y, batch_size, epochs, verbose, callbacks, validation_split, validation_data, shuffle, class_weight, sample_weight, initial_epoch, steps_per_epoch, validation_steps, validation_batch_size, validation_freq, max_queue_size, workers, use_multiprocessing)\u001b[0m\n\u001b[1;32m   1556\u001b[0m \u001b[38;5;28;01mwith\u001b[39;00m tf\u001b[38;5;241m.\u001b[39mprofiler\u001b[38;5;241m.\u001b[39mexperimental\u001b[38;5;241m.\u001b[39mTrace(\n\u001b[1;32m   1557\u001b[0m     \u001b[38;5;124m\"\u001b[39m\u001b[38;5;124mtrain\u001b[39m\u001b[38;5;124m\"\u001b[39m,\n\u001b[1;32m   1558\u001b[0m     epoch_num\u001b[38;5;241m=\u001b[39mepoch,\n\u001b[0;32m   (...)\u001b[0m\n\u001b[1;32m   1561\u001b[0m     _r\u001b[38;5;241m=\u001b[39m\u001b[38;5;241m1\u001b[39m,\n\u001b[1;32m   1562\u001b[0m ):\n\u001b[1;32m   1563\u001b[0m     callbacks\u001b[38;5;241m.\u001b[39mon_train_batch_begin(step)\n\u001b[0;32m-> 1564\u001b[0m     tmp_logs \u001b[38;5;241m=\u001b[39m \u001b[38;5;28;43mself\u001b[39;49m\u001b[38;5;241;43m.\u001b[39;49m\u001b[43mtrain_function\u001b[49m\u001b[43m(\u001b[49m\u001b[43miterator\u001b[49m\u001b[43m)\u001b[49m\n\u001b[1;32m   1565\u001b[0m     \u001b[38;5;28;01mif\u001b[39;00m data_handler\u001b[38;5;241m.\u001b[39mshould_sync:\n\u001b[1;32m   1566\u001b[0m         context\u001b[38;5;241m.\u001b[39masync_wait()\n",
      "File \u001b[0;32m~/Desktop/CS 3300/Project 2/prediction/venv/lib/python3.8/site-packages/tensorflow/python/util/traceback_utils.py:150\u001b[0m, in \u001b[0;36mfilter_traceback.<locals>.error_handler\u001b[0;34m(*args, **kwargs)\u001b[0m\n\u001b[1;32m    148\u001b[0m filtered_tb \u001b[38;5;241m=\u001b[39m \u001b[38;5;28;01mNone\u001b[39;00m\n\u001b[1;32m    149\u001b[0m \u001b[38;5;28;01mtry\u001b[39;00m:\n\u001b[0;32m--> 150\u001b[0m   \u001b[38;5;28;01mreturn\u001b[39;00m \u001b[43mfn\u001b[49m\u001b[43m(\u001b[49m\u001b[38;5;241;43m*\u001b[39;49m\u001b[43margs\u001b[49m\u001b[43m,\u001b[49m\u001b[43m \u001b[49m\u001b[38;5;241;43m*\u001b[39;49m\u001b[38;5;241;43m*\u001b[39;49m\u001b[43mkwargs\u001b[49m\u001b[43m)\u001b[49m\n\u001b[1;32m    151\u001b[0m \u001b[38;5;28;01mexcept\u001b[39;00m \u001b[38;5;167;01mException\u001b[39;00m \u001b[38;5;28;01mas\u001b[39;00m e:\n\u001b[1;32m    152\u001b[0m   filtered_tb \u001b[38;5;241m=\u001b[39m _process_traceback_frames(e\u001b[38;5;241m.\u001b[39m__traceback__)\n",
      "File \u001b[0;32m~/Desktop/CS 3300/Project 2/prediction/venv/lib/python3.8/site-packages/tensorflow/python/eager/def_function.py:915\u001b[0m, in \u001b[0;36mFunction.__call__\u001b[0;34m(self, *args, **kwds)\u001b[0m\n\u001b[1;32m    912\u001b[0m compiler \u001b[38;5;241m=\u001b[39m \u001b[38;5;124m\"\u001b[39m\u001b[38;5;124mxla\u001b[39m\u001b[38;5;124m\"\u001b[39m \u001b[38;5;28;01mif\u001b[39;00m \u001b[38;5;28mself\u001b[39m\u001b[38;5;241m.\u001b[39m_jit_compile \u001b[38;5;28;01melse\u001b[39;00m \u001b[38;5;124m\"\u001b[39m\u001b[38;5;124mnonXla\u001b[39m\u001b[38;5;124m\"\u001b[39m\n\u001b[1;32m    914\u001b[0m \u001b[38;5;28;01mwith\u001b[39;00m OptionalXlaContext(\u001b[38;5;28mself\u001b[39m\u001b[38;5;241m.\u001b[39m_jit_compile):\n\u001b[0;32m--> 915\u001b[0m   result \u001b[38;5;241m=\u001b[39m \u001b[38;5;28;43mself\u001b[39;49m\u001b[38;5;241;43m.\u001b[39;49m\u001b[43m_call\u001b[49m\u001b[43m(\u001b[49m\u001b[38;5;241;43m*\u001b[39;49m\u001b[43margs\u001b[49m\u001b[43m,\u001b[49m\u001b[43m \u001b[49m\u001b[38;5;241;43m*\u001b[39;49m\u001b[38;5;241;43m*\u001b[39;49m\u001b[43mkwds\u001b[49m\u001b[43m)\u001b[49m\n\u001b[1;32m    917\u001b[0m new_tracing_count \u001b[38;5;241m=\u001b[39m \u001b[38;5;28mself\u001b[39m\u001b[38;5;241m.\u001b[39mexperimental_get_tracing_count()\n\u001b[1;32m    918\u001b[0m without_tracing \u001b[38;5;241m=\u001b[39m (tracing_count \u001b[38;5;241m==\u001b[39m new_tracing_count)\n",
      "File \u001b[0;32m~/Desktop/CS 3300/Project 2/prediction/venv/lib/python3.8/site-packages/tensorflow/python/eager/def_function.py:947\u001b[0m, in \u001b[0;36mFunction._call\u001b[0;34m(self, *args, **kwds)\u001b[0m\n\u001b[1;32m    944\u001b[0m   \u001b[38;5;28mself\u001b[39m\u001b[38;5;241m.\u001b[39m_lock\u001b[38;5;241m.\u001b[39mrelease()\n\u001b[1;32m    945\u001b[0m   \u001b[38;5;66;03m# In this case we have created variables on the first call, so we run the\u001b[39;00m\n\u001b[1;32m    946\u001b[0m   \u001b[38;5;66;03m# defunned version which is guaranteed to never create variables.\u001b[39;00m\n\u001b[0;32m--> 947\u001b[0m   \u001b[38;5;28;01mreturn\u001b[39;00m \u001b[38;5;28;43mself\u001b[39;49m\u001b[38;5;241;43m.\u001b[39;49m\u001b[43m_stateless_fn\u001b[49m\u001b[43m(\u001b[49m\u001b[38;5;241;43m*\u001b[39;49m\u001b[43margs\u001b[49m\u001b[43m,\u001b[49m\u001b[43m \u001b[49m\u001b[38;5;241;43m*\u001b[39;49m\u001b[38;5;241;43m*\u001b[39;49m\u001b[43mkwds\u001b[49m\u001b[43m)\u001b[49m  \u001b[38;5;66;03m# pylint: disable=not-callable\u001b[39;00m\n\u001b[1;32m    948\u001b[0m \u001b[38;5;28;01melif\u001b[39;00m \u001b[38;5;28mself\u001b[39m\u001b[38;5;241m.\u001b[39m_stateful_fn \u001b[38;5;129;01mis\u001b[39;00m \u001b[38;5;129;01mnot\u001b[39;00m \u001b[38;5;28;01mNone\u001b[39;00m:\n\u001b[1;32m    949\u001b[0m   \u001b[38;5;66;03m# Release the lock early so that multiple threads can perform the call\u001b[39;00m\n\u001b[1;32m    950\u001b[0m   \u001b[38;5;66;03m# in parallel.\u001b[39;00m\n\u001b[1;32m    951\u001b[0m   \u001b[38;5;28mself\u001b[39m\u001b[38;5;241m.\u001b[39m_lock\u001b[38;5;241m.\u001b[39mrelease()\n",
      "File \u001b[0;32m~/Desktop/CS 3300/Project 2/prediction/venv/lib/python3.8/site-packages/tensorflow/python/eager/function.py:2496\u001b[0m, in \u001b[0;36mFunction.__call__\u001b[0;34m(self, *args, **kwargs)\u001b[0m\n\u001b[1;32m   2493\u001b[0m \u001b[38;5;28;01mwith\u001b[39;00m \u001b[38;5;28mself\u001b[39m\u001b[38;5;241m.\u001b[39m_lock:\n\u001b[1;32m   2494\u001b[0m   (graph_function,\n\u001b[1;32m   2495\u001b[0m    filtered_flat_args) \u001b[38;5;241m=\u001b[39m \u001b[38;5;28mself\u001b[39m\u001b[38;5;241m.\u001b[39m_maybe_define_function(args, kwargs)\n\u001b[0;32m-> 2496\u001b[0m \u001b[38;5;28;01mreturn\u001b[39;00m \u001b[43mgraph_function\u001b[49m\u001b[38;5;241;43m.\u001b[39;49m\u001b[43m_call_flat\u001b[49m\u001b[43m(\u001b[49m\n\u001b[1;32m   2497\u001b[0m \u001b[43m    \u001b[49m\u001b[43mfiltered_flat_args\u001b[49m\u001b[43m,\u001b[49m\u001b[43m \u001b[49m\u001b[43mcaptured_inputs\u001b[49m\u001b[38;5;241;43m=\u001b[39;49m\u001b[43mgraph_function\u001b[49m\u001b[38;5;241;43m.\u001b[39;49m\u001b[43mcaptured_inputs\u001b[49m\u001b[43m)\u001b[49m\n",
      "File \u001b[0;32m~/Desktop/CS 3300/Project 2/prediction/venv/lib/python3.8/site-packages/tensorflow/python/eager/function.py:1862\u001b[0m, in \u001b[0;36mConcreteFunction._call_flat\u001b[0;34m(self, args, captured_inputs, cancellation_manager)\u001b[0m\n\u001b[1;32m   1858\u001b[0m possible_gradient_type \u001b[38;5;241m=\u001b[39m gradients_util\u001b[38;5;241m.\u001b[39mPossibleTapeGradientTypes(args)\n\u001b[1;32m   1859\u001b[0m \u001b[38;5;28;01mif\u001b[39;00m (possible_gradient_type \u001b[38;5;241m==\u001b[39m gradients_util\u001b[38;5;241m.\u001b[39mPOSSIBLE_GRADIENT_TYPES_NONE\n\u001b[1;32m   1860\u001b[0m     \u001b[38;5;129;01mand\u001b[39;00m executing_eagerly):\n\u001b[1;32m   1861\u001b[0m   \u001b[38;5;66;03m# No tape is watching; skip to running the function.\u001b[39;00m\n\u001b[0;32m-> 1862\u001b[0m   \u001b[38;5;28;01mreturn\u001b[39;00m \u001b[38;5;28mself\u001b[39m\u001b[38;5;241m.\u001b[39m_build_call_outputs(\u001b[38;5;28;43mself\u001b[39;49m\u001b[38;5;241;43m.\u001b[39;49m\u001b[43m_inference_function\u001b[49m\u001b[38;5;241;43m.\u001b[39;49m\u001b[43mcall\u001b[49m\u001b[43m(\u001b[49m\n\u001b[1;32m   1863\u001b[0m \u001b[43m      \u001b[49m\u001b[43mctx\u001b[49m\u001b[43m,\u001b[49m\u001b[43m \u001b[49m\u001b[43margs\u001b[49m\u001b[43m,\u001b[49m\u001b[43m \u001b[49m\u001b[43mcancellation_manager\u001b[49m\u001b[38;5;241;43m=\u001b[39;49m\u001b[43mcancellation_manager\u001b[49m\u001b[43m)\u001b[49m)\n\u001b[1;32m   1864\u001b[0m forward_backward \u001b[38;5;241m=\u001b[39m \u001b[38;5;28mself\u001b[39m\u001b[38;5;241m.\u001b[39m_select_forward_and_backward_functions(\n\u001b[1;32m   1865\u001b[0m     args,\n\u001b[1;32m   1866\u001b[0m     possible_gradient_type,\n\u001b[1;32m   1867\u001b[0m     executing_eagerly)\n\u001b[1;32m   1868\u001b[0m forward_function, args_with_tangents \u001b[38;5;241m=\u001b[39m forward_backward\u001b[38;5;241m.\u001b[39mforward()\n",
      "File \u001b[0;32m~/Desktop/CS 3300/Project 2/prediction/venv/lib/python3.8/site-packages/tensorflow/python/eager/function.py:499\u001b[0m, in \u001b[0;36m_EagerDefinedFunction.call\u001b[0;34m(self, ctx, args, cancellation_manager)\u001b[0m\n\u001b[1;32m    497\u001b[0m \u001b[38;5;28;01mwith\u001b[39;00m _InterpolateFunctionError(\u001b[38;5;28mself\u001b[39m):\n\u001b[1;32m    498\u001b[0m   \u001b[38;5;28;01mif\u001b[39;00m cancellation_manager \u001b[38;5;129;01mis\u001b[39;00m \u001b[38;5;28;01mNone\u001b[39;00m:\n\u001b[0;32m--> 499\u001b[0m     outputs \u001b[38;5;241m=\u001b[39m \u001b[43mexecute\u001b[49m\u001b[38;5;241;43m.\u001b[39;49m\u001b[43mexecute\u001b[49m\u001b[43m(\u001b[49m\n\u001b[1;32m    500\u001b[0m \u001b[43m        \u001b[49m\u001b[38;5;28;43mstr\u001b[39;49m\u001b[43m(\u001b[49m\u001b[38;5;28;43mself\u001b[39;49m\u001b[38;5;241;43m.\u001b[39;49m\u001b[43msignature\u001b[49m\u001b[38;5;241;43m.\u001b[39;49m\u001b[43mname\u001b[49m\u001b[43m)\u001b[49m\u001b[43m,\u001b[49m\n\u001b[1;32m    501\u001b[0m \u001b[43m        \u001b[49m\u001b[43mnum_outputs\u001b[49m\u001b[38;5;241;43m=\u001b[39;49m\u001b[38;5;28;43mself\u001b[39;49m\u001b[38;5;241;43m.\u001b[39;49m\u001b[43m_num_outputs\u001b[49m\u001b[43m,\u001b[49m\n\u001b[1;32m    502\u001b[0m \u001b[43m        \u001b[49m\u001b[43minputs\u001b[49m\u001b[38;5;241;43m=\u001b[39;49m\u001b[43margs\u001b[49m\u001b[43m,\u001b[49m\n\u001b[1;32m    503\u001b[0m \u001b[43m        \u001b[49m\u001b[43mattrs\u001b[49m\u001b[38;5;241;43m=\u001b[39;49m\u001b[43mattrs\u001b[49m\u001b[43m,\u001b[49m\n\u001b[1;32m    504\u001b[0m \u001b[43m        \u001b[49m\u001b[43mctx\u001b[49m\u001b[38;5;241;43m=\u001b[39;49m\u001b[43mctx\u001b[49m\u001b[43m)\u001b[49m\n\u001b[1;32m    505\u001b[0m   \u001b[38;5;28;01melse\u001b[39;00m:\n\u001b[1;32m    506\u001b[0m     outputs \u001b[38;5;241m=\u001b[39m execute\u001b[38;5;241m.\u001b[39mexecute_with_cancellation(\n\u001b[1;32m    507\u001b[0m         \u001b[38;5;28mstr\u001b[39m(\u001b[38;5;28mself\u001b[39m\u001b[38;5;241m.\u001b[39msignature\u001b[38;5;241m.\u001b[39mname),\n\u001b[1;32m    508\u001b[0m         num_outputs\u001b[38;5;241m=\u001b[39m\u001b[38;5;28mself\u001b[39m\u001b[38;5;241m.\u001b[39m_num_outputs,\n\u001b[0;32m   (...)\u001b[0m\n\u001b[1;32m    511\u001b[0m         ctx\u001b[38;5;241m=\u001b[39mctx,\n\u001b[1;32m    512\u001b[0m         cancellation_manager\u001b[38;5;241m=\u001b[39mcancellation_manager)\n",
      "File \u001b[0;32m~/Desktop/CS 3300/Project 2/prediction/venv/lib/python3.8/site-packages/tensorflow/python/eager/execute.py:54\u001b[0m, in \u001b[0;36mquick_execute\u001b[0;34m(op_name, num_outputs, inputs, attrs, ctx, name)\u001b[0m\n\u001b[1;32m     52\u001b[0m \u001b[38;5;28;01mtry\u001b[39;00m:\n\u001b[1;32m     53\u001b[0m   ctx\u001b[38;5;241m.\u001b[39mensure_initialized()\n\u001b[0;32m---> 54\u001b[0m   tensors \u001b[38;5;241m=\u001b[39m \u001b[43mpywrap_tfe\u001b[49m\u001b[38;5;241;43m.\u001b[39;49m\u001b[43mTFE_Py_Execute\u001b[49m\u001b[43m(\u001b[49m\u001b[43mctx\u001b[49m\u001b[38;5;241;43m.\u001b[39;49m\u001b[43m_handle\u001b[49m\u001b[43m,\u001b[49m\u001b[43m \u001b[49m\u001b[43mdevice_name\u001b[49m\u001b[43m,\u001b[49m\u001b[43m \u001b[49m\u001b[43mop_name\u001b[49m\u001b[43m,\u001b[49m\n\u001b[1;32m     55\u001b[0m \u001b[43m                                      \u001b[49m\u001b[43minputs\u001b[49m\u001b[43m,\u001b[49m\u001b[43m \u001b[49m\u001b[43mattrs\u001b[49m\u001b[43m,\u001b[49m\u001b[43m \u001b[49m\u001b[43mnum_outputs\u001b[49m\u001b[43m)\u001b[49m\n\u001b[1;32m     56\u001b[0m \u001b[38;5;28;01mexcept\u001b[39;00m core\u001b[38;5;241m.\u001b[39m_NotOkStatusException \u001b[38;5;28;01mas\u001b[39;00m e:\n\u001b[1;32m     57\u001b[0m   \u001b[38;5;28;01mif\u001b[39;00m name \u001b[38;5;129;01mis\u001b[39;00m \u001b[38;5;129;01mnot\u001b[39;00m \u001b[38;5;28;01mNone\u001b[39;00m:\n",
      "\u001b[0;31mKeyboardInterrupt\u001b[0m: "
     ]
    }
   ],
   "source": [
    "model.fit(X_train, y_train, batch_size=5, epochs=50, validation_split=0.2)"
   ]
  },
  {
   "cell_type": "code",
   "execution_count": 578,
   "id": "4aa77036",
   "metadata": {
    "ExecuteTime": {
     "end_time": "2022-12-03T21:45:45.394692Z",
     "start_time": "2022-12-03T21:45:45.200172Z"
    }
   },
   "outputs": [
    {
     "name": "stdout",
     "output_type": "stream",
     "text": [
      "7/7 [==============================] - 0s 15ms/step - loss: 0.0150 - binary_accuracy: 0.9827 - precision_15: 0.9624 - recall_11: 0.9267 - precision_at_recall_10: 0.9861 - recall_at_precision_10: 0.9763\n",
      "Loss: 0.015015941113233566\n",
      "Accuracy: 0.9827233552932739\n",
      "Precision: 0.9624267220497131\n",
      "Recall: 0.9266797304153442\n",
      "Precision Where Recall >= 0.2: 0.9860557913780212\n",
      "Recall Where Precision >= 0.2: 0.9762709140777588\n"
     ]
    }
   ],
   "source": [
    "score, acc, prec, rec, precRec, recPrec = model.evaluate(X_test, y_test)\n",
    "print('Loss:', score)\n",
    "print('Accuracy:', acc)\n",
    "print('Precision:', prec)\n",
    "print('Recall:', rec)\n",
    "print('Precision Where Recall >= 0.2:', precRec)\n",
    "print('Recall Where Precision >= 0.2:', recPrec)"
   ]
  },
  {
   "cell_type": "code",
   "execution_count": 588,
   "id": "fac4dd15",
   "metadata": {
    "ExecuteTime": {
     "end_time": "2022-12-03T21:46:15.013200Z",
     "start_time": "2022-12-03T21:46:14.453099Z"
    }
   },
   "outputs": [
    {
     "name": "stdout",
     "output_type": "stream",
     "text": [
      "1/1 [==============================] - 0s 21ms/step\n",
      "901\n"
     ]
    },
    {
     "data": {
      "image/png": "[encoded data removed]",
      "text/plain": [
       "<Figure size 640x480 with 1 Axes>"
      ]
     },
     "metadata": {},
     "output_type": "display_data"
    },
    {
     "data": {
      "image/png": "[encoded data removed]",
      "text/plain": [
       "<Figure size 640x480 with 6 Axes>"
      ]
     },
     "metadata": {},
     "output_type": "display_data"
    }
   ],
   "source": [
    "i = int(random.random() * len(data))\n",
    "\n",
    "res = model.predict(data[i:i+1])[0]\n",
    "res = np.where(res > 0.5, 1, 0)\n",
    "\n",
    "print(i)\n",
    "\n",
    "plt.imshow(data[i][0].reshape((diam,diam)))\n",
    "plt.show()\n",
    "\n",
    "prediction = res.reshape((len(days), diam, diam))\n",
    "ground_truth = label[i].reshape((len(days), diam, diam))\n",
    "\n",
    "fig, axs = plt.subplots(len(days), 2)\n",
    "for i in range(len(days)):\n",
    "    axs[i, 0].imshow(prediction[i])\n",
    "    axs[i, 1].imshow(ground_truth[i])"
   ]
  },
  {
   "cell_type": "code",
   "execution_count": 590,
   "id": "49f64682",
   "metadata": {
    "ExecuteTime": {
     "end_time": "2022-12-04T01:32:51.432681Z",
     "start_time": "2022-12-04T01:32:50.921904Z"
    }
   },
   "outputs": [],
   "source": [
    "import tensorflowjs as tfjs\n",
    "\n",
    "tfjs.converters.save_keras_model(model, 'model')"
   ]
  }
 ],
 "metadata": {
  "kernelspec": {
   "display_name": "cs3300project2",
   "language": "python",
   "name": "cs3300project2"
  },
  "language_info": {
   "codemirror_mode": {
    "name": "ipython",
    "version": 3
   },
   "file_extension": ".py",
   "mimetype": "text/x-python",
   "name": "python",
   "nbconvert_exporter": "python",
   "pygments_lexer": "ipython3",
   "version": "3.8.12"
  }
 },
 "nbformat": 4,
 "nbformat_minor": 5
}
