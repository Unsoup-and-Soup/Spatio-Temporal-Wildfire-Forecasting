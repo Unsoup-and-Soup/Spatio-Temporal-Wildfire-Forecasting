{
 "cells": [
  {
   "cell_type": "code",
   "execution_count": 26,
   "id": "70b047f1",
   "metadata": {
    "ExecuteTime": {
     "end_time": "2022-12-03T03:45:30.229096Z",
     "start_time": "2022-12-03T03:45:29.201101Z"
    }
   },
   "outputs": [],
   "source": [
    "from shapely.geometry import Point, Polygon, MultiPolygon\n",
    "from datetime import datetime, timedelta\n",
    "from tensorflow.keras.models import Sequential\n",
    "from tensorflow.keras.layers import Dense\n",
    "from tensorflow.keras.optimizers import Adam\n",
    "from tensorflow.keras.metrics import Accuracy, BinaryAccuracy\n",
    "from sklearn.model_selection import train_test_split\n",
    "from pyproj import CRS\n",
    "import geopandas as gpd\n",
    "import numpy as np\n",
    "import pathlib\n",
    "import os\n",
    "import matplotlib.pyplot as plt\n",
    "import random"
   ]
  },
  {
   "cell_type": "code",
   "execution_count": 2,
   "id": "536ec903",
   "metadata": {
    "ExecuteTime": {
     "end_time": "2022-12-03T03:36:48.221328Z",
     "start_time": "2022-12-03T03:36:48.212577Z"
    }
   },
   "outputs": [],
   "source": [
    "def generate_grid(fire_file_path, centroid_x, centroid_y, is_label=False):\n",
    "    fires = gpd.read_file(fire_file_path)\n",
    "    fires = fires.to_crs(epsg=3310)\n",
    "\n",
    "    # Get bounds of CRS\n",
    "    x_min, y_min, x_max, y_max = (-5198207.57, -1564155.99, 6820717.07, 5283999.14)\n",
    "\n",
    "    # Get the max polygon from shp file\n",
    "    polygons = fires.geometry\n",
    "    max_fire = None\n",
    "    for polygon in polygons:\n",
    "        if polygon is None:\n",
    "            continue\n",
    "        if not max_fire or polygon.area > max_fire.area:\n",
    "            max_fire = polygon\n",
    "            \n",
    "    if max_fire is None:\n",
    "        raise ValueError\n",
    "\n",
    "    # Find centroid of that polygon\n",
    "    # centroid_x = max_fire.centroid.x\n",
    "    # centroid_y = max_fire.centroid.y\n",
    "\n",
    "    # Generate points for each sqkm\n",
    "    points = []\n",
    "\n",
    "    topleft_x = int(centroid_x - 10000)\n",
    "    topleft_y = int(centroid_y - 10000)\n",
    "\n",
    "    for x in range(topleft_x, topleft_x + 20000, 1000):\n",
    "        level = []\n",
    "        for y in range(topleft_y, topleft_y + 20000, 1000):\n",
    "            level.append(Point(x+500, y+500))\n",
    "        points.append(level)\n",
    "\n",
    "    # Generate boolean grid\n",
    "    if is_label:\n",
    "        grid = np.full((400,), 0.0)\n",
    "    else:\n",
    "        grid = np.full((402,), 0.0)\n",
    "        # Add centroid feature\n",
    "        grid[400] = (centroid_x - x_min) / (x_max - x_min)\n",
    "#         print((centroid_x - x_min) / (x_max - x_min))\n",
    "        grid[401] = (centroid_y - y_min) / (y_max - y_min)\n",
    "\n",
    "    for i in range(len(points)):\n",
    "        for j in range(len(points[i])):\n",
    "            if max_fire.contains(points[i][j]):\n",
    "                grid[i*20+j] = 1\n",
    "\n",
    "    return grid"
   ]
  },
  {
   "cell_type": "code",
   "execution_count": 37,
   "id": "8874e013",
   "metadata": {
    "ExecuteTime": {
     "end_time": "2022-12-03T03:13:13.550704Z",
     "start_time": "2022-12-03T03:08:11.361721Z"
    }
   },
   "outputs": [
    {
     "name": "stdout",
     "output_type": "stream",
     "text": [
      "CA-SHF-002066_River_Complex\n",
      "CA-SHF-002067_Fork_Complex\n",
      "CA-SHF-002108_South_Complex\n",
      "CA-SHU-006248_BULLY\n",
      "CA-SHU-006933_Eiler\n",
      "CA-SHU-007808_Carr\n",
      "CA-SHU-009978_Zogg\n",
      "CA-SLU-008948_Chimney\n",
      "CA-SNF-0001743_Railroad\n",
      "CA-SNF-000745_Ferguson\n",
      "CA-SNF-001391_Creek\n",
      "CA-SNF_001732_Aspen\n",
      "CA-SNF_001746_Rough\n",
      "CA-SQF-001317_Schaeffer\n",
      "CA-SQF-002595_Cedar\n",
      "CA-SQF-002622_SQF%20COMPLEX\n",
      "CA-SRF-000656_Red_Salmon_Complex\n",
      "CA-SRF-000741_Orleans\n",
      "CA-SRF-001433_Mad_River_Complex\n",
      "CA-SRF-001470_Nickowitz\n",
      "CA-SRF-001476_Route_Complex\n",
      "CA-SRF-001488_GasquetComplex\n",
      "CA-SRF-1494_Corral_Complex\n",
      "CA-SRF-651_McCash\n",
      "CA-STF-001702_Donnell\n",
      "CA-VNC-103156_Thomas\n"
     ]
    }
   ],
   "source": [
    "DATE_FORMAT_CODE = '%Y%m%d'\n",
    "\n",
    "dataset_path = \"./download/cleaned_fire_data/\"\n",
    "\n",
    "# data = []\n",
    "# label = []\n",
    "\n",
    "data = list(data)\n",
    "label = list(label)\n",
    "\n",
    "def preprocess(dataset_path):\n",
    "    regions = os.listdir(dataset_path)\n",
    "    for region in sorted(regions)[45:]:\n",
    "        print(region)\n",
    "        if region != '.DS_Store':\n",
    "            date_path = os.path.join(dataset_path, region, 'GIS')\n",
    "            dates = os.listdir(date_path)\n",
    "            dates.sort() # Sort dates so that earliest date occur first\n",
    "            dates.remove(\".DS_Store\")\n",
    "            \n",
    "            # Obtain centroid for first date\n",
    "            fires = gpd.read_file(fire_file_path)\n",
    "            fires = fires.to_crs(epsg=3310)\n",
    "            polygons = fires.geometry\n",
    "            max_fire = None\n",
    "            for polygon in polygons:\n",
    "                if polygon is None:\n",
    "                    continue\n",
    "                if not max_fire or polygon.area > max_fire.area:\n",
    "                    max_fire = polygon\n",
    "            \n",
    "            # If first date does not have a fire, we skip the region\n",
    "            if not max_fire:\n",
    "                continue\n",
    "                \n",
    "            centroid_x = max_fire.centroid.x\n",
    "            centroid_y = max_fire.centroid.y\n",
    "            \n",
    "            for i, date in enumerate(dates):\n",
    "                # Check if 5 days in future exists\n",
    "                date_time_obj = datetime.strptime(date, DATE_FORMAT_CODE)\n",
    "                future_date_time_obj = date_time_obj + timedelta(days=5)\n",
    "                future_date = future_date_time_obj.strftime(DATE_FORMAT_CODE)\n",
    "                if future_date in dates:\n",
    "                    fire_file_path = os.path.join(date_path, date)\n",
    "                    future_fire_file_path = os.path.join(date_path, future_date)\n",
    "                    fire_file_name = list(pathlib.Path(fire_file_path).glob('*.shp'))\n",
    "                    future_fire_file_name = list(pathlib.Path(future_fire_file_path).glob('*.shp'))\n",
    "                    # deal with currputed files\n",
    "                    if not fire_file_name:\n",
    "                        continue\n",
    "                    if not future_fire_file_name:\n",
    "                        continue\n",
    "                    \n",
    "                    try:\n",
    "                        grid1 = generate_grid(fire_file_name[0], centroid_x, centroid_y, is_label=False)\n",
    "                        grid2 = generate_grid(future_fire_file_name[0], centroid_x, centroid_y, is_label=True)\n",
    "                    except ValueError as e:\n",
    "                        continue\n",
    "                    \n",
    "                    data.append(grid1)\n",
    "                    label.append(grid2)\n",
    "                        \n",
    "            \n",
    "            np.save('./data.npy', data)\n",
    "            np.save('./label.npy', label)\n",
    "\n",
    "preprocess(dataset_path)\n",
    "data = np.array(data)\n",
    "label = np.array(label)\n",
    "# Write to file\n",
    "np.save('./data.npy', data)\n",
    "np.save('./label.npy', label)"
   ]
  },
  {
   "cell_type": "code",
   "execution_count": 56,
   "id": "a93d8465",
   "metadata": {
    "ExecuteTime": {
     "end_time": "2022-12-03T03:51:20.880180Z",
     "start_time": "2022-12-03T03:51:20.876116Z"
    }
   },
   "outputs": [
    {
     "name": "stdout",
     "output_type": "stream",
     "text": [
      "(1296, 402) (1296, 400)\n"
     ]
    }
   ],
   "source": [
    "print(data.shape, label.shape)"
   ]
  },
  {
   "cell_type": "code",
   "execution_count": 58,
   "id": "90cd5124",
   "metadata": {
    "ExecuteTime": {
     "end_time": "2022-12-03T03:52:10.173308Z",
     "start_time": "2022-12-03T03:52:10.157436Z"
    }
   },
   "outputs": [
    {
     "data": {
      "text/plain": [
       "28"
      ]
     },
     "execution_count": 58,
     "metadata": {},
     "output_type": "execute_result"
    }
   ],
   "source": [
    "# for d in data:\n",
    "#     print(np.sum(d))\n",
    "sum([np.sum(d) >= 400 for d in data])"
   ]
  },
  {
   "cell_type": "code",
   "execution_count": 50,
   "id": "3b42683b",
   "metadata": {
    "ExecuteTime": {
     "end_time": "2022-12-03T03:50:31.149822Z",
     "start_time": "2022-12-03T03:50:31.140135Z"
    }
   },
   "outputs": [],
   "source": [
    "data = np.load('./5days_data.npy')\n",
    "label = np.load('./5days_label.npy')"
   ]
  },
  {
   "cell_type": "code",
   "execution_count": 53,
   "id": "b2177388",
   "metadata": {
    "ExecuteTime": {
     "end_time": "2022-12-03T03:50:40.118481Z",
     "start_time": "2022-12-03T03:50:40.108745Z"
    }
   },
   "outputs": [],
   "source": [
    "X_train, X_test, y_train, y_test = train_test_split(data, label, test_size=0.20, random_state=42)"
   ]
  },
  {
   "cell_type": "code",
   "execution_count": 61,
   "id": "0ae249bc",
   "metadata": {
    "ExecuteTime": {
     "end_time": "2022-12-03T03:53:23.204600Z",
     "start_time": "2022-12-03T03:53:23.153962Z"
    }
   },
   "outputs": [
    {
     "name": "stdout",
     "output_type": "stream",
     "text": [
      "Model: \"sequential_7\"\n",
      "_________________________________________________________________\n",
      "Layer (type)                 Output Shape              Param #   \n",
      "=================================================================\n",
      "dense_21 (Dense)             (None, 400)               161200    \n",
      "_________________________________________________________________\n",
      "dense_22 (Dense)             (None, 4000)              1604000   \n",
      "_________________________________________________________________\n",
      "dense_23 (Dense)             (None, 400)               1600400   \n",
      "=================================================================\n",
      "Total params: 3,365,600\n",
      "Trainable params: 3,365,600\n",
      "Non-trainable params: 0\n",
      "_________________________________________________________________\n"
     ]
    }
   ],
   "source": [
    "model = Sequential()\n",
    "\n",
    "model.add(Dense(units=400, input_shape=(402,), activation='relu'))\n",
    "model.add(Dense(units=4000, activation='sigmoid'))\n",
    "model.add(Dense(units=400, activation='sigmoid'))\n",
    "\n",
    "model.summary()"
   ]
  },
  {
   "cell_type": "code",
   "execution_count": 62,
   "id": "88483d9b",
   "metadata": {
    "ExecuteTime": {
     "end_time": "2022-12-03T03:53:40.153652Z",
     "start_time": "2022-12-03T03:53:24.573498Z"
    }
   },
   "outputs": [
    {
     "name": "stdout",
     "output_type": "stream",
     "text": [
      "Epoch 1/100\n",
      "5/5 [==============================] - 1s 57ms/step - loss: 0.2621 - binary_accuracy: 0.5918 - val_loss: 0.2245 - val_binary_accuracy: 0.6558\n",
      "Epoch 2/100\n",
      "5/5 [==============================] - 0s 32ms/step - loss: 0.1980 - binary_accuracy: 0.7253 - val_loss: 0.1565 - val_binary_accuracy: 0.7956\n",
      "Epoch 3/100\n",
      "5/5 [==============================] - 0s 31ms/step - loss: 0.1510 - binary_accuracy: 0.8008 - val_loss: 0.1442 - val_binary_accuracy: 0.8072\n",
      "Epoch 4/100\n",
      "5/5 [==============================] - 0s 29ms/step - loss: 0.1442 - binary_accuracy: 0.8089 - val_loss: 0.1388 - val_binary_accuracy: 0.8173\n",
      "Epoch 5/100\n",
      "5/5 [==============================] - 0s 31ms/step - loss: 0.1383 - binary_accuracy: 0.8215 - val_loss: 0.1327 - val_binary_accuracy: 0.8268\n",
      "Epoch 6/100\n",
      "5/5 [==============================] - 0s 30ms/step - loss: 0.1318 - binary_accuracy: 0.8282 - val_loss: 0.1264 - val_binary_accuracy: 0.8332\n",
      "Epoch 7/100\n",
      "5/5 [==============================] - 0s 30ms/step - loss: 0.1252 - binary_accuracy: 0.8347 - val_loss: 0.1226 - val_binary_accuracy: 0.8396\n",
      "Epoch 8/100\n",
      "5/5 [==============================] - 0s 29ms/step - loss: 0.1211 - binary_accuracy: 0.8426 - val_loss: 0.1191 - val_binary_accuracy: 0.8432\n",
      "Epoch 9/100\n",
      "5/5 [==============================] - 0s 29ms/step - loss: 0.1157 - binary_accuracy: 0.8499 - val_loss: 0.1139 - val_binary_accuracy: 0.8492\n",
      "Epoch 10/100\n",
      "5/5 [==============================] - 0s 30ms/step - loss: 0.1102 - binary_accuracy: 0.8569 - val_loss: 0.1095 - val_binary_accuracy: 0.8572\n",
      "Epoch 11/100\n",
      "5/5 [==============================] - 0s 30ms/step - loss: 0.1062 - binary_accuracy: 0.8630 - val_loss: 0.1092 - val_binary_accuracy: 0.8591\n",
      "Epoch 12/100\n",
      "5/5 [==============================] - 0s 29ms/step - loss: 0.1042 - binary_accuracy: 0.8662 - val_loss: 0.1053 - val_binary_accuracy: 0.8632\n",
      "Epoch 13/100\n",
      "5/5 [==============================] - 0s 30ms/step - loss: 0.1000 - binary_accuracy: 0.8738 - val_loss: 0.1033 - val_binary_accuracy: 0.8669\n",
      "Epoch 14/100\n",
      "5/5 [==============================] - 0s 29ms/step - loss: 0.0967 - binary_accuracy: 0.8767 - val_loss: 0.1001 - val_binary_accuracy: 0.8709\n",
      "Epoch 15/100\n",
      "5/5 [==============================] - 0s 30ms/step - loss: 0.0948 - binary_accuracy: 0.8800 - val_loss: 0.0987 - val_binary_accuracy: 0.8726\n",
      "Epoch 16/100\n",
      "5/5 [==============================] - 0s 29ms/step - loss: 0.0920 - binary_accuracy: 0.8837 - val_loss: 0.0958 - val_binary_accuracy: 0.8769\n",
      "Epoch 17/100\n",
      "5/5 [==============================] - 0s 28ms/step - loss: 0.0898 - binary_accuracy: 0.8872 - val_loss: 0.0958 - val_binary_accuracy: 0.8782\n",
      "Epoch 18/100\n",
      "5/5 [==============================] - 0s 30ms/step - loss: 0.0881 - binary_accuracy: 0.8892 - val_loss: 0.0943 - val_binary_accuracy: 0.8796\n",
      "Epoch 19/100\n",
      "5/5 [==============================] - 0s 29ms/step - loss: 0.0862 - binary_accuracy: 0.8920 - val_loss: 0.0921 - val_binary_accuracy: 0.8828\n",
      "Epoch 20/100\n",
      "5/5 [==============================] - 0s 30ms/step - loss: 0.0839 - binary_accuracy: 0.8954 - val_loss: 0.0903 - val_binary_accuracy: 0.8855\n",
      "Epoch 21/100\n",
      "5/5 [==============================] - 0s 32ms/step - loss: 0.0818 - binary_accuracy: 0.8977 - val_loss: 0.0895 - val_binary_accuracy: 0.8866\n",
      "Epoch 22/100\n",
      "5/5 [==============================] - 0s 33ms/step - loss: 0.0805 - binary_accuracy: 0.8993 - val_loss: 0.0881 - val_binary_accuracy: 0.8885\n",
      "Epoch 23/100\n",
      "5/5 [==============================] - 0s 31ms/step - loss: 0.0788 - binary_accuracy: 0.9015 - val_loss: 0.0865 - val_binary_accuracy: 0.8908\n",
      "Epoch 24/100\n",
      "5/5 [==============================] - 0s 31ms/step - loss: 0.0767 - binary_accuracy: 0.9039 - val_loss: 0.0867 - val_binary_accuracy: 0.8892\n",
      "Epoch 25/100\n",
      "5/5 [==============================] - 0s 30ms/step - loss: 0.0757 - binary_accuracy: 0.9055 - val_loss: 0.0851 - val_binary_accuracy: 0.8939\n",
      "Epoch 26/100\n",
      "5/5 [==============================] - 0s 29ms/step - loss: 0.0739 - binary_accuracy: 0.9081 - val_loss: 0.0841 - val_binary_accuracy: 0.8935\n",
      "Epoch 27/100\n",
      "5/5 [==============================] - 0s 34ms/step - loss: 0.0727 - binary_accuracy: 0.9090 - val_loss: 0.0841 - val_binary_accuracy: 0.8943\n",
      "Epoch 28/100\n",
      "5/5 [==============================] - 0s 34ms/step - loss: 0.0720 - binary_accuracy: 0.9099 - val_loss: 0.0838 - val_binary_accuracy: 0.8954\n",
      "Epoch 29/100\n",
      "5/5 [==============================] - 0s 28ms/step - loss: 0.0721 - binary_accuracy: 0.9097 - val_loss: 0.0821 - val_binary_accuracy: 0.8956\n",
      "Epoch 30/100\n",
      "5/5 [==============================] - 0s 30ms/step - loss: 0.0702 - binary_accuracy: 0.9121 - val_loss: 0.0831 - val_binary_accuracy: 0.8925\n",
      "Epoch 31/100\n",
      "5/5 [==============================] - 0s 30ms/step - loss: 0.0694 - binary_accuracy: 0.9129 - val_loss: 0.0798 - val_binary_accuracy: 0.8989\n",
      "Epoch 32/100\n",
      "5/5 [==============================] - 0s 30ms/step - loss: 0.0688 - binary_accuracy: 0.9131 - val_loss: 0.0829 - val_binary_accuracy: 0.8957\n",
      "Epoch 33/100\n",
      "5/5 [==============================] - 0s 29ms/step - loss: 0.0674 - binary_accuracy: 0.9149 - val_loss: 0.0794 - val_binary_accuracy: 0.8997\n",
      "Epoch 34/100\n",
      "5/5 [==============================] - 0s 31ms/step - loss: 0.0657 - binary_accuracy: 0.9175 - val_loss: 0.0786 - val_binary_accuracy: 0.9011\n",
      "Epoch 35/100\n",
      "5/5 [==============================] - 0s 30ms/step - loss: 0.0643 - binary_accuracy: 0.9195 - val_loss: 0.0784 - val_binary_accuracy: 0.8997\n",
      "Epoch 36/100\n",
      "5/5 [==============================] - 0s 30ms/step - loss: 0.0637 - binary_accuracy: 0.9201 - val_loss: 0.0776 - val_binary_accuracy: 0.9024\n",
      "Epoch 37/100\n",
      "5/5 [==============================] - 0s 28ms/step - loss: 0.0628 - binary_accuracy: 0.9211 - val_loss: 0.0825 - val_binary_accuracy: 0.8972\n",
      "Epoch 38/100\n",
      "5/5 [==============================] - 0s 27ms/step - loss: 0.0638 - binary_accuracy: 0.9196 - val_loss: 0.0771 - val_binary_accuracy: 0.9032\n",
      "Epoch 39/100\n",
      "5/5 [==============================] - 0s 30ms/step - loss: 0.0629 - binary_accuracy: 0.9210 - val_loss: 0.0778 - val_binary_accuracy: 0.9000\n",
      "Epoch 40/100\n",
      "5/5 [==============================] - 0s 30ms/step - loss: 0.0614 - binary_accuracy: 0.9227 - val_loss: 0.0759 - val_binary_accuracy: 0.9053\n",
      "Epoch 41/100\n",
      "5/5 [==============================] - 0s 29ms/step - loss: 0.0602 - binary_accuracy: 0.9237 - val_loss: 0.0786 - val_binary_accuracy: 0.9012\n",
      "Epoch 42/100\n",
      "5/5 [==============================] - 0s 31ms/step - loss: 0.0596 - binary_accuracy: 0.9248 - val_loss: 0.0757 - val_binary_accuracy: 0.9046\n",
      "Epoch 43/100\n",
      "5/5 [==============================] - 0s 31ms/step - loss: 0.0588 - binary_accuracy: 0.9264 - val_loss: 0.0764 - val_binary_accuracy: 0.9029\n",
      "Epoch 44/100\n",
      "5/5 [==============================] - 0s 33ms/step - loss: 0.0585 - binary_accuracy: 0.9255 - val_loss: 0.0749 - val_binary_accuracy: 0.9070\n",
      "Epoch 45/100\n",
      "5/5 [==============================] - 0s 31ms/step - loss: 0.0573 - binary_accuracy: 0.9280 - val_loss: 0.0744 - val_binary_accuracy: 0.9067\n",
      "Epoch 46/100\n",
      "5/5 [==============================] - 0s 31ms/step - loss: 0.0559 - binary_accuracy: 0.9295 - val_loss: 0.0762 - val_binary_accuracy: 0.9048\n",
      "Epoch 47/100\n",
      "5/5 [==============================] - 0s 29ms/step - loss: 0.0563 - binary_accuracy: 0.9290 - val_loss: 0.0742 - val_binary_accuracy: 0.9073\n",
      "Epoch 48/100\n",
      "5/5 [==============================] - 0s 32ms/step - loss: 0.0552 - binary_accuracy: 0.9311 - val_loss: 0.0758 - val_binary_accuracy: 0.9034\n",
      "Epoch 49/100\n",
      "5/5 [==============================] - 0s 31ms/step - loss: 0.0563 - binary_accuracy: 0.9284 - val_loss: 0.0749 - val_binary_accuracy: 0.9075\n",
      "Epoch 50/100\n",
      "5/5 [==============================] - 0s 31ms/step - loss: 0.0543 - binary_accuracy: 0.9315 - val_loss: 0.0740 - val_binary_accuracy: 0.9076\n",
      "Epoch 51/100\n",
      "5/5 [==============================] - 0s 31ms/step - loss: 0.0536 - binary_accuracy: 0.9327 - val_loss: 0.0718 - val_binary_accuracy: 0.9106\n",
      "Epoch 52/100\n",
      "5/5 [==============================] - 0s 30ms/step - loss: 0.0523 - binary_accuracy: 0.9343 - val_loss: 0.0721 - val_binary_accuracy: 0.9104\n",
      "Epoch 53/100\n",
      "5/5 [==============================] - 0s 30ms/step - loss: 0.0517 - binary_accuracy: 0.9348 - val_loss: 0.0714 - val_binary_accuracy: 0.9106\n"
     ]
    },
    {
     "name": "stdout",
     "output_type": "stream",
     "text": [
      "Epoch 54/100\n",
      "5/5 [==============================] - 0s 28ms/step - loss: 0.0511 - binary_accuracy: 0.9361 - val_loss: 0.0710 - val_binary_accuracy: 0.9114\n",
      "Epoch 55/100\n",
      "5/5 [==============================] - 0s 32ms/step - loss: 0.0505 - binary_accuracy: 0.9368 - val_loss: 0.0716 - val_binary_accuracy: 0.9098\n",
      "Epoch 56/100\n",
      "5/5 [==============================] - 0s 30ms/step - loss: 0.0502 - binary_accuracy: 0.9370 - val_loss: 0.0708 - val_binary_accuracy: 0.9118\n",
      "Epoch 57/100\n",
      "5/5 [==============================] - 0s 29ms/step - loss: 0.0493 - binary_accuracy: 0.9385 - val_loss: 0.0704 - val_binary_accuracy: 0.9115\n",
      "Epoch 58/100\n",
      "5/5 [==============================] - 0s 29ms/step - loss: 0.0489 - binary_accuracy: 0.9390 - val_loss: 0.0707 - val_binary_accuracy: 0.9108\n",
      "Epoch 59/100\n",
      "5/5 [==============================] - 0s 28ms/step - loss: 0.0489 - binary_accuracy: 0.9393 - val_loss: 0.0711 - val_binary_accuracy: 0.9115\n",
      "Epoch 60/100\n",
      "5/5 [==============================] - 0s 31ms/step - loss: 0.0483 - binary_accuracy: 0.9400 - val_loss: 0.0698 - val_binary_accuracy: 0.9131\n",
      "Epoch 61/100\n",
      "5/5 [==============================] - 0s 29ms/step - loss: 0.0476 - binary_accuracy: 0.9407 - val_loss: 0.0699 - val_binary_accuracy: 0.9122\n",
      "Epoch 62/100\n",
      "5/5 [==============================] - 0s 29ms/step - loss: 0.0475 - binary_accuracy: 0.9413 - val_loss: 0.0712 - val_binary_accuracy: 0.9101\n",
      "Epoch 63/100\n",
      "5/5 [==============================] - 0s 29ms/step - loss: 0.0475 - binary_accuracy: 0.9407 - val_loss: 0.0690 - val_binary_accuracy: 0.9134\n",
      "Epoch 64/100\n",
      "5/5 [==============================] - 0s 31ms/step - loss: 0.0462 - binary_accuracy: 0.9420 - val_loss: 0.0704 - val_binary_accuracy: 0.9128\n",
      "Epoch 65/100\n",
      "5/5 [==============================] - 0s 31ms/step - loss: 0.0458 - binary_accuracy: 0.9428 - val_loss: 0.0695 - val_binary_accuracy: 0.9141\n",
      "Epoch 66/100\n",
      "5/5 [==============================] - 0s 31ms/step - loss: 0.0449 - binary_accuracy: 0.9442 - val_loss: 0.0683 - val_binary_accuracy: 0.9152\n",
      "Epoch 67/100\n",
      "5/5 [==============================] - 0s 31ms/step - loss: 0.0445 - binary_accuracy: 0.9445 - val_loss: 0.0685 - val_binary_accuracy: 0.9146\n",
      "Epoch 68/100\n",
      "5/5 [==============================] - 0s 31ms/step - loss: 0.0451 - binary_accuracy: 0.9443 - val_loss: 0.0696 - val_binary_accuracy: 0.9129\n",
      "Epoch 69/100\n",
      "5/5 [==============================] - 0s 31ms/step - loss: 0.0450 - binary_accuracy: 0.9435 - val_loss: 0.0677 - val_binary_accuracy: 0.9149\n",
      "Epoch 70/100\n",
      "5/5 [==============================] - 0s 31ms/step - loss: 0.0448 - binary_accuracy: 0.9435 - val_loss: 0.0680 - val_binary_accuracy: 0.9156\n",
      "Epoch 71/100\n",
      "5/5 [==============================] - 0s 31ms/step - loss: 0.0434 - binary_accuracy: 0.9461 - val_loss: 0.0704 - val_binary_accuracy: 0.9133\n",
      "Epoch 72/100\n",
      "5/5 [==============================] - 0s 28ms/step - loss: 0.0439 - binary_accuracy: 0.9457 - val_loss: 0.0682 - val_binary_accuracy: 0.9147\n",
      "Epoch 73/100\n",
      "5/5 [==============================] - 0s 28ms/step - loss: 0.0447 - binary_accuracy: 0.9454 - val_loss: 0.0678 - val_binary_accuracy: 0.9154\n",
      "Epoch 74/100\n",
      "5/5 [==============================] - 0s 28ms/step - loss: 0.0437 - binary_accuracy: 0.9455 - val_loss: 0.0686 - val_binary_accuracy: 0.9157\n",
      "Epoch 75/100\n",
      "5/5 [==============================] - 0s 31ms/step - loss: 0.0421 - binary_accuracy: 0.9482 - val_loss: 0.0691 - val_binary_accuracy: 0.9150\n",
      "Epoch 76/100\n",
      "5/5 [==============================] - 0s 32ms/step - loss: 0.0419 - binary_accuracy: 0.9486 - val_loss: 0.0679 - val_binary_accuracy: 0.9148\n",
      "Epoch 77/100\n",
      "5/5 [==============================] - 0s 31ms/step - loss: 0.0421 - binary_accuracy: 0.9483 - val_loss: 0.0670 - val_binary_accuracy: 0.9168\n",
      "Epoch 78/100\n",
      "5/5 [==============================] - 0s 29ms/step - loss: 0.0413 - binary_accuracy: 0.9488 - val_loss: 0.0683 - val_binary_accuracy: 0.9152\n",
      "Epoch 79/100\n",
      "5/5 [==============================] - 0s 32ms/step - loss: 0.0416 - binary_accuracy: 0.9481 - val_loss: 0.0668 - val_binary_accuracy: 0.9173\n",
      "Epoch 80/100\n",
      "5/5 [==============================] - 0s 32ms/step - loss: 0.0410 - binary_accuracy: 0.9499 - val_loss: 0.0670 - val_binary_accuracy: 0.9161\n",
      "Epoch 81/100\n",
      "5/5 [==============================] - 0s 31ms/step - loss: 0.0406 - binary_accuracy: 0.9506 - val_loss: 0.0655 - val_binary_accuracy: 0.9183\n",
      "Epoch 82/100\n",
      "5/5 [==============================] - 0s 30ms/step - loss: 0.0399 - binary_accuracy: 0.9506 - val_loss: 0.0681 - val_binary_accuracy: 0.9158\n",
      "Epoch 83/100\n",
      "5/5 [==============================] - 0s 36ms/step - loss: 0.0394 - binary_accuracy: 0.9515 - val_loss: 0.0655 - val_binary_accuracy: 0.9188\n",
      "Epoch 84/100\n",
      "5/5 [==============================] - 0s 32ms/step - loss: 0.0409 - binary_accuracy: 0.9489 - val_loss: 0.0660 - val_binary_accuracy: 0.9182\n",
      "Epoch 85/100\n",
      "5/5 [==============================] - 0s 29ms/step - loss: 0.0393 - binary_accuracy: 0.9515 - val_loss: 0.0655 - val_binary_accuracy: 0.9186\n",
      "Epoch 86/100\n",
      "5/5 [==============================] - 0s 30ms/step - loss: 0.0386 - binary_accuracy: 0.9534 - val_loss: 0.0650 - val_binary_accuracy: 0.9197\n",
      "Epoch 87/100\n",
      "5/5 [==============================] - 0s 30ms/step - loss: 0.0379 - binary_accuracy: 0.9538 - val_loss: 0.0650 - val_binary_accuracy: 0.9191\n",
      "Epoch 88/100\n",
      "5/5 [==============================] - 0s 31ms/step - loss: 0.0376 - binary_accuracy: 0.9548 - val_loss: 0.0662 - val_binary_accuracy: 0.9178\n",
      "Epoch 89/100\n",
      "5/5 [==============================] - 0s 28ms/step - loss: 0.0387 - binary_accuracy: 0.9525 - val_loss: 0.0685 - val_binary_accuracy: 0.9136\n",
      "Epoch 90/100\n",
      "5/5 [==============================] - 0s 30ms/step - loss: 0.0392 - binary_accuracy: 0.9516 - val_loss: 0.0702 - val_binary_accuracy: 0.9125\n",
      "Epoch 91/100\n",
      "5/5 [==============================] - 0s 30ms/step - loss: 0.0394 - binary_accuracy: 0.9502 - val_loss: 0.0657 - val_binary_accuracy: 0.9183\n",
      "Epoch 92/100\n",
      "5/5 [==============================] - 0s 29ms/step - loss: 0.0386 - binary_accuracy: 0.9520 - val_loss: 0.0665 - val_binary_accuracy: 0.9168\n",
      "Epoch 93/100\n",
      "5/5 [==============================] - 0s 30ms/step - loss: 0.0378 - binary_accuracy: 0.9531 - val_loss: 0.0677 - val_binary_accuracy: 0.9160\n",
      "Epoch 94/100\n",
      "5/5 [==============================] - 0s 32ms/step - loss: 0.0371 - binary_accuracy: 0.9545 - val_loss: 0.0641 - val_binary_accuracy: 0.9201\n",
      "Epoch 95/100\n",
      "5/5 [==============================] - 0s 31ms/step - loss: 0.0361 - binary_accuracy: 0.9556 - val_loss: 0.0662 - val_binary_accuracy: 0.9173\n",
      "Epoch 96/100\n",
      "5/5 [==============================] - 0s 28ms/step - loss: 0.0380 - binary_accuracy: 0.9529 - val_loss: 0.0691 - val_binary_accuracy: 0.9137\n",
      "Epoch 97/100\n",
      "5/5 [==============================] - 0s 34ms/step - loss: 0.0368 - binary_accuracy: 0.9544 - val_loss: 0.0637 - val_binary_accuracy: 0.9212\n",
      "Epoch 98/100\n",
      "5/5 [==============================] - 0s 34ms/step - loss: 0.0359 - binary_accuracy: 0.9557 - val_loss: 0.0633 - val_binary_accuracy: 0.9212\n",
      "Epoch 99/100\n",
      "5/5 [==============================] - 0s 32ms/step - loss: 0.0345 - binary_accuracy: 0.9581 - val_loss: 0.0633 - val_binary_accuracy: 0.9212\n",
      "Epoch 100/100\n",
      "5/5 [==============================] - 0s 31ms/step - loss: 0.0346 - binary_accuracy: 0.9580 - val_loss: 0.0632 - val_binary_accuracy: 0.9215\n"
     ]
    },
    {
     "data": {
      "text/plain": [
       "<keras.callbacks.History at 0x7fc1918881f0>"
      ]
     },
     "execution_count": 62,
     "metadata": {},
     "output_type": "execute_result"
    }
   ],
   "source": [
    "model.compile(optimizer=Adam(), loss='mean_squared_error', metrics=[BinaryAccuracy()])\n",
    "model.fit(X_train, y_train, batch_size=200, epochs=100, validation_split=0.2)"
   ]
  },
  {
   "cell_type": "code",
   "execution_count": 64,
   "id": "4aa77036",
   "metadata": {
    "ExecuteTime": {
     "end_time": "2022-12-03T03:53:59.121815Z",
     "start_time": "2022-12-03T03:53:59.039424Z"
    }
   },
   "outputs": [
    {
     "name": "stdout",
     "output_type": "stream",
     "text": [
      "6/6 [==============================] - 0s 5ms/step - loss: 0.0606 - binary_accuracy: 0.9228\n",
      "Loss: 0.060613036155700684\n",
      "Acc: 0.9228268265724182\n"
     ]
    }
   ],
   "source": [
    "score, acc = model.evaluate(X_test, y_test, batch_size=50)\n",
    "print('Loss:', score)\n",
    "print('Acc:', acc)"
   ]
  },
  {
   "cell_type": "code",
   "execution_count": 15,
   "id": "fac4dd15",
   "metadata": {
    "ExecuteTime": {
     "end_time": "2022-12-03T04:34:18.199901Z",
     "start_time": "2022-12-03T04:34:17.765495Z"
    }
   },
   "outputs": [
    {
     "name": "stdout",
     "output_type": "stream",
     "text": [
      "1/1 [==============================] - 0s 21ms/step\n"
     ]
    },
    {
     "data": {
      "image/png": "[encoded data removed]",
      "text/plain": [
       "<Figure size 640x480 with 1 Axes>"
      ]
     },
     "metadata": {},
     "output_type": "display_data"
    },
    {
     "data": {
      "image/png": "[encoded data removed]",
      "text/plain": [
       "<Figure size 640x480 with 1 Axes>"
      ]
     },
     "metadata": {},
     "output_type": "display_data"
    },
    {
     "data": {
      "image/png": "[encoded data removed]",
      "text/plain": [
       "<Figure size 640x480 with 1 Axes>"
      ]
     },
     "metadata": {},
     "output_type": "display_data"
    },
    {
     "data": {
      "text/plain": [
       "582"
      ]
     },
     "execution_count": 15,
     "metadata": {},
     "output_type": "execute_result"
    }
   ],
   "source": [
    "i = int(random.random() * len(data))\n",
    "\n",
    "res = model.predict(data[i:i+1])[0]\n",
    "res = np.where(res > 0.5, 1, 0)\n",
    "\n",
    "plt.imshow(data[i][:400].reshape((20,20)))\n",
    "plt.show()\n",
    "plt.imshow(res.reshape((20,20)))\n",
    "plt.show()\n",
    "plt.imshow(label[i].reshape((20,20)))\n",
    "plt.show()\n",
    "i"
   ]
  },
  {
   "cell_type": "code",
   "execution_count": 13,
   "id": "49f64682",
   "metadata": {
    "ExecuteTime": {
     "end_time": "2022-12-03T04:34:07.360108Z",
     "start_time": "2022-12-03T04:34:07.268200Z"
    }
   },
   "outputs": [],
   "source": [
    "import tensorflowjs as tfjs\n",
    "\n",
    "tfjs.converters.save_keras_model(model, 'model')"
   ]
  }
 ],
 "metadata": {
  "kernelspec": {
   "display_name": "cs3300project2",
   "language": "python",
   "name": "cs3300project2"
  },
  "language_info": {
   "codemirror_mode": {
    "name": "ipython",
    "version": 3
   },
   "file_extension": ".py",
   "mimetype": "text/x-python",
   "name": "python",
   "nbconvert_exporter": "python",
   "pygments_lexer": "ipython3",
   "version": "3.8.12"
  }
 },
 "nbformat": 4,
 "nbformat_minor": 5
}
