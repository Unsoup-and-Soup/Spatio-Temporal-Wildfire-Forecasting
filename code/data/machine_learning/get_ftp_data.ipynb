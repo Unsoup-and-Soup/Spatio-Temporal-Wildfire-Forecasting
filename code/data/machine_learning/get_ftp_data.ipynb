{
 "cells": [
  {
   "cell_type": "markdown",
   "id": "a79a1b48",
   "metadata": {},
   "source": [
    "## Downloading data from NIFC server"
   ]
  },
  {
   "cell_type": "code",
   "execution_count": null,
   "id": "f3530b94",
   "metadata": {
    "ExecuteTime": {
     "end_time": "2022-12-02T00:53:45.837336Z",
     "start_time": "2022-12-02T00:53:45.550435Z"
    },
    "scrolled": false
   },
   "outputs": [],
   "source": [
    "import requests\n",
    "from bs4 import BeautifulSoup\n",
    "import os\n",
    "import lxml\n",
    "import cchardet"
   ]
  },
  {
   "cell_type": "code",
   "execution_count": null,
   "id": "217e97ca",
   "metadata": {
    "ExecuteTime": {
     "end_time": "2022-12-02T00:53:47.920861Z",
     "start_time": "2022-12-02T00:53:47.917962Z"
    },
    "scrolled": false
   },
   "outputs": [],
   "source": [
    "IR_URL = \"https://ftp.wildfire.gov/public/incident_specific_data/calif_n/2012%20FEDERAL_Incidents/CA-KNF-5659_FortComplex/IR/\"\n",
    "GIS_URL = \"https://ftp.wildfire.gov/public/incident_specific_data/calif_n/2012%20FEDERAL_Incidents/CA-KNF-5659_FortComplex/incident_data/\""
   ]
  },
  {
   "cell_type": "code",
   "execution_count": null,
   "id": "02a2feaa",
   "metadata": {
    "collapsed": true,
    "scrolled": false
   },
   "outputs": [],
   "source": [
    "soup = BeautifulSoup(requests.get(IR_URL).content)\n",
    "paths = [IR_URL + a.get('href') for a in soup.find_all('a')[5:]]\n",
    "paths"
   ]
  },
  {
   "cell_type": "code",
   "execution_count": null,
   "id": "a53976b2",
   "metadata": {
    "collapsed": true,
    "scrolled": true
   },
   "outputs": [],
   "source": [
    "soup = BeautifulSoup(requests.get(paths[0]).content)\n",
    "files = [paths[0] + a.get('href') for a in soup.find_all('a')[5:]]\n",
    "files"
   ]
  },
  {
   "cell_type": "code",
   "execution_count": null,
   "id": "fa209627",
   "metadata": {
    "collapsed": true,
    "scrolled": false
   },
   "outputs": [],
   "source": [
    "requests.get(files[0])"
   ]
  },
  {
   "cell_type": "markdown",
   "id": "d39dceba",
   "metadata": {},
   "source": [
    "### Full Scraping Algorithm"
   ]
  },
  {
   "cell_type": "code",
   "execution_count": null,
   "id": "f278b670",
   "metadata": {
    "scrolled": false
   },
   "outputs": [],
   "source": [
    "def download(source, target):\n",
    "    print('downloading {0} to {1}'.format(source, target))\n",
    "    \n",
    "    if source.lower().endswith('products/'):\n",
    "        print('...skipping')\n",
    "        return\n",
    "    \n",
    "    try:\n",
    "        if source[-1] != '/':\n",
    "            if not os.path.isfile(target):\n",
    "                if source.lower().endswith(('.pdf', '.docx', '.doc', '.tif', '.png', '.jpg', '.xlsx')):\n",
    "                    print('...skipping')\n",
    "                    return\n",
    "\n",
    "                os.makedirs(os.path.dirname(target), exist_ok=True)\n",
    "\n",
    "                with open(target, 'wb') as f:\n",
    "                    f.write(session.get(source).content)\n",
    "            else:\n",
    "                print('...present')\n",
    "            return\n",
    "\n",
    "        soup = BeautifulSoup(session.get(source).content, 'lxml')\n",
    "\n",
    "        for a in soup.find_all('a')[5:]:\n",
    "            path = a.get('href')\n",
    "            download(source + path, target + path)\n",
    "    except:\n",
    "        return"
   ]
  },
  {
   "cell_type": "code",
   "execution_count": null,
   "id": "56f5f4f4",
   "metadata": {
    "scrolled": true
   },
   "outputs": [],
   "source": [
    "BASE_URL = './data/'\n",
    "ROOT_URL = 'https://ftp.wildfire.gov/public/incident_specific_data/'\n",
    "\n",
    "session = requests.Session()\n",
    "\n",
    "download(ROOT_URL, BASE_URL)"
   ]
  },
  {
   "cell_type": "markdown",
   "id": "ee596d12",
   "metadata": {},
   "source": [
    "## Filtering of downloaded data (after unarchiving)"
   ]
  },
  {
   "cell_type": "code",
   "execution_count": null,
   "id": "7749d110",
   "metadata": {
    "ExecuteTime": {
     "end_time": "2022-12-02T01:16:33.135613Z",
     "start_time": "2022-12-02T01:16:33.126114Z"
    },
    "scrolled": false
   },
   "outputs": [],
   "source": [
    "import sys\n",
    "import os\n",
    "import subprocess"
   ]
  },
  {
   "cell_type": "code",
   "execution_count": null,
   "id": "0f3ab7a9",
   "metadata": {
    "ExecuteTime": {
     "end_time": "2022-12-02T01:25:53.725093Z",
     "start_time": "2022-12-02T01:18:23.970939Z"
    }
   },
   "outputs": [],
   "source": [
    "k = 1\n",
    "for fire_dir in os.listdir('download/all_fire_data/'):\n",
    "    if fire_dir != '.DS_Store':\n",
    "        num = 1_000_000\n",
    "        i = 0\n",
    "        for data_dir in os.listdir(f'download/all_fire_data/{fire_dir}'):\n",
    "            if data_dir != '.DS_Store':\n",
    "                num = min(num, len(next(os.walk(f'download/all_fire_data/{fire_dir}/{data_dir}'))[1]))\n",
    "                i += 1\n",
    "        if i == 2 and num > 10 and num < 1_000_000:\n",
    "            print(k, fire_dir)\n",
    "            subprocess.run(['cp', '-r', f'download/all_fire_data/{fire_dir}', f'download/fire_data/{fire_dir}'])\n",
    "            k += 1"
   ]
  },
  {
   "cell_type": "code",
   "execution_count": null,
   "id": "ce3a7196",
   "metadata": {
    "ExecuteTime": {
     "end_time": "2022-12-02T06:13:37.654050Z",
     "start_time": "2022-12-02T06:13:35.174293Z"
    },
    "scrolled": true
   },
   "outputs": [],
   "source": [
    "k = 1\n",
    "for fire_dir in os.listdir('download/fire_data/'):\n",
    "#     fire_dir = 'CA-AEU-024918_Butte'\n",
    "    print(fire_dir)\n",
    "    if fire_dir != '.DS_Store':\n",
    "        for fire_day in os.listdir(f'download/fire_data/{fire_dir}/GIS'):\n",
    "            print(f'download/fire_data/{fire_dir}/GIS/{fire_day}')\n",
    "            if fire_day != '.DS_Store':\n",
    "                res = subprocess.run(['find', f'download/fire_data/{fire_dir}/GIS/{fire_day}', '-type', 'f', '-name', '*.shp'])\n",
    "#                 print(res.stdout)\n",
    "                if res.stdout is None:\n",
    "#                     print('\\'echo $(dirname {})/$(basename {} .gdb) {}\\'')\n",
    "                    print('hi1')\n",
    "                    res = subprocess.run(['find', f'download/fire_data/{fire_dir}/GIS/{fire_day}', '-name', '*.gdb',\n",
    "                                    '-exec', 'sh', '-c', 'ogr2ogr -f \\\"ESRI Shapefile\\\" $(dirname {})/shapefiles-$(basename {} .gdb) {}', ';'])\n",
    "                    print('hi2')\n",
    "#                     print(res.stdout)"
   ]
  },
  {
   "cell_type": "code",
   "execution_count": null,
   "id": "745189b3",
   "metadata": {},
   "outputs": [],
   "source": [
    "subprocess.run(['find', f'download/fire_data/', '-name', '*.gdb', '-exec', 'sh', '-c', 'ogr2ogr -f \\\"ESRI Shapefile\\\" $(dirname {})/shapefiles-$(basename {} .gdb) {}', ';'])\n",
    "\n",
    "\n",
    "\n"
   ]
  }
 ],
 "metadata": {
  "kernelspec": {
   "display_name": "Python 3.10.6 64-bit",
   "language": "python",
   "name": "python3"
  },
  "language_info": {
   "codemirror_mode": {
    "name": "ipython",
    "version": 3
   },
   "file_extension": ".py",
   "mimetype": "text/x-python",
   "name": "python",
   "nbconvert_exporter": "python",
   "pygments_lexer": "ipython3",
   "version": "3.10.6"
  },
  "vscode": {
   "interpreter": {
    "hash": "aee8b7b246df8f9039afb4144a1f6fd8d2ca17a180786b69acc140d282b71a49"
   }
  }
 },
 "nbformat": 4,
 "nbformat_minor": 5
}
