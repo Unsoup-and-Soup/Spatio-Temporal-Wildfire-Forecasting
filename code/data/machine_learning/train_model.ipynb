{
 "cells": [
  {
   "cell_type": "code",
   "execution_count": 68,
   "id": "c18d4154",
   "metadata": {
    "ExecuteTime": {
     "end_time": "2022-12-05T01:59:57.806132Z",
     "start_time": "2022-12-05T01:59:57.798644Z"
    }
   },
   "outputs": [],
   "source": [
    "from shapely.geometry import Point, Polygon, MultiPolygon\n",
    "from datetime import datetime, timedelta\n",
    "from tensorflow.keras.models import Sequential\n",
    "from tensorflow.keras.layers import Dense, Conv2D, ConvLSTM2D, LSTM, GRU\n",
    "from tensorflow.keras.layers import RepeatVector, Activation, MaxPooling3D, MaxPooling2D, Dropout, Flatten\n",
    "from tensorflow.keras.optimizers import Adam\n",
    "from tensorflow.keras.metrics import Accuracy, BinaryAccuracy, Precision, Recall, PrecisionAtRecall, RecallAtPrecision\n",
    "from sklearn.model_selection import train_test_split\n",
    "from pyproj import CRS\n",
    "import geopandas as gpd\n",
    "import pandas as pd\n",
    "import numpy as np\n",
    "import pathlib\n",
    "import os\n",
    "import matplotlib.pyplot as plt\n",
    "import random\n",
    "import pickle\n",
    "import rtree"
   ]
  },
  {
   "cell_type": "markdown",
   "id": "58574cdb",
   "metadata": {},
   "source": [
    "## Data Preprocessing"
   ]
  },
  {
   "cell_type": "code",
   "execution_count": 2,
   "id": "430484b5",
   "metadata": {
    "ExecuteTime": {
     "end_time": "2022-12-04T22:22:30.473659Z",
     "start_time": "2022-12-04T22:22:30.455103Z"
    }
   },
   "outputs": [],
   "source": [
    "diam = 40\n",
    "\n",
    "def generate_grid(fire_file_path, centroid_x, centroid_y):\n",
    "    fires = gpd.read_file(fire_file_path)\n",
    "    fires = fires.to_crs(epsg=3310)\n",
    "\n",
    "    # Get bounds of CRS\n",
    "    x_min, y_min, x_max, y_max = (-5198207.57, -1564155.99, 6820717.07, 5283999.14)\n",
    "\n",
    "    # Get the max polygon from shp file\n",
    "    polygons = fires.geometry\n",
    "    max_fire = None\n",
    "    for polygon in polygons:\n",
    "        if polygon is None:\n",
    "            continue\n",
    "        if not max_fire or polygon.area > max_fire.area:\n",
    "            max_fire = polygon\n",
    "            \n",
    "    if max_fire is None:\n",
    "        raise ValueError\n",
    "\n",
    "    # Generate points for each sqkm\n",
    "    points = []\n",
    "\n",
    "    topleft_x = int(centroid_x - (diam / 2) * 1000)\n",
    "    topleft_y = int(centroid_y - (diam / 2) * 1000)\n",
    "\n",
    "    points = [(x, y) for x in range(topleft_x, topleft_x + diam * 1000, 1000) for y in range(topleft_y, topleft_y + diam * 1000, 1000)]\n",
    "\n",
    "    # Generate boolean grid    \n",
    "    points_gdf = gpd.GeoDataFrame(index=list(range(diam ** 2)), crs='EPSG:3310', geometry=[Point(p) for p in points])\n",
    "    \n",
    "    max_fire_gdf = gpd.GeoDataFrame(index=[0], crs='EPSG:3310', geometry=[max_fire])\n",
    "    \n",
    "    join = gpd.sjoin(points_gdf, max_fire_gdf, how='left', predicate='within')\n",
    "    join['in'] = join['index_right'].notnull().astype(int)\n",
    "    \n",
    "    grid = np.asarray(join['in']).reshape(-1, diam)\n",
    "    x_grid = np.asarray([(x - x_min) / (x_max - x_min) for x, _ in points]).reshape(-1, diam)\n",
    "    y_grid = np.asarray([(y - y_min) / (y_max - y_min) for _, y in points]).reshape(-1, diam)\n",
    "    \n",
    "#     print(grid)\n",
    "#     print(x_grid)\n",
    "#     print(y_grid)\n",
    "\n",
    "    return grid, x_grid, y_grid"
   ]
  },
  {
   "cell_type": "code",
   "execution_count": 109,
   "id": "c5de5b69",
   "metadata": {
    "ExecuteTime": {
     "end_time": "2022-12-03T18:34:12.638799Z",
     "start_time": "2022-12-03T18:29:16.849426Z"
    },
    "collapsed": true
   },
   "outputs": [
    {
     "name": "stdout",
     "output_type": "stream",
     "text": [
      "0 .DS_Store\n",
      "1 CA-AEU-024918_Butte\n"
     ]
    },
    {
     "name": "stderr",
     "output_type": "stream",
     "text": [
      "ERROR:fiona._env:Unable to open download/cleaned_fire_data/CA-AEU-024918_Butte/GIS/20150914/20150913_2309_Butte_CAAEU024918_Poly_FirePolygon_NAD_1983_California_Teale_Albers.shx or download/cleaned_fire_data/CA-AEU-024918_Butte/GIS/20150914/20150913_2309_Butte_CAAEU024918_Poly_FirePolygon_NAD_1983_California_Teale_Albers.SHX. Set SHAPE_RESTORE_SHX config option to YES to restore or create it.\n"
     ]
    },
    {
     "name": "stdout",
     "output_type": "stream",
     "text": [
      "2 CA-BDF-013409_El_Dorado\n",
      "3 CA-BDF_007894_Lake\n",
      "4 CA-BEU-003422_Soberanes\n"
     ]
    },
    {
     "name": "stderr",
     "output_type": "stream",
     "text": [
      "ERROR:fiona._env:Unable to open download/cleaned_fire_data/CA-BEU-003422_Soberanes/GIS/20160904/20160903_1806_Soberanes_16CABEU003422_Poly_FirePolygon_NAD_1983_California_Teale_Albers.shx or download/cleaned_fire_data/CA-BEU-003422_Soberanes/GIS/20160904/20160903_1806_Soberanes_16CABEU003422_Poly_FirePolygon_NAD_1983_California_Teale_Albers.SHX. Set SHAPE_RESTORE_SHX config option to YES to restore or create it.\n"
     ]
    },
    {
     "name": "stdout",
     "output_type": "stream",
     "text": [
      "5 CA-BTU-009205_Dixie\n"
     ]
    },
    {
     "name": "stderr",
     "output_type": "stream",
     "text": [
      "ERROR:fiona._env:Unable to open download/cleaned_fire_data/CA-BTU-009692_BTU%20Lightning%20Complex/GIS/20200821/20200820_BTU-GTU_CABTU009841_EventPolygon.shx or download/cleaned_fire_data/CA-BTU-009692_BTU%20Lightning%20Complex/GIS/20200821/20200820_BTU-GTU_CABTU009841_EventPolygon.SHX. Set SHAPE_RESTORE_SHX config option to YES to restore or create it.\n"
     ]
    },
    {
     "name": "stdout",
     "output_type": "stream",
     "text": [
      "6 CA-BTU-009692_BTU%20Lightning%20Complex\n",
      "7 CA-BTU-016737_Camp\n",
      "8 CA-CZU-005205_CZU_Lightning_Complex\n",
      "9 CA-ENF-024030_Caldor\n",
      "10 CA-ENF-024030_Caldor_CALFIRE\n",
      "11 CA-HIA-000115_MillCreek1\n",
      "12 CA-HUU-005606_Humboldt_Complex\n",
      "13 CA-KNF-004500_Pony\n",
      "14 CA-KNF-005956_Happy_Camp_Cmplx\n",
      "15 CA-KNF-006081_Salmon_August_Complex\n",
      "16 CA-KNF-007501_Gap\n",
      "17 CA-KNF-5659_Fort_Complex\n",
      "18 CA-KNF-5949_Forks_Complex\n",
      "19 CA-KNF-6098_Eclipse_Complex\n",
      "20 CA-KNF-6385_RiverComplex\n",
      "21 CA-KNP-000122_KNPComplex\n",
      "22 CA-LMU-003917_Gold\n",
      "23 CA-LNU-010045_Central_LNU_Complex\n",
      "24 CA-LNU-010105_SouthernLNUComplex\n",
      "25 CA-LNU-013407_LNU_Lightning_Complex\n",
      "26 CA-LNU-015947_Glass\n",
      "27 CA-LNU-019376_Kincade\n",
      "28 CA-LPF-002428_Dolan\n",
      "29 CA-LPF-002809_Rey\n",
      "30 CA-MEU-007202_LodgeLightningComplex\n",
      "31 CA-MEU-008674_Mendocino_Complex\n",
      "32 CA-MEU-010843_August_Complex_West_Zone\n",
      "33 CA-NOD-004727_W-5ColdSprings\n",
      "34 CA-PNF-001308_PNF_North_Complex\n",
      "35 CA-PNF-001324_Walker\n",
      "36 CA-PNF-1064_Beckwourth\n",
      "37 CA-SCU-005740_SCU_Lightning_Complex\n",
      "38 CA-SHF-000017_Cutthroat_Middle_Ramshorn\n",
      "39 CA-SHF-001175_McFarland\n",
      "40 CA-SHF-001187_Monument\n",
      "41 CA-SHF-001223_Hirz\n",
      "42 CA-SHF-001444_Delta\n"
     ]
    },
    {
     "name": "stderr",
     "output_type": "stream",
     "text": [
      "ERROR:fiona._env:Unable to open download/cleaned_fire_data/CA-SHF-001770_Helena/GIS/20170903/EventPolygon 1.34.18 AM.shx or download/cleaned_fire_data/CA-SHF-001770_Helena/GIS/20170903/EventPolygon 1.34.18 AM.SHX. Set SHAPE_RESTORE_SHX config option to YES to restore or create it.\n",
      "ERROR:fiona._env:Unable to open download/cleaned_fire_data/CA-SHF-001770_Helena/GIS/20170904/EventPolygon 1.34.39 AM.shx or download/cleaned_fire_data/CA-SHF-001770_Helena/GIS/20170904/EventPolygon 1.34.39 AM.SHX. Set SHAPE_RESTORE_SHX config option to YES to restore or create it.\n"
     ]
    },
    {
     "name": "stdout",
     "output_type": "stream",
     "text": [
      "43 CA-SHF-001770_Helena\n",
      "44 CA-SHF-001850_Buck\n",
      "45 CA-SHF-002066_River_Complex\n"
     ]
    },
    {
     "name": "stderr",
     "output_type": "stream",
     "text": [
      "ERROR:fiona._env:Unable to open download/cleaned_fire_data/CA-SHF-002066_River_Complex/GIS/20150811/20150811_0753_RiverComplex_CA_SHF002066_Poly_FirePolygon_NAD_1983_UTM_Zone_10N.shx or download/cleaned_fire_data/CA-SHF-002066_River_Complex/GIS/20150811/20150811_0753_RiverComplex_CA_SHF002066_Poly_FirePolygon_NAD_1983_UTM_Zone_10N.SHX. Set SHAPE_RESTORE_SHX config option to YES to restore or create it.\n"
     ]
    },
    {
     "name": "stdout",
     "output_type": "stream",
     "text": [
      "46 CA-SHF-002067_Fork_Complex\n",
      "47 CA-SHF-002108_South_Complex\n",
      "48 CA-SHU-006248_BULLY\n",
      "49 CA-SHU-006933_Eiler\n",
      "50 CA-SHU-007808_Carr\n",
      "51 CA-SHU-009978_Zogg\n",
      "52 CA-SLU-008948_Chimney\n",
      "53 CA-SNF-0001743_Railroad\n",
      "54 CA-SNF-000745_Ferguson\n",
      "55 CA-SNF-001391_Creek\n",
      "56 CA-SNF_001732_Aspen\n"
     ]
    },
    {
     "name": "stderr",
     "output_type": "stream",
     "text": [
      "ERROR:fiona._env:Unable to open download/cleaned_fire_data/CA-SNF_001732_Aspen/GIS/20130729/20130729_1600_Aspen_CA-SNF-001732_Poly_FirePolygon_NAD_1983_UTM_Zone_11N.shx or download/cleaned_fire_data/CA-SNF_001732_Aspen/GIS/20130729/20130729_1600_Aspen_CA-SNF-001732_Poly_FirePolygon_NAD_1983_UTM_Zone_11N.SHX. Set SHAPE_RESTORE_SHX config option to YES to restore or create it.\n"
     ]
    },
    {
     "name": "stdout",
     "output_type": "stream",
     "text": [
      "57 CA-SNF_001746_Rough\n",
      "58 CA-SQF-001317_Schaeffer\n",
      "59 CA-SQF-002595_Cedar\n",
      "60 CA-SQF-002622_SQF%20COMPLEX\n",
      "61 CA-SRF-000656_Red_Salmon_Complex\n",
      "62 CA-SRF-000741_Orleans\n",
      "63 CA-SRF-001433_Mad_River_Complex\n",
      "64 CA-SRF-001470_Nickowitz\n",
      "65 CA-SRF-001476_Route_Complex\n",
      "66 CA-SRF-001488_GasquetComplex\n",
      "67 CA-SRF-1494_Corral_Complex\n",
      "68 CA-SRF-651_McCash\n",
      "69 CA-STF-001702_Donnell\n",
      "70 CA-VNC-103156_Thomas\n"
     ]
    }
   ],
   "source": [
    "DATE_FORMAT_CODE = '%Y%m%d'\n",
    "\n",
    "dataset_path = \"./download/cleaned_fire_data/\"\n",
    "\n",
    "all_data = []\n",
    "\n",
    "def preprocess_all(dataset_path):\n",
    "    regions = os.listdir(dataset_path)\n",
    "    for i, region in enumerate(sorted(regions)):\n",
    "        print(i, region)\n",
    "        if region != '.DS_Store':\n",
    "            date_path = os.path.join(dataset_path, region, 'GIS')\n",
    "            dates = os.listdir(date_path)\n",
    "            dates.sort() # Sort dates so that earliest date occur first\n",
    "            dates.remove(\".DS_Store\")\n",
    "            \n",
    "            # Obtain centroid for first date\n",
    "            fire_file_path = os.path.join(date_path, dates[0])\n",
    "            fire_file_name = list(pathlib.Path(fire_file_path).glob('*.shp'))\n",
    "            \n",
    "            if not fire_file_name:\n",
    "                continue\n",
    "            \n",
    "            try:\n",
    "                fires = gpd.read_file(fire_file_name[0])\n",
    "                fires = fires.to_crs(epsg=3310)\n",
    "                polygons = fires.geometry\n",
    "                max_fire = None\n",
    "                for polygon in polygons:\n",
    "                    if polygon is None:\n",
    "                        continue\n",
    "                    if not max_fire or polygon.area > max_fire.area:\n",
    "                        max_fire = polygon\n",
    "                        \n",
    "                # If first date does not have a fire, we skip the region\n",
    "                if not max_fire:\n",
    "                    continue\n",
    "\n",
    "                centroid_x = max_fire.centroid.x\n",
    "                centroid_y = max_fire.centroid.y\n",
    "            except:\n",
    "                continue\n",
    "            \n",
    "            for i, date in enumerate(dates):\n",
    "                # Check if 5 days in future exists\n",
    "                date_time_obj = datetime.strptime(date, DATE_FORMAT_CODE)\n",
    "                fire_file_path = os.path.join(date_path, date)\n",
    "                fire_file_name = list(pathlib.Path(fire_file_path).glob('*.shp'))\n",
    "                \n",
    "                if not fire_file_name:\n",
    "                    continue\n",
    "                    \n",
    "                try:\n",
    "                    grid, x_grid, y_grid = generate_grid(fire_file_name[0], centroid_x, centroid_y)\n",
    "                except ValueError as e:\n",
    "                    continue\n",
    "                    \n",
    "#                 print(datetime.strftime(date_time_obj, DATE_FORMAT_CODE))\n",
    "\n",
    "                all_data.append([date_time_obj, region, grid, x_grid, y_grid])\n",
    "                \n",
    "#                 break\n",
    "#             break\n",
    "                        \n",
    "            \n",
    "#             with open('all_data.pkl', 'wb') as f:\n",
    "#                 pickle.dump(all_data, f)\n",
    "\n",
    "preprocess_all(dataset_path)\n",
    "with open('all_data.pkl', 'wb') as f:\n",
    "    pickle.dump(all_data, f)"
   ]
  },
  {
   "cell_type": "markdown",
   "id": "9eb1633d",
   "metadata": {},
   "source": [
    "### Training Data Preparation"
   ]
  },
  {
   "cell_type": "code",
   "execution_count": 116,
   "id": "b52c3b1e",
   "metadata": {
    "ExecuteTime": {
     "end_time": "2022-12-03T18:37:50.543608Z",
     "start_time": "2022-12-03T18:37:49.906915Z"
    },
    "scrolled": true
   },
   "outputs": [
    {
     "data": {
      "text/html": [
       "<div>\n",
       "<style scoped>\n",
       "    .dataframe tbody tr th:only-of-type {\n",
       "        vertical-align: middle;\n",
       "    }\n",
       "\n",
       "    .dataframe tbody tr th {\n",
       "        vertical-align: top;\n",
       "    }\n",
       "\n",
       "    .dataframe thead th {\n",
       "        text-align: right;\n",
       "    }\n",
       "</style>\n",
       "<table border=\"1\" class=\"dataframe\">\n",
       "  <thead>\n",
       "    <tr style=\"text-align: right;\">\n",
       "      <th></th>\n",
       "      <th>date</th>\n",
       "      <th>name</th>\n",
       "      <th>fire</th>\n",
       "      <th>x</th>\n",
       "      <th>y</th>\n",
       "    </tr>\n",
       "  </thead>\n",
       "  <tbody>\n",
       "    <tr>\n",
       "      <th>0</th>\n",
       "      <td>2015-09-10</td>\n",
       "      <td>CA-AEU-024918_Butte</td>\n",
       "      <td>[[0, 0, 0, 0, 0, 0, 0, 0, 0, 0, 0, 0, 0, 0, 0,...</td>\n",
       "      <td>[[0.4259604518162617, 0.4259604518162617, 0.42...</td>\n",
       "      <td>[[0.23055654552615254, 0.2307025702555894, 0.2...</td>\n",
       "    </tr>\n",
       "    <tr>\n",
       "      <th>1</th>\n",
       "      <td>2015-09-11</td>\n",
       "      <td>CA-AEU-024918_Butte</td>\n",
       "      <td>[[0, 0, 0, 0, 0, 0, 0, 0, 0, 0, 0, 0, 0, 0, 0,...</td>\n",
       "      <td>[[0.4259604518162617, 0.4259604518162617, 0.42...</td>\n",
       "      <td>[[0.23055654552615254, 0.2307025702555894, 0.2...</td>\n",
       "    </tr>\n",
       "    <tr>\n",
       "      <th>2</th>\n",
       "      <td>2015-09-12</td>\n",
       "      <td>CA-AEU-024918_Butte</td>\n",
       "      <td>[[0, 0, 0, 0, 0, 0, 0, 0, 0, 0, 0, 0, 0, 0, 0,...</td>\n",
       "      <td>[[0.4259604518162617, 0.4259604518162617, 0.42...</td>\n",
       "      <td>[[0.23055654552615254, 0.2307025702555894, 0.2...</td>\n",
       "    </tr>\n",
       "    <tr>\n",
       "      <th>3</th>\n",
       "      <td>2015-09-13</td>\n",
       "      <td>CA-AEU-024918_Butte</td>\n",
       "      <td>[[0, 0, 0, 0, 0, 0, 0, 0, 0, 0, 0, 0, 0, 0, 0,...</td>\n",
       "      <td>[[0.4259604518162617, 0.4259604518162617, 0.42...</td>\n",
       "      <td>[[0.23055654552615254, 0.2307025702555894, 0.2...</td>\n",
       "    </tr>\n",
       "    <tr>\n",
       "      <th>4</th>\n",
       "      <td>2015-09-15</td>\n",
       "      <td>CA-AEU-024918_Butte</td>\n",
       "      <td>[[0, 0, 0, 0, 0, 0, 0, 0, 0, 0, 0, 0, 0, 0, 0,...</td>\n",
       "      <td>[[0.4259604518162617, 0.4259604518162617, 0.42...</td>\n",
       "      <td>[[0.23055654552615254, 0.2307025702555894, 0.2...</td>\n",
       "    </tr>\n",
       "    <tr>\n",
       "      <th>...</th>\n",
       "      <td>...</td>\n",
       "      <td>...</td>\n",
       "      <td>...</td>\n",
       "      <td>...</td>\n",
       "      <td>...</td>\n",
       "    </tr>\n",
       "    <tr>\n",
       "      <th>1708</th>\n",
       "      <td>2017-12-27</td>\n",
       "      <td>CA-VNC-103156_Thomas</td>\n",
       "      <td>[[0, 0, 0, 0, 0, 0, 0, 0, 0, 0, 0, 0, 0, 0, 0,...</td>\n",
       "      <td>[[0.4370482990231978, 0.4370482990231978, 0.43...</td>\n",
       "      <td>[[0.16602325274719645, 0.16616927747663332, 0....</td>\n",
       "    </tr>\n",
       "    <tr>\n",
       "      <th>1709</th>\n",
       "      <td>2017-12-28</td>\n",
       "      <td>CA-VNC-103156_Thomas</td>\n",
       "      <td>[[0, 0, 0, 0, 0, 0, 0, 0, 0, 0, 0, 0, 0, 0, 0,...</td>\n",
       "      <td>[[0.4370482990231978, 0.4370482990231978, 0.43...</td>\n",
       "      <td>[[0.16602325274719645, 0.16616927747663332, 0....</td>\n",
       "    </tr>\n",
       "    <tr>\n",
       "      <th>1710</th>\n",
       "      <td>2017-12-29</td>\n",
       "      <td>CA-VNC-103156_Thomas</td>\n",
       "      <td>[[0, 0, 0, 0, 0, 0, 0, 0, 0, 0, 0, 0, 0, 0, 0,...</td>\n",
       "      <td>[[0.4370482990231978, 0.4370482990231978, 0.43...</td>\n",
       "      <td>[[0.16602325274719645, 0.16616927747663332, 0....</td>\n",
       "    </tr>\n",
       "    <tr>\n",
       "      <th>1711</th>\n",
       "      <td>2017-12-30</td>\n",
       "      <td>CA-VNC-103156_Thomas</td>\n",
       "      <td>[[0, 0, 0, 0, 0, 0, 0, 0, 0, 0, 0, 0, 0, 0, 0,...</td>\n",
       "      <td>[[0.4370482990231978, 0.4370482990231978, 0.43...</td>\n",
       "      <td>[[0.16602325274719645, 0.16616927747663332, 0....</td>\n",
       "    </tr>\n",
       "    <tr>\n",
       "      <th>1712</th>\n",
       "      <td>2017-12-31</td>\n",
       "      <td>CA-VNC-103156_Thomas</td>\n",
       "      <td>[[0, 0, 0, 0, 0, 0, 0, 0, 0, 0, 0, 0, 0, 0, 0,...</td>\n",
       "      <td>[[0.4370482990231978, 0.4370482990231978, 0.43...</td>\n",
       "      <td>[[0.16602325274719645, 0.16616927747663332, 0....</td>\n",
       "    </tr>\n",
       "  </tbody>\n",
       "</table>\n",
       "<p>1713 rows × 5 columns</p>\n",
       "</div>"
      ],
      "text/plain": [
       "           date                  name  \\\n",
       "0    2015-09-10   CA-AEU-024918_Butte   \n",
       "1    2015-09-11   CA-AEU-024918_Butte   \n",
       "2    2015-09-12   CA-AEU-024918_Butte   \n",
       "3    2015-09-13   CA-AEU-024918_Butte   \n",
       "4    2015-09-15   CA-AEU-024918_Butte   \n",
       "...         ...                   ...   \n",
       "1708 2017-12-27  CA-VNC-103156_Thomas   \n",
       "1709 2017-12-28  CA-VNC-103156_Thomas   \n",
       "1710 2017-12-29  CA-VNC-103156_Thomas   \n",
       "1711 2017-12-30  CA-VNC-103156_Thomas   \n",
       "1712 2017-12-31  CA-VNC-103156_Thomas   \n",
       "\n",
       "                                                   fire  \\\n",
       "0     [[0, 0, 0, 0, 0, 0, 0, 0, 0, 0, 0, 0, 0, 0, 0,...   \n",
       "1     [[0, 0, 0, 0, 0, 0, 0, 0, 0, 0, 0, 0, 0, 0, 0,...   \n",
       "2     [[0, 0, 0, 0, 0, 0, 0, 0, 0, 0, 0, 0, 0, 0, 0,...   \n",
       "3     [[0, 0, 0, 0, 0, 0, 0, 0, 0, 0, 0, 0, 0, 0, 0,...   \n",
       "4     [[0, 0, 0, 0, 0, 0, 0, 0, 0, 0, 0, 0, 0, 0, 0,...   \n",
       "...                                                 ...   \n",
       "1708  [[0, 0, 0, 0, 0, 0, 0, 0, 0, 0, 0, 0, 0, 0, 0,...   \n",
       "1709  [[0, 0, 0, 0, 0, 0, 0, 0, 0, 0, 0, 0, 0, 0, 0,...   \n",
       "1710  [[0, 0, 0, 0, 0, 0, 0, 0, 0, 0, 0, 0, 0, 0, 0,...   \n",
       "1711  [[0, 0, 0, 0, 0, 0, 0, 0, 0, 0, 0, 0, 0, 0, 0,...   \n",
       "1712  [[0, 0, 0, 0, 0, 0, 0, 0, 0, 0, 0, 0, 0, 0, 0,...   \n",
       "\n",
       "                                                      x  \\\n",
       "0     [[0.4259604518162617, 0.4259604518162617, 0.42...   \n",
       "1     [[0.4259604518162617, 0.4259604518162617, 0.42...   \n",
       "2     [[0.4259604518162617, 0.4259604518162617, 0.42...   \n",
       "3     [[0.4259604518162617, 0.4259604518162617, 0.42...   \n",
       "4     [[0.4259604518162617, 0.4259604518162617, 0.42...   \n",
       "...                                                 ...   \n",
       "1708  [[0.4370482990231978, 0.4370482990231978, 0.43...   \n",
       "1709  [[0.4370482990231978, 0.4370482990231978, 0.43...   \n",
       "1710  [[0.4370482990231978, 0.4370482990231978, 0.43...   \n",
       "1711  [[0.4370482990231978, 0.4370482990231978, 0.43...   \n",
       "1712  [[0.4370482990231978, 0.4370482990231978, 0.43...   \n",
       "\n",
       "                                                      y  \n",
       "0     [[0.23055654552615254, 0.2307025702555894, 0.2...  \n",
       "1     [[0.23055654552615254, 0.2307025702555894, 0.2...  \n",
       "2     [[0.23055654552615254, 0.2307025702555894, 0.2...  \n",
       "3     [[0.23055654552615254, 0.2307025702555894, 0.2...  \n",
       "4     [[0.23055654552615254, 0.2307025702555894, 0.2...  \n",
       "...                                                 ...  \n",
       "1708  [[0.16602325274719645, 0.16616927747663332, 0....  \n",
       "1709  [[0.16602325274719645, 0.16616927747663332, 0....  \n",
       "1710  [[0.16602325274719645, 0.16616927747663332, 0....  \n",
       "1711  [[0.16602325274719645, 0.16616927747663332, 0....  \n",
       "1712  [[0.16602325274719645, 0.16616927747663332, 0....  \n",
       "\n",
       "[1713 rows x 5 columns]"
      ]
     },
     "execution_count": 116,
     "metadata": {},
     "output_type": "execute_result"
    }
   ],
   "source": [
    "df = pd.DataFrame(all_data, columns=['date', 'name', 'fire', 'x', 'y'])\n",
    "df.to_pickle(\"./all_df.pkl\")\n",
    "df"
   ]
  },
  {
   "cell_type": "code",
   "execution_count": 3,
   "id": "efb0e000",
   "metadata": {
    "ExecuteTime": {
     "end_time": "2022-12-04T22:22:37.640954Z",
     "start_time": "2022-12-04T22:22:37.006326Z"
    }
   },
   "outputs": [
    {
     "data": {
      "text/html": [
       "<div>\n",
       "<style scoped>\n",
       "    .dataframe tbody tr th:only-of-type {\n",
       "        vertical-align: middle;\n",
       "    }\n",
       "\n",
       "    .dataframe tbody tr th {\n",
       "        vertical-align: top;\n",
       "    }\n",
       "\n",
       "    .dataframe thead th {\n",
       "        text-align: right;\n",
       "    }\n",
       "</style>\n",
       "<table border=\"1\" class=\"dataframe\">\n",
       "  <thead>\n",
       "    <tr style=\"text-align: right;\">\n",
       "      <th></th>\n",
       "      <th>date</th>\n",
       "      <th>name</th>\n",
       "      <th>fire</th>\n",
       "      <th>x</th>\n",
       "      <th>y</th>\n",
       "    </tr>\n",
       "  </thead>\n",
       "  <tbody>\n",
       "    <tr>\n",
       "      <th>0</th>\n",
       "      <td>2015-09-10</td>\n",
       "      <td>CA-AEU-024918_Butte</td>\n",
       "      <td>[[0, 0, 0, 0, 0, 0, 0, 0, 0, 0, 0, 0, 0, 0, 0,...</td>\n",
       "      <td>[[0.4259604518162617, 0.4259604518162617, 0.42...</td>\n",
       "      <td>[[0.23055654552615254, 0.2307025702555894, 0.2...</td>\n",
       "    </tr>\n",
       "    <tr>\n",
       "      <th>1</th>\n",
       "      <td>2015-09-11</td>\n",
       "      <td>CA-AEU-024918_Butte</td>\n",
       "      <td>[[0, 0, 0, 0, 0, 0, 0, 0, 0, 0, 0, 0, 0, 0, 0,...</td>\n",
       "      <td>[[0.4259604518162617, 0.4259604518162617, 0.42...</td>\n",
       "      <td>[[0.23055654552615254, 0.2307025702555894, 0.2...</td>\n",
       "    </tr>\n",
       "    <tr>\n",
       "      <th>2</th>\n",
       "      <td>2015-09-12</td>\n",
       "      <td>CA-AEU-024918_Butte</td>\n",
       "      <td>[[0, 0, 0, 0, 0, 0, 0, 0, 0, 0, 0, 0, 0, 0, 0,...</td>\n",
       "      <td>[[0.4259604518162617, 0.4259604518162617, 0.42...</td>\n",
       "      <td>[[0.23055654552615254, 0.2307025702555894, 0.2...</td>\n",
       "    </tr>\n",
       "    <tr>\n",
       "      <th>3</th>\n",
       "      <td>2015-09-13</td>\n",
       "      <td>CA-AEU-024918_Butte</td>\n",
       "      <td>[[0, 0, 0, 0, 0, 0, 0, 0, 0, 0, 0, 0, 0, 0, 0,...</td>\n",
       "      <td>[[0.4259604518162617, 0.4259604518162617, 0.42...</td>\n",
       "      <td>[[0.23055654552615254, 0.2307025702555894, 0.2...</td>\n",
       "    </tr>\n",
       "    <tr>\n",
       "      <th>4</th>\n",
       "      <td>2015-09-15</td>\n",
       "      <td>CA-AEU-024918_Butte</td>\n",
       "      <td>[[0, 0, 0, 0, 0, 0, 0, 0, 0, 0, 0, 0, 0, 0, 0,...</td>\n",
       "      <td>[[0.4259604518162617, 0.4259604518162617, 0.42...</td>\n",
       "      <td>[[0.23055654552615254, 0.2307025702555894, 0.2...</td>\n",
       "    </tr>\n",
       "    <tr>\n",
       "      <th>...</th>\n",
       "      <td>...</td>\n",
       "      <td>...</td>\n",
       "      <td>...</td>\n",
       "      <td>...</td>\n",
       "      <td>...</td>\n",
       "    </tr>\n",
       "    <tr>\n",
       "      <th>1708</th>\n",
       "      <td>2017-12-27</td>\n",
       "      <td>CA-VNC-103156_Thomas</td>\n",
       "      <td>[[0, 0, 0, 0, 0, 0, 0, 0, 0, 0, 0, 0, 0, 0, 0,...</td>\n",
       "      <td>[[0.4370482990231978, 0.4370482990231978, 0.43...</td>\n",
       "      <td>[[0.16602325274719645, 0.16616927747663332, 0....</td>\n",
       "    </tr>\n",
       "    <tr>\n",
       "      <th>1709</th>\n",
       "      <td>2017-12-28</td>\n",
       "      <td>CA-VNC-103156_Thomas</td>\n",
       "      <td>[[0, 0, 0, 0, 0, 0, 0, 0, 0, 0, 0, 0, 0, 0, 0,...</td>\n",
       "      <td>[[0.4370482990231978, 0.4370482990231978, 0.43...</td>\n",
       "      <td>[[0.16602325274719645, 0.16616927747663332, 0....</td>\n",
       "    </tr>\n",
       "    <tr>\n",
       "      <th>1710</th>\n",
       "      <td>2017-12-29</td>\n",
       "      <td>CA-VNC-103156_Thomas</td>\n",
       "      <td>[[0, 0, 0, 0, 0, 0, 0, 0, 0, 0, 0, 0, 0, 0, 0,...</td>\n",
       "      <td>[[0.4370482990231978, 0.4370482990231978, 0.43...</td>\n",
       "      <td>[[0.16602325274719645, 0.16616927747663332, 0....</td>\n",
       "    </tr>\n",
       "    <tr>\n",
       "      <th>1711</th>\n",
       "      <td>2017-12-30</td>\n",
       "      <td>CA-VNC-103156_Thomas</td>\n",
       "      <td>[[0, 0, 0, 0, 0, 0, 0, 0, 0, 0, 0, 0, 0, 0, 0,...</td>\n",
       "      <td>[[0.4370482990231978, 0.4370482990231978, 0.43...</td>\n",
       "      <td>[[0.16602325274719645, 0.16616927747663332, 0....</td>\n",
       "    </tr>\n",
       "    <tr>\n",
       "      <th>1712</th>\n",
       "      <td>2017-12-31</td>\n",
       "      <td>CA-VNC-103156_Thomas</td>\n",
       "      <td>[[0, 0, 0, 0, 0, 0, 0, 0, 0, 0, 0, 0, 0, 0, 0,...</td>\n",
       "      <td>[[0.4370482990231978, 0.4370482990231978, 0.43...</td>\n",
       "      <td>[[0.16602325274719645, 0.16616927747663332, 0....</td>\n",
       "    </tr>\n",
       "  </tbody>\n",
       "</table>\n",
       "<p>1713 rows × 5 columns</p>\n",
       "</div>"
      ],
      "text/plain": [
       "           date                  name  \\\n",
       "0    2015-09-10   CA-AEU-024918_Butte   \n",
       "1    2015-09-11   CA-AEU-024918_Butte   \n",
       "2    2015-09-12   CA-AEU-024918_Butte   \n",
       "3    2015-09-13   CA-AEU-024918_Butte   \n",
       "4    2015-09-15   CA-AEU-024918_Butte   \n",
       "...         ...                   ...   \n",
       "1708 2017-12-27  CA-VNC-103156_Thomas   \n",
       "1709 2017-12-28  CA-VNC-103156_Thomas   \n",
       "1710 2017-12-29  CA-VNC-103156_Thomas   \n",
       "1711 2017-12-30  CA-VNC-103156_Thomas   \n",
       "1712 2017-12-31  CA-VNC-103156_Thomas   \n",
       "\n",
       "                                                   fire  \\\n",
       "0     [[0, 0, 0, 0, 0, 0, 0, 0, 0, 0, 0, 0, 0, 0, 0,...   \n",
       "1     [[0, 0, 0, 0, 0, 0, 0, 0, 0, 0, 0, 0, 0, 0, 0,...   \n",
       "2     [[0, 0, 0, 0, 0, 0, 0, 0, 0, 0, 0, 0, 0, 0, 0,...   \n",
       "3     [[0, 0, 0, 0, 0, 0, 0, 0, 0, 0, 0, 0, 0, 0, 0,...   \n",
       "4     [[0, 0, 0, 0, 0, 0, 0, 0, 0, 0, 0, 0, 0, 0, 0,...   \n",
       "...                                                 ...   \n",
       "1708  [[0, 0, 0, 0, 0, 0, 0, 0, 0, 0, 0, 0, 0, 0, 0,...   \n",
       "1709  [[0, 0, 0, 0, 0, 0, 0, 0, 0, 0, 0, 0, 0, 0, 0,...   \n",
       "1710  [[0, 0, 0, 0, 0, 0, 0, 0, 0, 0, 0, 0, 0, 0, 0,...   \n",
       "1711  [[0, 0, 0, 0, 0, 0, 0, 0, 0, 0, 0, 0, 0, 0, 0,...   \n",
       "1712  [[0, 0, 0, 0, 0, 0, 0, 0, 0, 0, 0, 0, 0, 0, 0,...   \n",
       "\n",
       "                                                      x  \\\n",
       "0     [[0.4259604518162617, 0.4259604518162617, 0.42...   \n",
       "1     [[0.4259604518162617, 0.4259604518162617, 0.42...   \n",
       "2     [[0.4259604518162617, 0.4259604518162617, 0.42...   \n",
       "3     [[0.4259604518162617, 0.4259604518162617, 0.42...   \n",
       "4     [[0.4259604518162617, 0.4259604518162617, 0.42...   \n",
       "...                                                 ...   \n",
       "1708  [[0.4370482990231978, 0.4370482990231978, 0.43...   \n",
       "1709  [[0.4370482990231978, 0.4370482990231978, 0.43...   \n",
       "1710  [[0.4370482990231978, 0.4370482990231978, 0.43...   \n",
       "1711  [[0.4370482990231978, 0.4370482990231978, 0.43...   \n",
       "1712  [[0.4370482990231978, 0.4370482990231978, 0.43...   \n",
       "\n",
       "                                                      y  \n",
       "0     [[0.23055654552615254, 0.2307025702555894, 0.2...  \n",
       "1     [[0.23055654552615254, 0.2307025702555894, 0.2...  \n",
       "2     [[0.23055654552615254, 0.2307025702555894, 0.2...  \n",
       "3     [[0.23055654552615254, 0.2307025702555894, 0.2...  \n",
       "4     [[0.23055654552615254, 0.2307025702555894, 0.2...  \n",
       "...                                                 ...  \n",
       "1708  [[0.16602325274719645, 0.16616927747663332, 0....  \n",
       "1709  [[0.16602325274719645, 0.16616927747663332, 0....  \n",
       "1710  [[0.16602325274719645, 0.16616927747663332, 0....  \n",
       "1711  [[0.16602325274719645, 0.16616927747663332, 0....  \n",
       "1712  [[0.16602325274719645, 0.16616927747663332, 0....  \n",
       "\n",
       "[1713 rows x 5 columns]"
      ]
     },
     "execution_count": 3,
     "metadata": {},
     "output_type": "execute_result"
    }
   ],
   "source": [
    "df = pd.read_pickle('./all_df.pkl')\n",
    "df"
   ]
  },
  {
   "cell_type": "code",
   "execution_count": 4,
   "id": "bc2eaa69",
   "metadata": {
    "ExecuteTime": {
     "end_time": "2022-12-04T22:22:46.273616Z",
     "start_time": "2022-12-04T22:22:43.222387Z"
    }
   },
   "outputs": [],
   "source": [
    "days = [2, 4, 6]\n",
    "\n",
    "data = []\n",
    "label = []\n",
    "for i in range(len(df)):\n",
    "    row = df.iloc[i]\n",
    "    \n",
    "    fire = np.asarray(row['fire'])\n",
    "    x_grid = np.asarray(row['y'])\n",
    "    y_grid = np.asarray(row['y'])\n",
    "    \n",
    "    good = True\n",
    "    \n",
    "    fire_future = []\n",
    "    for k in days:\n",
    "        temp = df[(df['date'] == row['date'] + timedelta(days=k)) & (df['name'] == row['name'])]\n",
    "        if len(temp) == 0:\n",
    "            good = False\n",
    "            break\n",
    "        fire_future.append(temp['fire'].iloc[0])\n",
    "        \n",
    "    if not good:\n",
    "        continue\n",
    "        \n",
    "    data += [[fire] * len(days)]\n",
    "    label.append(np.asarray(fire_future).flatten())\n",
    "    \n",
    "data = np.asarray(data)\n",
    "label = np.asarray(label)"
   ]
  },
  {
   "cell_type": "code",
   "execution_count": 5,
   "id": "251196ab",
   "metadata": {
    "ExecuteTime": {
     "end_time": "2022-12-04T22:22:46.280899Z",
     "start_time": "2022-12-04T22:22:46.277359Z"
    }
   },
   "outputs": [
    {
     "name": "stdout",
     "output_type": "stream",
     "text": [
      "(1040, 3, 40, 40) (1040, 4800)\n"
     ]
    }
   ],
   "source": [
    "print(data.shape, label.shape)"
   ]
  },
  {
   "cell_type": "code",
   "execution_count": 20,
   "id": "ec442215",
   "metadata": {
    "ExecuteTime": {
     "end_time": "2022-12-04T22:25:13.859882Z",
     "start_time": "2022-12-04T22:25:13.805593Z"
    }
   },
   "outputs": [],
   "source": [
    "X_train, X_test, y_train, y_test = train_test_split(data, label, test_size=0.25, random_state=10)"
   ]
  },
  {
   "cell_type": "markdown",
   "id": "8c11ed97",
   "metadata": {},
   "source": [
    "## Model Selection and Training"
   ]
  },
  {
   "cell_type": "code",
   "execution_count": 8,
   "id": "266cf7c4",
   "metadata": {
    "ExecuteTime": {
     "end_time": "2022-12-04T22:23:04.325820Z",
     "start_time": "2022-12-04T22:23:04.318272Z"
    }
   },
   "outputs": [],
   "source": [
    "def get_dense_model():\n",
    "    model = Sequential()\n",
    "\n",
    "    model.add(Dense(units=100, input_shape=(len(days), diam, diam), activation='relu'))\n",
    "    model.add(Flatten())\n",
    "    model.add(Dense(units=400, activation='relu'))\n",
    "    model.add(Dense(units=diam ** 2 * len(days), activation='sigmoid'))\n",
    "    \n",
    "    return model\n",
    "\n",
    "def get_conv_lstm_model():\n",
    "    model = Sequential()\n",
    "\n",
    "    model.add(ConvLSTM2D(8, (3, 3), padding='valid', input_shape=(len(days), diam, diam, 1), return_sequences=True))\n",
    "    model.add(Activation('relu'))\n",
    "\n",
    "    model.add(ConvLSTM2D(8, (3, 3), padding='valid', return_sequences=True))\n",
    "    model.add(Activation('relu'))\n",
    "    model.add(MaxPooling3D(pool_size=(1, 2, 2)))\n",
    "\n",
    "    model.add(Flatten())\n",
    "\n",
    "    model.add(Dense(units=600, activation='relu'))\n",
    "    model.add(Dense(units=600, activation='relu'))\n",
    "    model.add(Dense(units=diam ** 2 * len(days), activation='sigmoid'))\n",
    "    \n",
    "    return model"
   ]
  },
  {
   "cell_type": "markdown",
   "id": "ef697785",
   "metadata": {},
   "source": [
    "### Conv+LSTM Model"
   ]
  },
  {
   "cell_type": "code",
   "execution_count": 38,
   "id": "fc3c1cdc",
   "metadata": {
    "ExecuteTime": {
     "end_time": "2022-12-04T22:35:19.423984Z",
     "start_time": "2022-12-04T22:35:19.159035Z"
    }
   },
   "outputs": [
    {
     "name": "stdout",
     "output_type": "stream",
     "text": [
      "Model: \"sequential_6\"\n",
      "_________________________________________________________________\n",
      " Layer (type)                Output Shape              Param #   \n",
      "=================================================================\n",
      " conv_lstm2d (ConvLSTM2D)    (None, 3, 38, 38, 8)      2624      \n",
      "                                                                 \n",
      " activation (Activation)     (None, 3, 38, 38, 8)      0         \n",
      "                                                                 \n",
      " conv_lstm2d_1 (ConvLSTM2D)  (None, 3, 36, 36, 8)      4640      \n",
      "                                                                 \n",
      " activation_1 (Activation)   (None, 3, 36, 36, 8)      0         \n",
      "                                                                 \n",
      " max_pooling3d (MaxPooling3D  (None, 3, 18, 18, 8)     0         \n",
      " )                                                               \n",
      "                                                                 \n",
      " flatten_6 (Flatten)         (None, 7776)              0         \n",
      "                                                                 \n",
      " dense_18 (Dense)            (None, 600)               4666200   \n",
      "                                                                 \n",
      " dense_19 (Dense)            (None, 600)               360600    \n",
      "                                                                 \n",
      " dense_20 (Dense)            (None, 4800)              2884800   \n",
      "                                                                 \n",
      "=================================================================\n",
      "Total params: 7,918,864\n",
      "Trainable params: 7,918,864\n",
      "Non-trainable params: 0\n",
      "_________________________________________________________________\n"
     ]
    }
   ],
   "source": [
    "model = get_conv_lstm_model()\n",
    "model.summary()"
   ]
  },
  {
   "cell_type": "code",
   "execution_count": 39,
   "id": "5694717a",
   "metadata": {
    "ExecuteTime": {
     "end_time": "2022-12-04T22:35:19.947134Z",
     "start_time": "2022-12-04T22:35:19.916879Z"
    }
   },
   "outputs": [],
   "source": [
    "model.compile(optimizer=Adam(), loss='mean_squared_error', metrics=[BinaryAccuracy(), Precision(), Recall(), PrecisionAtRecall(0.2), RecallAtPrecision(0.2)])"
   ]
  },
  {
   "cell_type": "code",
   "execution_count": 40,
   "id": "0ee80f9a",
   "metadata": {
    "ExecuteTime": {
     "end_time": "2022-12-04T22:53:43.413067Z",
     "start_time": "2022-12-04T22:35:30.876627Z"
    },
    "scrolled": true
   },
   "outputs": [
    {
     "name": "stdout",
     "output_type": "stream",
     "text": [
      "Epoch 1/60\n",
      "74/74 [==============================] - 16s 169ms/step - loss: 0.1552 - binary_accuracy: 0.8338 - precision_5: 0.4290 - recall_5: 0.1867 - precision_at_recall_5: 0.2713 - recall_at_precision_5: 0.6154 - val_loss: 0.0963 - val_binary_accuracy: 0.8491 - val_precision_5: 0.7020 - val_recall_5: 0.0974 - val_precision_at_recall_5: 0.7661 - val_recall_at_precision_5: 0.9945\n",
      "Epoch 2/60\n",
      "74/74 [==============================] - 12s 167ms/step - loss: 0.0795 - binary_accuracy: 0.8892 - precision_5: 0.7291 - recall_5: 0.4645 - precision_at_recall_5: 0.8310 - recall_at_precision_5: 0.9803 - val_loss: 0.0619 - val_binary_accuracy: 0.9191 - val_precision_5: 0.7579 - val_recall_5: 0.7256 - val_precision_at_recall_5: 0.9281 - val_recall_at_precision_5: 0.9689\n",
      "Epoch 3/60\n",
      "74/74 [==============================] - 12s 165ms/step - loss: 0.0580 - binary_accuracy: 0.9240 - precision_5: 0.7914 - recall_5: 0.6989 - precision_at_recall_5: 0.9238 - recall_at_precision_5: 0.9661 - val_loss: 0.0504 - val_binary_accuracy: 0.9344 - val_precision_5: 0.8278 - val_recall_5: 0.7447 - val_precision_at_recall_5: 0.9709 - val_recall_at_precision_5: 0.9761\n",
      "Epoch 4/60\n",
      "74/74 [==============================] - 12s 164ms/step - loss: 0.0460 - binary_accuracy: 0.9415 - precision_5: 0.8430 - recall_5: 0.7697 - precision_at_recall_5: 0.9587 - recall_at_precision_5: 0.9650 - val_loss: 0.0413 - val_binary_accuracy: 0.9475 - val_precision_5: 0.8757 - val_recall_5: 0.7827 - val_precision_at_recall_5: 0.9716 - val_recall_at_precision_5: 0.9676\n",
      "Epoch 5/60\n",
      "74/74 [==============================] - 13s 183ms/step - loss: 0.0371 - binary_accuracy: 0.9542 - precision_5: 0.8837 - recall_5: 0.8144 - precision_at_recall_5: 0.9699 - recall_at_precision_5: 0.9639 - val_loss: 0.0339 - val_binary_accuracy: 0.9576 - val_precision_5: 0.8968 - val_recall_5: 0.8304 - val_precision_at_recall_5: 0.9850 - val_recall_at_precision_5: 0.9704\n",
      "Epoch 6/60\n",
      "74/74 [==============================] - 21s 284ms/step - loss: 0.0324 - binary_accuracy: 0.9606 - precision_5: 0.9022 - recall_5: 0.8395 - precision_at_recall_5: 0.9755 - recall_at_precision_5: 0.9657 - val_loss: 0.0318 - val_binary_accuracy: 0.9599 - val_precision_5: 0.9286 - val_recall_5: 0.8112 - val_precision_at_recall_5: 0.9850 - val_recall_at_precision_5: 0.9651\n",
      "Epoch 7/60\n",
      "74/74 [==============================] - 13s 178ms/step - loss: 0.0303 - binary_accuracy: 0.9637 - precision_5: 0.9130 - recall_5: 0.8490 - precision_at_recall_5: 0.9765 - recall_at_precision_5: 0.9625 - val_loss: 0.0279 - val_binary_accuracy: 0.9660 - val_precision_5: 0.9101 - val_recall_5: 0.8738 - val_precision_at_recall_5: 0.9821 - val_recall_at_precision_5: 0.9681\n",
      "Epoch 8/60\n",
      "74/74 [==============================] - 14s 184ms/step - loss: 0.0258 - binary_accuracy: 0.9697 - precision_5: 0.9266 - recall_5: 0.8758 - precision_at_recall_5: 0.9748 - recall_at_precision_5: 0.9643 - val_loss: 0.0270 - val_binary_accuracy: 0.9672 - val_precision_5: 0.9243 - val_recall_5: 0.8658 - val_precision_at_recall_5: 0.9860 - val_recall_at_precision_5: 0.9662\n",
      "Epoch 9/60\n",
      "74/74 [==============================] - 17s 224ms/step - loss: 0.0242 - binary_accuracy: 0.9718 - precision_5: 0.9322 - recall_5: 0.8839 - precision_at_recall_5: 0.9777 - recall_at_precision_5: 0.9656 - val_loss: 0.0253 - val_binary_accuracy: 0.9697 - val_precision_5: 0.9188 - val_recall_5: 0.8887 - val_precision_at_recall_5: 0.9787 - val_recall_at_precision_5: 0.9661\n",
      "Epoch 10/60\n",
      "74/74 [==============================] - 15s 199ms/step - loss: 0.0224 - binary_accuracy: 0.9739 - precision_5: 0.9380 - recall_5: 0.8922 - precision_at_recall_5: 0.9780 - recall_at_precision_5: 0.9676 - val_loss: 0.0241 - val_binary_accuracy: 0.9711 - val_precision_5: 0.9366 - val_recall_5: 0.8788 - val_precision_at_recall_5: 0.9835 - val_recall_at_precision_5: 0.9651\n",
      "Epoch 11/60\n",
      "74/74 [==============================] - 16s 217ms/step - loss: 0.0210 - binary_accuracy: 0.9756 - precision_5: 0.9415 - recall_5: 0.9000 - precision_at_recall_5: 0.9797 - recall_at_precision_5: 0.9678 - val_loss: 0.0242 - val_binary_accuracy: 0.9708 - val_precision_5: 0.9425 - val_recall_5: 0.8708 - val_precision_at_recall_5: 0.9838 - val_recall_at_precision_5: 0.9701\n",
      "Epoch 12/60\n",
      "74/74 [==============================] - 16s 219ms/step - loss: 0.0204 - binary_accuracy: 0.9762 - precision_5: 0.9426 - recall_5: 0.9029 - precision_at_recall_5: 0.9823 - recall_at_precision_5: 0.9714 - val_loss: 0.0229 - val_binary_accuracy: 0.9725 - val_precision_5: 0.9230 - val_recall_5: 0.9030 - val_precision_at_recall_5: 0.9819 - val_recall_at_precision_5: 0.9730\n",
      "Epoch 13/60\n",
      "74/74 [==============================] - 15s 205ms/step - loss: 0.0192 - binary_accuracy: 0.9776 - precision_5: 0.9457 - recall_5: 0.9088 - precision_at_recall_5: 0.9882 - recall_at_precision_5: 0.9742 - val_loss: 0.0213 - val_binary_accuracy: 0.9746 - val_precision_5: 0.9403 - val_recall_5: 0.8982 - val_precision_at_recall_5: 0.9836 - val_recall_at_precision_5: 0.9729\n",
      "Epoch 14/60\n",
      "74/74 [==============================] - 19s 251ms/step - loss: 0.0198 - binary_accuracy: 0.9759 - precision_5: 0.9410 - recall_5: 0.9029 - precision_at_recall_5: 0.9910 - recall_at_precision_5: 0.9753 - val_loss: 0.0218 - val_binary_accuracy: 0.9740 - val_precision_5: 0.9414 - val_recall_5: 0.8929 - val_precision_at_recall_5: 0.9902 - val_recall_at_precision_5: 0.9785\n",
      "Epoch 15/60\n",
      "74/74 [==============================] - 18s 247ms/step - loss: 0.0169 - binary_accuracy: 0.9799 - precision_5: 0.9519 - recall_5: 0.9178 - precision_at_recall_5: 0.9920 - recall_at_precision_5: 0.9768 - val_loss: 0.0202 - val_binary_accuracy: 0.9758 - val_precision_5: 0.9521 - val_recall_5: 0.8935 - val_precision_at_recall_5: 0.9898 - val_recall_at_precision_5: 0.9778\n",
      "Epoch 16/60\n",
      "74/74 [==============================] - 15s 201ms/step - loss: 0.0152 - binary_accuracy: 0.9821 - precision_5: 0.9580 - recall_5: 0.9259 - precision_at_recall_5: 0.9916 - recall_at_precision_5: 0.9800 - val_loss: 0.0197 - val_binary_accuracy: 0.9764 - val_precision_5: 0.9509 - val_recall_5: 0.8990 - val_precision_at_recall_5: 0.9892 - val_recall_at_precision_5: 0.9769\n",
      "Epoch 17/60\n",
      "74/74 [==============================] - 16s 221ms/step - loss: 0.0144 - binary_accuracy: 0.9828 - precision_5: 0.9625 - recall_5: 0.9262 - precision_at_recall_5: 0.9921 - recall_at_precision_5: 0.9790 - val_loss: 0.0189 - val_binary_accuracy: 0.9778 - val_precision_5: 0.9482 - val_recall_5: 0.9107 - val_precision_at_recall_5: 0.9887 - val_recall_at_precision_5: 0.9764\n",
      "Epoch 18/60\n",
      "74/74 [==============================] - 18s 242ms/step - loss: 0.0136 - binary_accuracy: 0.9840 - precision_5: 0.9644 - recall_5: 0.9321 - precision_at_recall_5: 0.9921 - recall_at_precision_5: 0.9794 - val_loss: 0.0182 - val_binary_accuracy: 0.9784 - val_precision_5: 0.9464 - val_recall_5: 0.9171 - val_precision_at_recall_5: 0.9879 - val_recall_at_precision_5: 0.9777\n",
      "Epoch 19/60\n",
      "74/74 [==============================] - 18s 237ms/step - loss: 0.0129 - binary_accuracy: 0.9850 - precision_5: 0.9681 - recall_5: 0.9347 - precision_at_recall_5: 0.9921 - recall_at_precision_5: 0.9807 - val_loss: 0.0182 - val_binary_accuracy: 0.9785 - val_precision_5: 0.9447 - val_recall_5: 0.9195 - val_precision_at_recall_5: 0.9874 - val_recall_at_precision_5: 0.9808\n",
      "Epoch 20/60\n",
      "74/74 [==============================] - 19s 262ms/step - loss: 0.0124 - binary_accuracy: 0.9855 - precision_5: 0.9684 - recall_5: 0.9381 - precision_at_recall_5: 0.9925 - recall_at_precision_5: 0.9823 - val_loss: 0.0176 - val_binary_accuracy: 0.9792 - val_precision_5: 0.9533 - val_recall_5: 0.9144 - val_precision_at_recall_5: 0.9893 - val_recall_at_precision_5: 0.9776\n",
      "Epoch 21/60\n",
      "74/74 [==============================] - 22s 301ms/step - loss: 0.0122 - binary_accuracy: 0.9857 - precision_5: 0.9680 - recall_5: 0.9398 - precision_at_recall_5: 0.9919 - recall_at_precision_5: 0.9824 - val_loss: 0.0168 - val_binary_accuracy: 0.9801 - val_precision_5: 0.9468 - val_recall_5: 0.9273 - val_precision_at_recall_5: 0.9880 - val_recall_at_precision_5: 0.9805\n",
      "Epoch 22/60\n"
     ]
    },
    {
     "name": "stdout",
     "output_type": "stream",
     "text": [
      "74/74 [==============================] - 16s 212ms/step - loss: 0.0116 - binary_accuracy: 0.9865 - precision_5: 0.9716 - recall_5: 0.9416 - precision_at_recall_5: 0.9925 - recall_at_precision_5: 0.9833 - val_loss: 0.0178 - val_binary_accuracy: 0.9789 - val_precision_5: 0.9306 - val_recall_5: 0.9378 - val_precision_at_recall_5: 0.9846 - val_recall_at_precision_5: 0.9830\n",
      "Epoch 23/60\n",
      "74/74 [==============================] - 16s 215ms/step - loss: 0.0113 - binary_accuracy: 0.9869 - precision_5: 0.9711 - recall_5: 0.9444 - precision_at_recall_5: 0.9928 - recall_at_precision_5: 0.9825 - val_loss: 0.0171 - val_binary_accuracy: 0.9796 - val_precision_5: 0.9443 - val_recall_5: 0.9268 - val_precision_at_recall_5: 0.9880 - val_recall_at_precision_5: 0.9821\n",
      "Epoch 24/60\n",
      "74/74 [==============================] - 19s 251ms/step - loss: 0.0107 - binary_accuracy: 0.9876 - precision_5: 0.9739 - recall_5: 0.9461 - precision_at_recall_5: 0.9928 - recall_at_precision_5: 0.9842 - val_loss: 0.0164 - val_binary_accuracy: 0.9805 - val_precision_5: 0.9415 - val_recall_5: 0.9359 - val_precision_at_recall_5: 0.9865 - val_recall_at_precision_5: 0.9835\n",
      "Epoch 25/60\n",
      "74/74 [==============================] - 17s 226ms/step - loss: 0.0107 - binary_accuracy: 0.9876 - precision_5: 0.9718 - recall_5: 0.9481 - precision_at_recall_5: 0.9930 - recall_at_precision_5: 0.9846 - val_loss: 0.0165 - val_binary_accuracy: 0.9806 - val_precision_5: 0.9470 - val_recall_5: 0.9308 - val_precision_at_recall_5: 0.9869 - val_recall_at_precision_5: 0.9813\n",
      "Epoch 26/60\n",
      "74/74 [==============================] - 16s 213ms/step - loss: 0.0107 - binary_accuracy: 0.9877 - precision_5: 0.9722 - recall_5: 0.9483 - precision_at_recall_5: 0.9918 - recall_at_precision_5: 0.9861 - val_loss: 0.0165 - val_binary_accuracy: 0.9804 - val_precision_5: 0.9446 - val_recall_5: 0.9323 - val_precision_at_recall_5: 0.9864 - val_recall_at_precision_5: 0.9812\n",
      "Epoch 27/60\n",
      "74/74 [==============================] - 18s 240ms/step - loss: 0.0100 - binary_accuracy: 0.9886 - precision_5: 0.9747 - recall_5: 0.9517 - precision_at_recall_5: 0.9921 - recall_at_precision_5: 0.9860 - val_loss: 0.0161 - val_binary_accuracy: 0.9809 - val_precision_5: 0.9456 - val_recall_5: 0.9345 - val_precision_at_recall_5: 0.9874 - val_recall_at_precision_5: 0.9806\n",
      "Epoch 28/60\n",
      "74/74 [==============================] - 19s 259ms/step - loss: 0.0100 - binary_accuracy: 0.9885 - precision_5: 0.9746 - recall_5: 0.9512 - precision_at_recall_5: 0.9921 - recall_at_precision_5: 0.9848 - val_loss: 0.0160 - val_binary_accuracy: 0.9812 - val_precision_5: 0.9505 - val_recall_5: 0.9307 - val_precision_at_recall_5: 0.9877 - val_recall_at_precision_5: 0.9775\n",
      "Epoch 29/60\n",
      "74/74 [==============================] - 17s 229ms/step - loss: 0.0096 - binary_accuracy: 0.9889 - precision_5: 0.9754 - recall_5: 0.9533 - precision_at_recall_5: 0.9925 - recall_at_precision_5: 0.9844 - val_loss: 0.0167 - val_binary_accuracy: 0.9803 - val_precision_5: 0.9344 - val_recall_5: 0.9428 - val_precision_at_recall_5: 0.9864 - val_recall_at_precision_5: 0.9855\n",
      "Epoch 30/60\n",
      "74/74 [==============================] - 17s 234ms/step - loss: 0.0100 - binary_accuracy: 0.9888 - precision_5: 0.9757 - recall_5: 0.9524 - precision_at_recall_5: 0.9931 - recall_at_precision_5: 0.9837 - val_loss: 0.0160 - val_binary_accuracy: 0.9813 - val_precision_5: 0.9497 - val_recall_5: 0.9323 - val_precision_at_recall_5: 0.9869 - val_recall_at_precision_5: 0.9811\n",
      "Epoch 31/60\n",
      "74/74 [==============================] - 18s 250ms/step - loss: 0.0095 - binary_accuracy: 0.9891 - precision_5: 0.9765 - recall_5: 0.9531 - precision_at_recall_5: 0.9929 - recall_at_precision_5: 0.9860 - val_loss: 0.0159 - val_binary_accuracy: 0.9811 - val_precision_5: 0.9448 - val_recall_5: 0.9367 - val_precision_at_recall_5: 0.9871 - val_recall_at_precision_5: 0.9814\n",
      "Epoch 32/60\n",
      "74/74 [==============================] - 16s 215ms/step - loss: 0.0090 - binary_accuracy: 0.9894 - precision_5: 0.9772 - recall_5: 0.9546 - precision_at_recall_5: 0.9929 - recall_at_precision_5: 0.9863 - val_loss: 0.0158 - val_binary_accuracy: 0.9812 - val_precision_5: 0.9456 - val_recall_5: 0.9366 - val_precision_at_recall_5: 0.9884 - val_recall_at_precision_5: 0.9807\n",
      "Epoch 33/60\n",
      "74/74 [==============================] - 18s 249ms/step - loss: 0.0087 - binary_accuracy: 0.9901 - precision_5: 0.9793 - recall_5: 0.9568 - precision_at_recall_5: 0.9929 - recall_at_precision_5: 0.9867 - val_loss: 0.0154 - val_binary_accuracy: 0.9819 - val_precision_5: 0.9476 - val_recall_5: 0.9387 - val_precision_at_recall_5: 0.9880 - val_recall_at_precision_5: 0.9822\n",
      "Epoch 34/60\n",
      "74/74 [==============================] - 18s 245ms/step - loss: 0.0085 - binary_accuracy: 0.9904 - precision_5: 0.9782 - recall_5: 0.9598 - precision_at_recall_5: 0.9925 - recall_at_precision_5: 0.9859 - val_loss: 0.0158 - val_binary_accuracy: 0.9813 - val_precision_5: 0.9524 - val_recall_5: 0.9293 - val_precision_at_recall_5: 0.9887 - val_recall_at_precision_5: 0.9787\n",
      "Epoch 35/60\n",
      "74/74 [==============================] - 17s 227ms/step - loss: 0.0081 - binary_accuracy: 0.9907 - precision_5: 0.9801 - recall_5: 0.9601 - precision_at_recall_5: 0.9932 - recall_at_precision_5: 0.9865 - val_loss: 0.0153 - val_binary_accuracy: 0.9820 - val_precision_5: 0.9439 - val_recall_5: 0.9437 - val_precision_at_recall_5: 0.9851 - val_recall_at_precision_5: 0.9827\n",
      "Epoch 36/60\n",
      "74/74 [==============================] - 18s 238ms/step - loss: 0.0080 - binary_accuracy: 0.9908 - precision_5: 0.9811 - recall_5: 0.9599 - precision_at_recall_5: 0.9934 - recall_at_precision_5: 0.9868 - val_loss: 0.0156 - val_binary_accuracy: 0.9816 - val_precision_5: 0.9434 - val_recall_5: 0.9412 - val_precision_at_recall_5: 0.9885 - val_recall_at_precision_5: 0.9837\n",
      "Epoch 37/60\n",
      "74/74 [==============================] - 19s 255ms/step - loss: 0.0077 - binary_accuracy: 0.9911 - precision_5: 0.9805 - recall_5: 0.9623 - precision_at_recall_5: 0.9936 - recall_at_precision_5: 0.9884 - val_loss: 0.0151 - val_binary_accuracy: 0.9826 - val_precision_5: 0.9516 - val_recall_5: 0.9388 - val_precision_at_recall_5: 0.9871 - val_recall_at_precision_5: 0.9795\n",
      "Epoch 38/60\n",
      "74/74 [==============================] - 21s 286ms/step - loss: 0.0074 - binary_accuracy: 0.9916 - precision_5: 0.9817 - recall_5: 0.9640 - precision_at_recall_5: 0.9940 - recall_at_precision_5: 0.9859 - val_loss: 0.0153 - val_binary_accuracy: 0.9822 - val_precision_5: 0.9545 - val_recall_5: 0.9330 - val_precision_at_recall_5: 0.9882 - val_recall_at_precision_5: 0.9786\n",
      "Epoch 39/60\n",
      "74/74 [==============================] - 17s 229ms/step - loss: 0.0073 - binary_accuracy: 0.9916 - precision_5: 0.9826 - recall_5: 0.9636 - precision_at_recall_5: 0.9940 - recall_at_precision_5: 0.9862 - val_loss: 0.0159 - val_binary_accuracy: 0.9812 - val_precision_5: 0.9385 - val_recall_5: 0.9440 - val_precision_at_recall_5: 0.9868 - val_recall_at_precision_5: 0.9804\n",
      "Epoch 40/60\n",
      "74/74 [==============================] - 16s 222ms/step - loss: 0.0071 - binary_accuracy: 0.9919 - precision_5: 0.9838 - recall_5: 0.9642 - precision_at_recall_5: 0.9944 - recall_at_precision_5: 0.9883 - val_loss: 0.0153 - val_binary_accuracy: 0.9819 - val_precision_5: 0.9425 - val_recall_5: 0.9443 - val_precision_at_recall_5: 0.9875 - val_recall_at_precision_5: 0.9836\n",
      "Epoch 41/60\n",
      "74/74 [==============================] - 19s 257ms/step - loss: 0.0070 - binary_accuracy: 0.9920 - precision_5: 0.9836 - recall_5: 0.9648 - precision_at_recall_5: 0.9939 - recall_at_precision_5: 0.9872 - val_loss: 0.0155 - val_binary_accuracy: 0.9819 - val_precision_5: 0.9445 - val_recall_5: 0.9418 - val_precision_at_recall_5: 0.9853 - val_recall_at_precision_5: 0.9812\n",
      "Epoch 42/60\n",
      "74/74 [==============================] - 17s 236ms/step - loss: 0.0069 - binary_accuracy: 0.9920 - precision_5: 0.9835 - recall_5: 0.9649 - precision_at_recall_5: 0.9942 - recall_at_precision_5: 0.9872 - val_loss: 0.0155 - val_binary_accuracy: 0.9818 - val_precision_5: 0.9461 - val_recall_5: 0.9397 - val_precision_at_recall_5: 0.9849 - val_recall_at_precision_5: 0.9817\n",
      "Epoch 43/60\n"
     ]
    },
    {
     "name": "stdout",
     "output_type": "stream",
     "text": [
      "74/74 [==============================] - 17s 230ms/step - loss: 0.0071 - binary_accuracy: 0.9920 - precision_5: 0.9823 - recall_5: 0.9664 - precision_at_recall_5: 0.9940 - recall_at_precision_5: 0.9872 - val_loss: 0.0152 - val_binary_accuracy: 0.9824 - val_precision_5: 0.9510 - val_recall_5: 0.9385 - val_precision_at_recall_5: 0.9865 - val_recall_at_precision_5: 0.9814\n",
      "Epoch 44/60\n",
      "74/74 [==============================] - 18s 247ms/step - loss: 0.0067 - binary_accuracy: 0.9924 - precision_5: 0.9833 - recall_5: 0.9676 - precision_at_recall_5: 0.9941 - recall_at_precision_5: 0.9869 - val_loss: 0.0147 - val_binary_accuracy: 0.9829 - val_precision_5: 0.9476 - val_recall_5: 0.9452 - val_precision_at_recall_5: 0.9897 - val_recall_at_precision_5: 0.9832\n",
      "Epoch 45/60\n",
      "74/74 [==============================] - 18s 249ms/step - loss: 0.0066 - binary_accuracy: 0.9927 - precision_5: 0.9860 - recall_5: 0.9670 - precision_at_recall_5: 0.9948 - recall_at_precision_5: 0.9867 - val_loss: 0.0151 - val_binary_accuracy: 0.9824 - val_precision_5: 0.9459 - val_recall_5: 0.9441 - val_precision_at_recall_5: 0.9863 - val_recall_at_precision_5: 0.9807\n",
      "Epoch 46/60\n",
      "74/74 [==============================] - 19s 251ms/step - loss: 0.0069 - binary_accuracy: 0.9922 - precision_5: 0.9833 - recall_5: 0.9663 - precision_at_recall_5: 0.9945 - recall_at_precision_5: 0.9857 - val_loss: 0.0155 - val_binary_accuracy: 0.9819 - val_precision_5: 0.9439 - val_recall_5: 0.9428 - val_precision_at_recall_5: 0.9864 - val_recall_at_precision_5: 0.9800\n",
      "Epoch 47/60\n",
      "74/74 [==============================] - 17s 226ms/step - loss: 0.0062 - binary_accuracy: 0.9932 - precision_5: 0.9873 - recall_5: 0.9688 - precision_at_recall_5: 0.9951 - recall_at_precision_5: 0.9861 - val_loss: 0.0152 - val_binary_accuracy: 0.9823 - val_precision_5: 0.9451 - val_recall_5: 0.9441 - val_precision_at_recall_5: 0.9881 - val_recall_at_precision_5: 0.9828\n",
      "Epoch 48/60\n",
      "74/74 [==============================] - 17s 227ms/step - loss: 0.0064 - binary_accuracy: 0.9927 - precision_5: 0.9840 - recall_5: 0.9691 - precision_at_recall_5: 0.9951 - recall_at_precision_5: 0.9872 - val_loss: 0.0152 - val_binary_accuracy: 0.9822 - val_precision_5: 0.9437 - val_recall_5: 0.9452 - val_precision_at_recall_5: 0.9840 - val_recall_at_precision_5: 0.9820\n",
      "Epoch 49/60\n",
      "74/74 [==============================] - 22s 297ms/step - loss: 0.0060 - binary_accuracy: 0.9933 - precision_5: 0.9873 - recall_5: 0.9693 - precision_at_recall_5: 0.9951 - recall_at_precision_5: 0.9865 - val_loss: 0.0153 - val_binary_accuracy: 0.9822 - val_precision_5: 0.9459 - val_recall_5: 0.9425 - val_precision_at_recall_5: 0.9876 - val_recall_at_precision_5: 0.9808\n",
      "Epoch 50/60\n",
      "74/74 [==============================] - 31s 419ms/step - loss: 0.0060 - binary_accuracy: 0.9933 - precision_5: 0.9872 - recall_5: 0.9700 - precision_at_recall_5: 0.9947 - recall_at_precision_5: 0.9867 - val_loss: 0.0151 - val_binary_accuracy: 0.9824 - val_precision_5: 0.9426 - val_recall_5: 0.9477 - val_precision_at_recall_5: 0.9879 - val_recall_at_precision_5: 0.9818\n",
      "Epoch 51/60\n",
      "74/74 [==============================] - 25s 330ms/step - loss: 0.0061 - binary_accuracy: 0.9932 - precision_5: 0.9859 - recall_5: 0.9707 - precision_at_recall_5: 0.9954 - recall_at_precision_5: 0.9861 - val_loss: 0.0153 - val_binary_accuracy: 0.9821 - val_precision_5: 0.9455 - val_recall_5: 0.9425 - val_precision_at_recall_5: 0.9873 - val_recall_at_precision_5: 0.9809\n",
      "Epoch 52/60\n",
      "74/74 [==============================] - 19s 259ms/step - loss: 0.0061 - binary_accuracy: 0.9932 - precision_5: 0.9870 - recall_5: 0.9695 - precision_at_recall_5: 0.9950 - recall_at_precision_5: 0.9871 - val_loss: 0.0152 - val_binary_accuracy: 0.9824 - val_precision_5: 0.9493 - val_recall_5: 0.9401 - val_precision_at_recall_5: 0.9878 - val_recall_at_precision_5: 0.9802\n",
      "Epoch 53/60\n",
      "74/74 [==============================] - 23s 315ms/step - loss: 0.0062 - binary_accuracy: 0.9931 - precision_5: 0.9846 - recall_5: 0.9710 - precision_at_recall_5: 0.9945 - recall_at_precision_5: 0.9875 - val_loss: 0.0155 - val_binary_accuracy: 0.9821 - val_precision_5: 0.9433 - val_recall_5: 0.9447 - val_precision_at_recall_5: 0.9852 - val_recall_at_precision_5: 0.9796\n",
      "Epoch 54/60\n",
      "74/74 [==============================] - 22s 296ms/step - loss: 0.0058 - binary_accuracy: 0.9936 - precision_5: 0.9873 - recall_5: 0.9714 - precision_at_recall_5: 0.9953 - recall_at_precision_5: 0.9877 - val_loss: 0.0151 - val_binary_accuracy: 0.9824 - val_precision_5: 0.9470 - val_recall_5: 0.9426 - val_precision_at_recall_5: 0.9878 - val_recall_at_precision_5: 0.9793\n",
      "Epoch 55/60\n",
      "74/74 [==============================] - 20s 271ms/step - loss: 0.0055 - binary_accuracy: 0.9937 - precision_5: 0.9879 - recall_5: 0.9719 - precision_at_recall_5: 0.9959 - recall_at_precision_5: 0.9881 - val_loss: 0.0148 - val_binary_accuracy: 0.9830 - val_precision_5: 0.9511 - val_recall_5: 0.9418 - val_precision_at_recall_5: 0.9879 - val_recall_at_precision_5: 0.9774\n",
      "Epoch 56/60\n",
      "74/74 [==============================] - 38s 511ms/step - loss: 0.0054 - binary_accuracy: 0.9940 - precision_5: 0.9889 - recall_5: 0.9723 - precision_at_recall_5: 0.9954 - recall_at_precision_5: 0.9876 - val_loss: 0.0151 - val_binary_accuracy: 0.9825 - val_precision_5: 0.9481 - val_recall_5: 0.9419 - val_precision_at_recall_5: 0.9884 - val_recall_at_precision_5: 0.9790\n",
      "Epoch 57/60\n",
      "74/74 [==============================] - 24s 321ms/step - loss: 0.0055 - binary_accuracy: 0.9939 - precision_5: 0.9878 - recall_5: 0.9730 - precision_at_recall_5: 0.9961 - recall_at_precision_5: 0.9884 - val_loss: 0.0152 - val_binary_accuracy: 0.9824 - val_precision_5: 0.9467 - val_recall_5: 0.9430 - val_precision_at_recall_5: 0.9861 - val_recall_at_precision_5: 0.9799\n",
      "Epoch 58/60\n",
      "74/74 [==============================] - 18s 242ms/step - loss: 0.0055 - binary_accuracy: 0.9937 - precision_5: 0.9873 - recall_5: 0.9726 - precision_at_recall_5: 0.9958 - recall_at_precision_5: 0.9884 - val_loss: 0.0147 - val_binary_accuracy: 0.9830 - val_precision_5: 0.9510 - val_recall_5: 0.9423 - val_precision_at_recall_5: 0.9889 - val_recall_at_precision_5: 0.9790\n",
      "Epoch 59/60\n",
      "74/74 [==============================] - 20s 276ms/step - loss: 0.0053 - binary_accuracy: 0.9940 - precision_5: 0.9890 - recall_5: 0.9726 - precision_at_recall_5: 0.9957 - recall_at_precision_5: 0.9881 - val_loss: 0.0156 - val_binary_accuracy: 0.9815 - val_precision_5: 0.9401 - val_recall_5: 0.9447 - val_precision_at_recall_5: 0.9853 - val_recall_at_precision_5: 0.9806\n",
      "Epoch 60/60\n",
      "74/74 [==============================] - 18s 240ms/step - loss: 0.0055 - binary_accuracy: 0.9938 - precision_5: 0.9876 - recall_5: 0.9725 - precision_at_recall_5: 0.9960 - recall_at_precision_5: 0.9887 - val_loss: 0.0156 - val_binary_accuracy: 0.9820 - val_precision_5: 0.9441 - val_recall_5: 0.9429 - val_precision_at_recall_5: 0.9877 - val_recall_at_precision_5: 0.9787\n"
     ]
    },
    {
     "data": {
      "text/plain": [
       "<keras.callbacks.History at 0x7f82291ce2b0>"
      ]
     },
     "execution_count": 40,
     "metadata": {},
     "output_type": "execute_result"
    }
   ],
   "source": [
    "model.fit(X_train, y_train, batch_size=8, epochs=60, validation_split=0.25)"
   ]
  },
  {
   "cell_type": "code",
   "execution_count": 41,
   "id": "2df0d04b",
   "metadata": {
    "ExecuteTime": {
     "end_time": "2022-12-04T22:56:45.348167Z",
     "start_time": "2022-12-04T22:56:44.547043Z"
    }
   },
   "outputs": [
    {
     "name": "stdout",
     "output_type": "stream",
     "text": [
      "9/9 [==============================] - 1s 77ms/step - loss: 0.0158 - binary_accuracy: 0.9819 - precision_5: 0.9605 - recall_5: 0.9273 - precision_at_recall_5: 0.9875 - recall_at_precision_5: 0.9693\n",
      "Loss: 0.01581338234245777\n",
      "Binary Accuracy: 0.9818757772445679\n",
      "Precision: 0.9604711532592773\n",
      "Recall: 0.9272952675819397\n",
      "Precision Where Recall >= 0.2: 0.9874511361122131\n",
      "Recall Where Precision >= 0.2: 0.9693408012390137\n"
     ]
    }
   ],
   "source": [
    "score, acc, prec, rec, precRec, recPrec = model.evaluate(X_test, y_test)\n",
    "print('Loss:', score)\n",
    "print('Binary Accuracy:', acc)\n",
    "print('Precision:', prec)\n",
    "print('Recall:', rec)\n",
    "print('Precision Where Recall >= 0.2:', precRec)\n",
    "print('Recall Where Precision >= 0.2:', recPrec)"
   ]
  },
  {
   "cell_type": "code",
   "execution_count": 47,
   "id": "43ca6811",
   "metadata": {
    "ExecuteTime": {
     "end_time": "2022-12-04T22:57:24.519678Z",
     "start_time": "2022-12-04T22:57:23.992599Z"
    }
   },
   "outputs": [
    {
     "name": "stdout",
     "output_type": "stream",
     "text": [
      "1/1 [==============================] - 0s 24ms/step\n",
      "958\n"
     ]
    },
    {
     "data": {
      "image/png": "[encoded data removed]",
      "text/plain": [
       "<Figure size 640x480 with 1 Axes>"
      ]
     },
     "metadata": {},
     "output_type": "display_data"
    },
    {
     "data": {
      "image/png": "[encoded data removed]",
      "text/plain": [
       "<Figure size 640x480 with 6 Axes>"
      ]
     },
     "metadata": {},
     "output_type": "display_data"
    }
   ],
   "source": [
    "i = int(random.random() * len(data))\n",
    "\n",
    "res = model.predict(data[i:i+1])[0]\n",
    "res = np.where(res > 0.5, 1, 0)\n",
    "\n",
    "print(i)\n",
    "\n",
    "plt.imshow(data[i][0].reshape((diam,diam)))\n",
    "plt.show()\n",
    "\n",
    "prediction = res.reshape((len(days), diam, diam))\n",
    "ground_truth = label[i].reshape((len(days), diam, diam))\n",
    "\n",
    "fig, axs = plt.subplots(len(days), 2)\n",
    "for i in range(len(days)):\n",
    "    axs[i, 0].imshow(prediction[i])\n",
    "    axs[i, 1].imshow(ground_truth[i])"
   ]
  },
  {
   "cell_type": "markdown",
   "id": "fa6b0e9e",
   "metadata": {},
   "source": [
    "### Linear Dense Model"
   ]
  },
  {
   "cell_type": "code",
   "execution_count": 54,
   "id": "4adf32f1",
   "metadata": {
    "ExecuteTime": {
     "end_time": "2022-12-04T23:02:32.875728Z",
     "start_time": "2022-12-04T23:02:32.777883Z"
    }
   },
   "outputs": [
    {
     "name": "stdout",
     "output_type": "stream",
     "text": [
      "Model: \"sequential_8\"\n",
      "_________________________________________________________________\n",
      " Layer (type)                Output Shape              Param #   \n",
      "=================================================================\n",
      " dense_24 (Dense)            (None, 3, 40, 100)        4100      \n",
      "                                                                 \n",
      " flatten_8 (Flatten)         (None, 12000)             0         \n",
      "                                                                 \n",
      " dense_25 (Dense)            (None, 400)               4800400   \n",
      "                                                                 \n",
      " dense_26 (Dense)            (None, 4800)              1924800   \n",
      "                                                                 \n",
      "=================================================================\n",
      "Total params: 6,729,300\n",
      "Trainable params: 6,729,300\n",
      "Non-trainable params: 0\n",
      "_________________________________________________________________\n"
     ]
    }
   ],
   "source": [
    "model = get_dense_model()\n",
    "model.summary()"
   ]
  },
  {
   "cell_type": "code",
   "execution_count": 55,
   "id": "d582b9eb",
   "metadata": {
    "ExecuteTime": {
     "end_time": "2022-12-04T23:02:33.315282Z",
     "start_time": "2022-12-04T23:02:33.286153Z"
    }
   },
   "outputs": [],
   "source": [
    "model.compile(optimizer=Adam(), loss='mean_squared_error', metrics=[BinaryAccuracy(), Precision(), Recall(), PrecisionAtRecall(0.2), RecallAtPrecision(0.2)])"
   ]
  },
  {
   "cell_type": "code",
   "execution_count": 56,
   "id": "d124835d",
   "metadata": {
    "ExecuteTime": {
     "end_time": "2022-12-04T23:05:26.829396Z",
     "start_time": "2022-12-04T23:02:33.827568Z"
    },
    "scrolled": true
   },
   "outputs": [
    {
     "name": "stdout",
     "output_type": "stream",
     "text": [
      "Epoch 1/100\n",
      "37/37 [==============================] - 3s 58ms/step - loss: 0.1340 - binary_accuracy: 0.8490 - precision_7: 0.5229 - recall_7: 0.4031 - precision_at_recall_7: 0.8902 - recall_at_precision_7: 0.7068 - val_loss: 0.0807 - val_binary_accuracy: 0.9103 - val_precision_7: 0.8472 - val_recall_7: 0.5354 - val_precision_at_recall_7: 0.9523 - val_recall_at_precision_7: 0.7061\n",
      "Epoch 2/100\n",
      "37/37 [==============================] - 1s 37ms/step - loss: 0.0632 - binary_accuracy: 0.9242 - precision_7: 0.8451 - recall_7: 0.6316 - precision_at_recall_7: 0.9553 - recall_at_precision_7: 0.8826 - val_loss: 0.0423 - val_binary_accuracy: 0.9474 - val_precision_7: 0.8738 - val_recall_7: 0.7842 - val_precision_at_recall_7: 0.9756 - val_recall_at_precision_7: 0.9673\n",
      "Epoch 3/100\n",
      "37/37 [==============================] - 1s 36ms/step - loss: 0.0361 - binary_accuracy: 0.9564 - precision_7: 0.8962 - recall_7: 0.8158 - precision_at_recall_7: 0.9804 - recall_at_precision_7: 0.9645 - val_loss: 0.0306 - val_binary_accuracy: 0.9630 - val_precision_7: 0.9194 - val_recall_7: 0.8427 - val_precision_at_recall_7: 0.9829 - val_recall_at_precision_7: 0.9762\n",
      "Epoch 4/100\n",
      "37/37 [==============================] - 1s 33ms/step - loss: 0.0270 - binary_accuracy: 0.9679 - precision_7: 0.9259 - recall_7: 0.8644 - precision_at_recall_7: 0.9909 - recall_at_precision_7: 0.9752 - val_loss: 0.0255 - val_binary_accuracy: 0.9691 - val_precision_7: 0.9165 - val_recall_7: 0.8879 - val_precision_at_recall_7: 0.9832 - val_recall_at_precision_7: 0.9800\n",
      "Epoch 5/100\n",
      "37/37 [==============================] - 1s 32ms/step - loss: 0.0222 - binary_accuracy: 0.9735 - precision_7: 0.9367 - recall_7: 0.8912 - precision_at_recall_7: 0.9914 - recall_at_precision_7: 0.9794 - val_loss: 0.0227 - val_binary_accuracy: 0.9729 - val_precision_7: 0.9232 - val_recall_7: 0.9056 - val_precision_at_recall_7: 0.9842 - val_recall_at_precision_7: 0.9847\n",
      "Epoch 6/100\n",
      "37/37 [==============================] - 1s 32ms/step - loss: 0.0193 - binary_accuracy: 0.9771 - precision_7: 0.9436 - recall_7: 0.9079 - precision_at_recall_7: 0.9934 - recall_at_precision_7: 0.9824 - val_loss: 0.0207 - val_binary_accuracy: 0.9749 - val_precision_7: 0.9363 - val_recall_7: 0.9048 - val_precision_at_recall_7: 0.9847 - val_recall_at_precision_7: 0.9833\n",
      "Epoch 7/100\n",
      "37/37 [==============================] - 1s 32ms/step - loss: 0.0172 - binary_accuracy: 0.9799 - precision_7: 0.9528 - recall_7: 0.9168 - precision_at_recall_7: 0.9927 - recall_at_precision_7: 0.9841 - val_loss: 0.0194 - val_binary_accuracy: 0.9770 - val_precision_7: 0.9445 - val_recall_7: 0.9092 - val_precision_at_recall_7: 0.9867 - val_recall_at_precision_7: 0.9825\n",
      "Epoch 8/100\n",
      "37/37 [==============================] - 1s 34ms/step - loss: 0.0156 - binary_accuracy: 0.9817 - precision_7: 0.9581 - recall_7: 0.9237 - precision_at_recall_7: 0.9935 - recall_at_precision_7: 0.9839 - val_loss: 0.0189 - val_binary_accuracy: 0.9775 - val_precision_7: 0.9430 - val_recall_7: 0.9145 - val_precision_at_recall_7: 0.9867 - val_recall_at_precision_7: 0.9842\n",
      "Epoch 9/100\n",
      "37/37 [==============================] - 1s 34ms/step - loss: 0.0143 - binary_accuracy: 0.9835 - precision_7: 0.9641 - recall_7: 0.9293 - precision_at_recall_7: 0.9934 - recall_at_precision_7: 0.9852 - val_loss: 0.0179 - val_binary_accuracy: 0.9787 - val_precision_7: 0.9431 - val_recall_7: 0.9227 - val_precision_at_recall_7: 0.9855 - val_recall_at_precision_7: 0.9834\n",
      "Epoch 10/100\n",
      "37/37 [==============================] - 1s 31ms/step - loss: 0.0134 - binary_accuracy: 0.9846 - precision_7: 0.9667 - recall_7: 0.9336 - precision_at_recall_7: 0.9935 - recall_at_precision_7: 0.9855 - val_loss: 0.0169 - val_binary_accuracy: 0.9799 - val_precision_7: 0.9402 - val_recall_7: 0.9335 - val_precision_at_recall_7: 0.9855 - val_recall_at_precision_7: 0.9851\n",
      "Epoch 11/100\n",
      "37/37 [==============================] - 1s 32ms/step - loss: 0.0126 - binary_accuracy: 0.9853 - precision_7: 0.9698 - recall_7: 0.9354 - precision_at_recall_7: 0.9938 - recall_at_precision_7: 0.9868 - val_loss: 0.0169 - val_binary_accuracy: 0.9802 - val_precision_7: 0.9463 - val_recall_7: 0.9290 - val_precision_at_recall_7: 0.9862 - val_recall_at_precision_7: 0.9835\n",
      "Epoch 12/100\n",
      "37/37 [==============================] - 1s 34ms/step - loss: 0.0121 - binary_accuracy: 0.9861 - precision_7: 0.9709 - recall_7: 0.9395 - precision_at_recall_7: 0.9940 - recall_at_precision_7: 0.9868 - val_loss: 0.0162 - val_binary_accuracy: 0.9808 - val_precision_7: 0.9462 - val_recall_7: 0.9331 - val_precision_at_recall_7: 0.9859 - val_recall_at_precision_7: 0.9849\n",
      "Epoch 13/100\n",
      "37/37 [==============================] - 1s 35ms/step - loss: 0.0111 - binary_accuracy: 0.9874 - precision_7: 0.9750 - recall_7: 0.9435 - precision_at_recall_7: 0.9945 - recall_at_precision_7: 0.9871 - val_loss: 0.0157 - val_binary_accuracy: 0.9814 - val_precision_7: 0.9556 - val_recall_7: 0.9266 - val_precision_at_recall_7: 0.9865 - val_recall_at_precision_7: 0.9839\n",
      "Epoch 14/100\n",
      "37/37 [==============================] - 1s 37ms/step - loss: 0.0109 - binary_accuracy: 0.9877 - precision_7: 0.9753 - recall_7: 0.9454 - precision_at_recall_7: 0.9942 - recall_at_precision_7: 0.9877 - val_loss: 0.0165 - val_binary_accuracy: 0.9806 - val_precision_7: 0.9492 - val_recall_7: 0.9286 - val_precision_at_recall_7: 0.9840 - val_recall_at_precision_7: 0.9837\n",
      "Epoch 15/100\n",
      "37/37 [==============================] - 1s 39ms/step - loss: 0.0106 - binary_accuracy: 0.9879 - precision_7: 0.9759 - recall_7: 0.9463 - precision_at_recall_7: 0.9942 - recall_at_precision_7: 0.9872 - val_loss: 0.0154 - val_binary_accuracy: 0.9818 - val_precision_7: 0.9498 - val_recall_7: 0.9356 - val_precision_at_recall_7: 0.9861 - val_recall_at_precision_7: 0.9846\n",
      "Epoch 16/100\n",
      "37/37 [==============================] - 2s 42ms/step - loss: 0.0101 - binary_accuracy: 0.9886 - precision_7: 0.9780 - recall_7: 0.9485 - precision_at_recall_7: 0.9946 - recall_at_precision_7: 0.9884 - val_loss: 0.0157 - val_binary_accuracy: 0.9815 - val_precision_7: 0.9557 - val_recall_7: 0.9275 - val_precision_at_recall_7: 0.9858 - val_recall_at_precision_7: 0.9831\n",
      "Epoch 17/100\n",
      "37/37 [==============================] - 2s 47ms/step - loss: 0.0099 - binary_accuracy: 0.9887 - precision_7: 0.9774 - recall_7: 0.9498 - precision_at_recall_7: 0.9947 - recall_at_precision_7: 0.9889 - val_loss: 0.0148 - val_binary_accuracy: 0.9825 - val_precision_7: 0.9560 - val_recall_7: 0.9337 - val_precision_at_recall_7: 0.9887 - val_recall_at_precision_7: 0.9853\n",
      "Epoch 18/100\n",
      "37/37 [==============================] - 2s 51ms/step - loss: 0.0094 - binary_accuracy: 0.9892 - precision_7: 0.9793 - recall_7: 0.9512 - precision_at_recall_7: 0.9946 - recall_at_precision_7: 0.9887 - val_loss: 0.0156 - val_binary_accuracy: 0.9816 - val_precision_7: 0.9431 - val_recall_7: 0.9416 - val_precision_at_recall_7: 0.9855 - val_recall_at_precision_7: 0.9865\n",
      "Epoch 19/100\n",
      "37/37 [==============================] - 2s 54ms/step - loss: 0.0094 - binary_accuracy: 0.9894 - precision_7: 0.9783 - recall_7: 0.9537 - precision_at_recall_7: 0.9946 - recall_at_precision_7: 0.9902 - val_loss: 0.0149 - val_binary_accuracy: 0.9823 - val_precision_7: 0.9542 - val_recall_7: 0.9344 - val_precision_at_recall_7: 0.9878 - val_recall_at_precision_7: 0.9846\n",
      "Epoch 20/100\n",
      "37/37 [==============================] - 2s 55ms/step - loss: 0.0090 - binary_accuracy: 0.9899 - precision_7: 0.9796 - recall_7: 0.9554 - precision_at_recall_7: 0.9951 - recall_at_precision_7: 0.9907 - val_loss: 0.0155 - val_binary_accuracy: 0.9817 - val_precision_7: 0.9512 - val_recall_7: 0.9337 - val_precision_at_recall_7: 0.9853 - val_recall_at_precision_7: 0.9842\n",
      "Epoch 21/100\n",
      "37/37 [==============================] - 3s 77ms/step - loss: 0.0086 - binary_accuracy: 0.9902 - precision_7: 0.9817 - recall_7: 0.9552 - precision_at_recall_7: 0.9952 - recall_at_precision_7: 0.9908 - val_loss: 0.0149 - val_binary_accuracy: 0.9824 - val_precision_7: 0.9498 - val_recall_7: 0.9394 - val_precision_at_recall_7: 0.9859 - val_recall_at_precision_7: 0.9851\n",
      "Epoch 22/100\n"
     ]
    },
    {
     "name": "stdout",
     "output_type": "stream",
     "text": [
      "37/37 [==============================] - 3s 76ms/step - loss: 0.0084 - binary_accuracy: 0.9905 - precision_7: 0.9806 - recall_7: 0.9582 - precision_at_recall_7: 0.9950 - recall_at_precision_7: 0.9913 - val_loss: 0.0146 - val_binary_accuracy: 0.9827 - val_precision_7: 0.9493 - val_recall_7: 0.9422 - val_precision_at_recall_7: 0.9857 - val_recall_at_precision_7: 0.9855\n",
      "Epoch 23/100\n",
      "37/37 [==============================] - 3s 70ms/step - loss: 0.0080 - binary_accuracy: 0.9910 - precision_7: 0.9833 - recall_7: 0.9589 - precision_at_recall_7: 0.9953 - recall_at_precision_7: 0.9913 - val_loss: 0.0144 - val_binary_accuracy: 0.9830 - val_precision_7: 0.9512 - val_recall_7: 0.9416 - val_precision_at_recall_7: 0.9886 - val_recall_at_precision_7: 0.9855\n",
      "Epoch 24/100\n",
      "37/37 [==============================] - 3s 76ms/step - loss: 0.0078 - binary_accuracy: 0.9911 - precision_7: 0.9824 - recall_7: 0.9601 - precision_at_recall_7: 0.9953 - recall_at_precision_7: 0.9914 - val_loss: 0.0148 - val_binary_accuracy: 0.9825 - val_precision_7: 0.9482 - val_recall_7: 0.9417 - val_precision_at_recall_7: 0.9863 - val_recall_at_precision_7: 0.9861\n",
      "Epoch 25/100\n",
      "37/37 [==============================] - 3s 70ms/step - loss: 0.0077 - binary_accuracy: 0.9913 - precision_7: 0.9821 - recall_7: 0.9620 - precision_at_recall_7: 0.9954 - recall_at_precision_7: 0.9913 - val_loss: 0.0147 - val_binary_accuracy: 0.9825 - val_precision_7: 0.9503 - val_recall_7: 0.9397 - val_precision_at_recall_7: 0.9879 - val_recall_at_precision_7: 0.9858\n",
      "Epoch 26/100\n",
      "37/37 [==============================] - 3s 70ms/step - loss: 0.0074 - binary_accuracy: 0.9917 - precision_7: 0.9833 - recall_7: 0.9635 - precision_at_recall_7: 0.9953 - recall_at_precision_7: 0.9922 - val_loss: 0.0146 - val_binary_accuracy: 0.9826 - val_precision_7: 0.9500 - val_recall_7: 0.9406 - val_precision_at_recall_7: 0.9867 - val_recall_at_precision_7: 0.9846\n",
      "Epoch 27/100\n",
      "37/37 [==============================] - 2s 60ms/step - loss: 0.0070 - binary_accuracy: 0.9922 - precision_7: 0.9846 - recall_7: 0.9654 - precision_at_recall_7: 0.9955 - recall_at_precision_7: 0.9917 - val_loss: 0.0146 - val_binary_accuracy: 0.9828 - val_precision_7: 0.9525 - val_recall_7: 0.9394 - val_precision_at_recall_7: 0.9872 - val_recall_at_precision_7: 0.9846\n",
      "Epoch 28/100\n",
      "37/37 [==============================] - 2s 47ms/step - loss: 0.0070 - binary_accuracy: 0.9922 - precision_7: 0.9841 - recall_7: 0.9660 - precision_at_recall_7: 0.9957 - recall_at_precision_7: 0.9921 - val_loss: 0.0142 - val_binary_accuracy: 0.9831 - val_precision_7: 0.9544 - val_recall_7: 0.9393 - val_precision_at_recall_7: 0.9871 - val_recall_at_precision_7: 0.9841\n",
      "Epoch 29/100\n",
      "37/37 [==============================] - 2s 45ms/step - loss: 0.0067 - binary_accuracy: 0.9926 - precision_7: 0.9847 - recall_7: 0.9679 - precision_at_recall_7: 0.9956 - recall_at_precision_7: 0.9922 - val_loss: 0.0141 - val_binary_accuracy: 0.9833 - val_precision_7: 0.9579 - val_recall_7: 0.9368 - val_precision_at_recall_7: 0.9877 - val_recall_at_precision_7: 0.9840\n",
      "Epoch 30/100\n",
      "37/37 [==============================] - 2s 44ms/step - loss: 0.0065 - binary_accuracy: 0.9928 - precision_7: 0.9861 - recall_7: 0.9679 - precision_at_recall_7: 0.9957 - recall_at_precision_7: 0.9919 - val_loss: 0.0142 - val_binary_accuracy: 0.9833 - val_precision_7: 0.9583 - val_recall_7: 0.9364 - val_precision_at_recall_7: 0.9883 - val_recall_at_precision_7: 0.9829\n",
      "Epoch 31/100\n",
      "37/37 [==============================] - 2s 42ms/step - loss: 0.0066 - binary_accuracy: 0.9928 - precision_7: 0.9853 - recall_7: 0.9684 - precision_at_recall_7: 0.9960 - recall_at_precision_7: 0.9919 - val_loss: 0.0145 - val_binary_accuracy: 0.9827 - val_precision_7: 0.9506 - val_recall_7: 0.9407 - val_precision_at_recall_7: 0.9875 - val_recall_at_precision_7: 0.9842\n",
      "Epoch 32/100\n",
      "37/37 [==============================] - 2s 42ms/step - loss: 0.0063 - binary_accuracy: 0.9931 - precision_7: 0.9859 - recall_7: 0.9698 - precision_at_recall_7: 0.9960 - recall_at_precision_7: 0.9919 - val_loss: 0.0140 - val_binary_accuracy: 0.9834 - val_precision_7: 0.9555 - val_recall_7: 0.9398 - val_precision_at_recall_7: 0.9893 - val_recall_at_precision_7: 0.9842\n",
      "Epoch 33/100\n",
      "37/37 [==============================] - 2s 43ms/step - loss: 0.0063 - binary_accuracy: 0.9931 - precision_7: 0.9856 - recall_7: 0.9699 - precision_at_recall_7: 0.9963 - recall_at_precision_7: 0.9920 - val_loss: 0.0142 - val_binary_accuracy: 0.9830 - val_precision_7: 0.9502 - val_recall_7: 0.9428 - val_precision_at_recall_7: 0.9884 - val_recall_at_precision_7: 0.9849\n",
      "Epoch 34/100\n",
      "37/37 [==============================] - 2s 48ms/step - loss: 0.0061 - binary_accuracy: 0.9934 - precision_7: 0.9866 - recall_7: 0.9708 - precision_at_recall_7: 0.9962 - recall_at_precision_7: 0.9917 - val_loss: 0.0142 - val_binary_accuracy: 0.9834 - val_precision_7: 0.9577 - val_recall_7: 0.9373 - val_precision_at_recall_7: 0.9884 - val_recall_at_precision_7: 0.9833\n",
      "Epoch 35/100\n",
      "37/37 [==============================] - 2s 44ms/step - loss: 0.0060 - binary_accuracy: 0.9934 - precision_7: 0.9874 - recall_7: 0.9705 - precision_at_recall_7: 0.9965 - recall_at_precision_7: 0.9920 - val_loss: 0.0139 - val_binary_accuracy: 0.9836 - val_precision_7: 0.9523 - val_recall_7: 0.9445 - val_precision_at_recall_7: 0.9887 - val_recall_at_precision_7: 0.9847\n",
      "Epoch 36/100\n",
      "37/37 [==============================] - 2s 41ms/step - loss: 0.0061 - binary_accuracy: 0.9932 - precision_7: 0.9849 - recall_7: 0.9713 - precision_at_recall_7: 0.9964 - recall_at_precision_7: 0.9920 - val_loss: 0.0141 - val_binary_accuracy: 0.9835 - val_precision_7: 0.9491 - val_recall_7: 0.9477 - val_precision_at_recall_7: 0.9869 - val_recall_at_precision_7: 0.9848\n",
      "Epoch 37/100\n",
      "37/37 [==============================] - 2s 41ms/step - loss: 0.0059 - binary_accuracy: 0.9935 - precision_7: 0.9867 - recall_7: 0.9717 - precision_at_recall_7: 0.9964 - recall_at_precision_7: 0.9918 - val_loss: 0.0139 - val_binary_accuracy: 0.9836 - val_precision_7: 0.9534 - val_recall_7: 0.9434 - val_precision_at_recall_7: 0.9896 - val_recall_at_precision_7: 0.9846\n",
      "Epoch 38/100\n",
      "37/37 [==============================] - 1s 39ms/step - loss: 0.0058 - binary_accuracy: 0.9937 - precision_7: 0.9872 - recall_7: 0.9721 - precision_at_recall_7: 0.9964 - recall_at_precision_7: 0.9919 - val_loss: 0.0139 - val_binary_accuracy: 0.9835 - val_precision_7: 0.9524 - val_recall_7: 0.9443 - val_precision_at_recall_7: 0.9889 - val_recall_at_precision_7: 0.9848\n",
      "Epoch 39/100\n",
      "37/37 [==============================] - 2s 41ms/step - loss: 0.0056 - binary_accuracy: 0.9937 - precision_7: 0.9872 - recall_7: 0.9724 - precision_at_recall_7: 0.9968 - recall_at_precision_7: 0.9925 - val_loss: 0.0139 - val_binary_accuracy: 0.9835 - val_precision_7: 0.9601 - val_recall_7: 0.9354 - val_precision_at_recall_7: 0.9901 - val_recall_at_precision_7: 0.9829\n",
      "Epoch 40/100\n",
      "37/37 [==============================] - 2s 42ms/step - loss: 0.0056 - binary_accuracy: 0.9938 - precision_7: 0.9881 - recall_7: 0.9720 - precision_at_recall_7: 0.9967 - recall_at_precision_7: 0.9924 - val_loss: 0.0136 - val_binary_accuracy: 0.9839 - val_precision_7: 0.9565 - val_recall_7: 0.9423 - val_precision_at_recall_7: 0.9902 - val_recall_at_precision_7: 0.9850\n",
      "Epoch 41/100\n",
      "37/37 [==============================] - 2s 46ms/step - loss: 0.0054 - binary_accuracy: 0.9940 - precision_7: 0.9891 - recall_7: 0.9723 - precision_at_recall_7: 0.9970 - recall_at_precision_7: 0.9921 - val_loss: 0.0135 - val_binary_accuracy: 0.9841 - val_precision_7: 0.9548 - val_recall_7: 0.9453 - val_precision_at_recall_7: 0.9895 - val_recall_at_precision_7: 0.9839\n",
      "Epoch 42/100\n",
      "37/37 [==============================] - 2s 46ms/step - loss: 0.0055 - binary_accuracy: 0.9938 - precision_7: 0.9874 - recall_7: 0.9728 - precision_at_recall_7: 0.9972 - recall_at_precision_7: 0.9929 - val_loss: 0.0137 - val_binary_accuracy: 0.9840 - val_precision_7: 0.9604 - val_recall_7: 0.9384 - val_precision_at_recall_7: 0.9902 - val_recall_at_precision_7: 0.9832\n",
      "Epoch 43/100\n"
     ]
    },
    {
     "name": "stdout",
     "output_type": "stream",
     "text": [
      "37/37 [==============================] - 2s 50ms/step - loss: 0.0055 - binary_accuracy: 0.9938 - precision_7: 0.9884 - recall_7: 0.9721 - precision_at_recall_7: 0.9969 - recall_at_precision_7: 0.9926 - val_loss: 0.0135 - val_binary_accuracy: 0.9839 - val_precision_7: 0.9558 - val_recall_7: 0.9429 - val_precision_at_recall_7: 0.9903 - val_recall_at_precision_7: 0.9840\n",
      "Epoch 44/100\n",
      "37/37 [==============================] - 2s 45ms/step - loss: 0.0054 - binary_accuracy: 0.9940 - precision_7: 0.9875 - recall_7: 0.9738 - precision_at_recall_7: 0.9973 - recall_at_precision_7: 0.9930 - val_loss: 0.0135 - val_binary_accuracy: 0.9842 - val_precision_7: 0.9551 - val_recall_7: 0.9455 - val_precision_at_recall_7: 0.9894 - val_recall_at_precision_7: 0.9845\n",
      "Epoch 45/100\n",
      "37/37 [==============================] - 2s 45ms/step - loss: 0.0053 - binary_accuracy: 0.9940 - precision_7: 0.9882 - recall_7: 0.9733 - precision_at_recall_7: 0.9970 - recall_at_precision_7: 0.9931 - val_loss: 0.0133 - val_binary_accuracy: 0.9843 - val_precision_7: 0.9585 - val_recall_7: 0.9428 - val_precision_at_recall_7: 0.9909 - val_recall_at_precision_7: 0.9836\n",
      "Epoch 46/100\n",
      "37/37 [==============================] - 2s 45ms/step - loss: 0.0052 - binary_accuracy: 0.9942 - precision_7: 0.9881 - recall_7: 0.9745 - precision_at_recall_7: 0.9973 - recall_at_precision_7: 0.9930 - val_loss: 0.0136 - val_binary_accuracy: 0.9838 - val_precision_7: 0.9532 - val_recall_7: 0.9450 - val_precision_at_recall_7: 0.9904 - val_recall_at_precision_7: 0.9849\n",
      "Epoch 47/100\n",
      "37/37 [==============================] - 2s 46ms/step - loss: 0.0051 - binary_accuracy: 0.9942 - precision_7: 0.9893 - recall_7: 0.9732 - precision_at_recall_7: 0.9976 - recall_at_precision_7: 0.9936 - val_loss: 0.0133 - val_binary_accuracy: 0.9844 - val_precision_7: 0.9580 - val_recall_7: 0.9435 - val_precision_at_recall_7: 0.9897 - val_recall_at_precision_7: 0.9832\n",
      "Epoch 48/100\n",
      "37/37 [==============================] - 2s 49ms/step - loss: 0.0051 - binary_accuracy: 0.9942 - precision_7: 0.9888 - recall_7: 0.9740 - precision_at_recall_7: 0.9970 - recall_at_precision_7: 0.9930 - val_loss: 0.0139 - val_binary_accuracy: 0.9836 - val_precision_7: 0.9525 - val_recall_7: 0.9445 - val_precision_at_recall_7: 0.9874 - val_recall_at_precision_7: 0.9843\n",
      "Epoch 49/100\n",
      "37/37 [==============================] - 2s 50ms/step - loss: 0.0050 - binary_accuracy: 0.9944 - precision_7: 0.9887 - recall_7: 0.9752 - precision_at_recall_7: 0.9970 - recall_at_precision_7: 0.9937 - val_loss: 0.0140 - val_binary_accuracy: 0.9834 - val_precision_7: 0.9515 - val_recall_7: 0.9445 - val_precision_at_recall_7: 0.9883 - val_recall_at_precision_7: 0.9835\n",
      "Epoch 50/100\n",
      "37/37 [==============================] - 2s 65ms/step - loss: 0.0050 - binary_accuracy: 0.9944 - precision_7: 0.9887 - recall_7: 0.9756 - precision_at_recall_7: 0.9971 - recall_at_precision_7: 0.9928 - val_loss: 0.0135 - val_binary_accuracy: 0.9841 - val_precision_7: 0.9588 - val_recall_7: 0.9411 - val_precision_at_recall_7: 0.9902 - val_recall_at_precision_7: 0.9833\n",
      "Epoch 51/100\n",
      "37/37 [==============================] - 2s 60ms/step - loss: 0.0050 - binary_accuracy: 0.9945 - precision_7: 0.9888 - recall_7: 0.9757 - precision_at_recall_7: 0.9974 - recall_at_precision_7: 0.9939 - val_loss: 0.0136 - val_binary_accuracy: 0.9838 - val_precision_7: 0.9566 - val_recall_7: 0.9416 - val_precision_at_recall_7: 0.9901 - val_recall_at_precision_7: 0.9832\n",
      "Epoch 52/100\n",
      "37/37 [==============================] - 2s 59ms/step - loss: 0.0048 - binary_accuracy: 0.9945 - precision_7: 0.9895 - recall_7: 0.9752 - precision_at_recall_7: 0.9978 - recall_at_precision_7: 0.9931 - val_loss: 0.0138 - val_binary_accuracy: 0.9833 - val_precision_7: 0.9613 - val_recall_7: 0.9334 - val_precision_at_recall_7: 0.9908 - val_recall_at_precision_7: 0.9839\n",
      "Epoch 53/100\n",
      "37/37 [==============================] - 2s 60ms/step - loss: 0.0050 - binary_accuracy: 0.9944 - precision_7: 0.9885 - recall_7: 0.9755 - precision_at_recall_7: 0.9967 - recall_at_precision_7: 0.9941 - val_loss: 0.0136 - val_binary_accuracy: 0.9842 - val_precision_7: 0.9606 - val_recall_7: 0.9395 - val_precision_at_recall_7: 0.9892 - val_recall_at_precision_7: 0.9818\n",
      "Epoch 54/100\n",
      "37/37 [==============================] - 2s 53ms/step - loss: 0.0049 - binary_accuracy: 0.9945 - precision_7: 0.9900 - recall_7: 0.9749 - precision_at_recall_7: 0.9975 - recall_at_precision_7: 0.9939 - val_loss: 0.0137 - val_binary_accuracy: 0.9838 - val_precision_7: 0.9562 - val_recall_7: 0.9419 - val_precision_at_recall_7: 0.9895 - val_recall_at_precision_7: 0.9832\n",
      "Epoch 55/100\n",
      "37/37 [==============================] - 2s 52ms/step - loss: 0.0049 - binary_accuracy: 0.9944 - precision_7: 0.9892 - recall_7: 0.9748 - precision_at_recall_7: 0.9979 - recall_at_precision_7: 0.9938 - val_loss: 0.0138 - val_binary_accuracy: 0.9836 - val_precision_7: 0.9546 - val_recall_7: 0.9424 - val_precision_at_recall_7: 0.9904 - val_recall_at_precision_7: 0.9850\n",
      "Epoch 56/100\n",
      "37/37 [==============================] - 2s 50ms/step - loss: 0.0047 - binary_accuracy: 0.9945 - precision_7: 0.9890 - recall_7: 0.9760 - precision_at_recall_7: 0.9975 - recall_at_precision_7: 0.9939 - val_loss: 0.0135 - val_binary_accuracy: 0.9840 - val_precision_7: 0.9540 - val_recall_7: 0.9454 - val_precision_at_recall_7: 0.9893 - val_recall_at_precision_7: 0.9830\n",
      "Epoch 57/100\n",
      "37/37 [==============================] - 2s 50ms/step - loss: 0.0046 - binary_accuracy: 0.9948 - precision_7: 0.9907 - recall_7: 0.9758 - precision_at_recall_7: 0.9978 - recall_at_precision_7: 0.9941 - val_loss: 0.0137 - val_binary_accuracy: 0.9835 - val_precision_7: 0.9571 - val_recall_7: 0.9390 - val_precision_at_recall_7: 0.9905 - val_recall_at_precision_7: 0.9843\n",
      "Epoch 58/100\n",
      "37/37 [==============================] - 2s 48ms/step - loss: 0.0045 - binary_accuracy: 0.9948 - precision_7: 0.9895 - recall_7: 0.9774 - precision_at_recall_7: 0.9978 - recall_at_precision_7: 0.9939 - val_loss: 0.0138 - val_binary_accuracy: 0.9836 - val_precision_7: 0.9507 - val_recall_7: 0.9465 - val_precision_at_recall_7: 0.9894 - val_recall_at_precision_7: 0.9849\n",
      "Epoch 59/100\n",
      "37/37 [==============================] - 2s 45ms/step - loss: 0.0046 - binary_accuracy: 0.9947 - precision_7: 0.9906 - recall_7: 0.9752 - precision_at_recall_7: 0.9981 - recall_at_precision_7: 0.9943 - val_loss: 0.0131 - val_binary_accuracy: 0.9846 - val_precision_7: 0.9614 - val_recall_7: 0.9416 - val_precision_at_recall_7: 0.9906 - val_recall_at_precision_7: 0.9820\n",
      "Epoch 60/100\n",
      "37/37 [==============================] - 2s 46ms/step - loss: 0.0045 - binary_accuracy: 0.9949 - precision_7: 0.9910 - recall_7: 0.9763 - precision_at_recall_7: 0.9979 - recall_at_precision_7: 0.9928 - val_loss: 0.0135 - val_binary_accuracy: 0.9842 - val_precision_7: 0.9546 - val_recall_7: 0.9460 - val_precision_at_recall_7: 0.9893 - val_recall_at_precision_7: 0.9842\n",
      "Epoch 61/100\n",
      "37/37 [==============================] - 2s 43ms/step - loss: 0.0044 - binary_accuracy: 0.9949 - precision_7: 0.9902 - recall_7: 0.9769 - precision_at_recall_7: 0.9981 - recall_at_precision_7: 0.9941 - val_loss: 0.0137 - val_binary_accuracy: 0.9837 - val_precision_7: 0.9516 - val_recall_7: 0.9460 - val_precision_at_recall_7: 0.9895 - val_recall_at_precision_7: 0.9847\n",
      "Epoch 62/100\n",
      "37/37 [==============================] - 2s 42ms/step - loss: 0.0045 - binary_accuracy: 0.9948 - precision_7: 0.9898 - recall_7: 0.9770 - precision_at_recall_7: 0.9979 - recall_at_precision_7: 0.9941 - val_loss: 0.0140 - val_binary_accuracy: 0.9834 - val_precision_7: 0.9562 - val_recall_7: 0.9392 - val_precision_at_recall_7: 0.9901 - val_recall_at_precision_7: 0.9828\n",
      "Epoch 63/100\n",
      "37/37 [==============================] - 1s 40ms/step - loss: 0.0045 - binary_accuracy: 0.9949 - precision_7: 0.9919 - recall_7: 0.9755 - precision_at_recall_7: 0.9979 - recall_at_precision_7: 0.9939 - val_loss: 0.0132 - val_binary_accuracy: 0.9844 - val_precision_7: 0.9596 - val_recall_7: 0.9423 - val_precision_at_recall_7: 0.9903 - val_recall_at_precision_7: 0.9835\n",
      "Epoch 64/100\n"
     ]
    },
    {
     "name": "stdout",
     "output_type": "stream",
     "text": [
      "37/37 [==============================] - 1s 38ms/step - loss: 0.0046 - binary_accuracy: 0.9946 - precision_7: 0.9892 - recall_7: 0.9762 - precision_at_recall_7: 0.9981 - recall_at_precision_7: 0.9943 - val_loss: 0.0132 - val_binary_accuracy: 0.9845 - val_precision_7: 0.9610 - val_recall_7: 0.9414 - val_precision_at_recall_7: 0.9909 - val_recall_at_precision_7: 0.9818\n",
      "Epoch 65/100\n",
      "37/37 [==============================] - 1s 40ms/step - loss: 0.0044 - binary_accuracy: 0.9949 - precision_7: 0.9913 - recall_7: 0.9760 - precision_at_recall_7: 0.9981 - recall_at_precision_7: 0.9917 - val_loss: 0.0138 - val_binary_accuracy: 0.9836 - val_precision_7: 0.9526 - val_recall_7: 0.9443 - val_precision_at_recall_7: 0.9901 - val_recall_at_precision_7: 0.9836\n",
      "Epoch 66/100\n",
      "37/37 [==============================] - 1s 38ms/step - loss: 0.0044 - binary_accuracy: 0.9949 - precision_7: 0.9893 - recall_7: 0.9780 - precision_at_recall_7: 0.9982 - recall_at_precision_7: 0.9940 - val_loss: 0.0132 - val_binary_accuracy: 0.9845 - val_precision_7: 0.9590 - val_recall_7: 0.9434 - val_precision_at_recall_7: 0.9905 - val_recall_at_precision_7: 0.9832\n",
      "Epoch 67/100\n",
      "37/37 [==============================] - 1s 38ms/step - loss: 0.0044 - binary_accuracy: 0.9949 - precision_7: 0.9912 - recall_7: 0.9759 - precision_at_recall_7: 0.9981 - recall_at_precision_7: 0.9940 - val_loss: 0.0137 - val_binary_accuracy: 0.9837 - val_precision_7: 0.9532 - val_recall_7: 0.9443 - val_precision_at_recall_7: 0.9894 - val_recall_at_precision_7: 0.9840\n",
      "Epoch 68/100\n",
      "37/37 [==============================] - 1s 38ms/step - loss: 0.0043 - binary_accuracy: 0.9951 - precision_7: 0.9917 - recall_7: 0.9771 - precision_at_recall_7: 0.9979 - recall_at_precision_7: 0.9931 - val_loss: 0.0136 - val_binary_accuracy: 0.9838 - val_precision_7: 0.9545 - val_recall_7: 0.9438 - val_precision_at_recall_7: 0.9902 - val_recall_at_precision_7: 0.9842\n",
      "Epoch 69/100\n",
      "37/37 [==============================] - 1s 37ms/step - loss: 0.0042 - binary_accuracy: 0.9951 - precision_7: 0.9916 - recall_7: 0.9772 - precision_at_recall_7: 0.9981 - recall_at_precision_7: 0.9944 - val_loss: 0.0134 - val_binary_accuracy: 0.9842 - val_precision_7: 0.9564 - val_recall_7: 0.9440 - val_precision_at_recall_7: 0.9894 - val_recall_at_precision_7: 0.9841\n",
      "Epoch 70/100\n",
      "37/37 [==============================] - 1s 39ms/step - loss: 0.0042 - binary_accuracy: 0.9949 - precision_7: 0.9902 - recall_7: 0.9773 - precision_at_recall_7: 0.9982 - recall_at_precision_7: 0.9943 - val_loss: 0.0133 - val_binary_accuracy: 0.9843 - val_precision_7: 0.9617 - val_recall_7: 0.9390 - val_precision_at_recall_7: 0.9907 - val_recall_at_precision_7: 0.9817\n",
      "Epoch 71/100\n",
      "37/37 [==============================] - 1s 40ms/step - loss: 0.0044 - binary_accuracy: 0.9949 - precision_7: 0.9910 - recall_7: 0.9765 - precision_at_recall_7: 0.9972 - recall_at_precision_7: 0.9944 - val_loss: 0.0137 - val_binary_accuracy: 0.9838 - val_precision_7: 0.9530 - val_recall_7: 0.9451 - val_precision_at_recall_7: 0.9893 - val_recall_at_precision_7: 0.9852\n",
      "Epoch 72/100\n",
      "37/37 [==============================] - 2s 42ms/step - loss: 0.0044 - binary_accuracy: 0.9949 - precision_7: 0.9901 - recall_7: 0.9774 - precision_at_recall_7: 0.9973 - recall_at_precision_7: 0.9946 - val_loss: 0.0133 - val_binary_accuracy: 0.9844 - val_precision_7: 0.9590 - val_recall_7: 0.9425 - val_precision_at_recall_7: 0.9898 - val_recall_at_precision_7: 0.9820\n",
      "Epoch 73/100\n",
      "37/37 [==============================] - 2s 44ms/step - loss: 0.0043 - binary_accuracy: 0.9951 - precision_7: 0.9914 - recall_7: 0.9769 - precision_at_recall_7: 0.9976 - recall_at_precision_7: 0.9942 - val_loss: 0.0136 - val_binary_accuracy: 0.9839 - val_precision_7: 0.9568 - val_recall_7: 0.9420 - val_precision_at_recall_7: 0.9904 - val_recall_at_precision_7: 0.9830\n",
      "Epoch 74/100\n",
      "37/37 [==============================] - 2s 46ms/step - loss: 0.0042 - binary_accuracy: 0.9952 - precision_7: 0.9911 - recall_7: 0.9780 - precision_at_recall_7: 0.9981 - recall_at_precision_7: 0.9946 - val_loss: 0.0136 - val_binary_accuracy: 0.9840 - val_precision_7: 0.9582 - val_recall_7: 0.9409 - val_precision_at_recall_7: 0.9901 - val_recall_at_precision_7: 0.9829\n",
      "Epoch 75/100\n",
      "37/37 [==============================] - 2s 44ms/step - loss: 0.0041 - binary_accuracy: 0.9952 - precision_7: 0.9919 - recall_7: 0.9771 - precision_at_recall_7: 0.9982 - recall_at_precision_7: 0.9947 - val_loss: 0.0132 - val_binary_accuracy: 0.9843 - val_precision_7: 0.9593 - val_recall_7: 0.9420 - val_precision_at_recall_7: 0.9905 - val_recall_at_precision_7: 0.9835\n",
      "Epoch 76/100\n",
      "37/37 [==============================] - 2s 47ms/step - loss: 0.0040 - binary_accuracy: 0.9952 - precision_7: 0.9919 - recall_7: 0.9774 - precision_at_recall_7: 0.9982 - recall_at_precision_7: 0.9945 - val_loss: 0.0132 - val_binary_accuracy: 0.9843 - val_precision_7: 0.9547 - val_recall_7: 0.9469 - val_precision_at_recall_7: 0.9895 - val_recall_at_precision_7: 0.9844\n",
      "Epoch 77/100\n",
      "37/37 [==============================] - 2s 47ms/step - loss: 0.0042 - binary_accuracy: 0.9948 - precision_7: 0.9893 - recall_7: 0.9772 - precision_at_recall_7: 0.9982 - recall_at_precision_7: 0.9946 - val_loss: 0.0133 - val_binary_accuracy: 0.9843 - val_precision_7: 0.9586 - val_recall_7: 0.9426 - val_precision_at_recall_7: 0.9907 - val_recall_at_precision_7: 0.9805\n",
      "Epoch 78/100\n",
      "37/37 [==============================] - 2s 48ms/step - loss: 0.0041 - binary_accuracy: 0.9952 - precision_7: 0.9916 - recall_7: 0.9777 - precision_at_recall_7: 0.9983 - recall_at_precision_7: 0.9927 - val_loss: 0.0136 - val_binary_accuracy: 0.9841 - val_precision_7: 0.9586 - val_recall_7: 0.9413 - val_precision_at_recall_7: 0.9899 - val_recall_at_precision_7: 0.9825\n",
      "Epoch 79/100\n",
      "37/37 [==============================] - 2s 48ms/step - loss: 0.0040 - binary_accuracy: 0.9952 - precision_7: 0.9921 - recall_7: 0.9773 - precision_at_recall_7: 0.9983 - recall_at_precision_7: 0.9945 - val_loss: 0.0133 - val_binary_accuracy: 0.9843 - val_precision_7: 0.9575 - val_recall_7: 0.9440 - val_precision_at_recall_7: 0.9903 - val_recall_at_precision_7: 0.9832\n",
      "Epoch 80/100\n",
      "37/37 [==============================] - 2s 47ms/step - loss: 0.0042 - binary_accuracy: 0.9952 - precision_7: 0.9918 - recall_7: 0.9771 - precision_at_recall_7: 0.9982 - recall_at_precision_7: 0.9945 - val_loss: 0.0134 - val_binary_accuracy: 0.9842 - val_precision_7: 0.9553 - val_recall_7: 0.9454 - val_precision_at_recall_7: 0.9898 - val_recall_at_precision_7: 0.9825\n",
      "Epoch 81/100\n",
      "37/37 [==============================] - 2s 47ms/step - loss: 0.0041 - binary_accuracy: 0.9952 - precision_7: 0.9919 - recall_7: 0.9772 - precision_at_recall_7: 0.9983 - recall_at_precision_7: 0.9945 - val_loss: 0.0134 - val_binary_accuracy: 0.9842 - val_precision_7: 0.9599 - val_recall_7: 0.9402 - val_precision_at_recall_7: 0.9909 - val_recall_at_precision_7: 0.9822\n",
      "Epoch 82/100\n",
      "37/37 [==============================] - 2s 49ms/step - loss: 0.0039 - binary_accuracy: 0.9954 - precision_7: 0.9926 - recall_7: 0.9778 - precision_at_recall_7: 0.9984 - recall_at_precision_7: 0.9944 - val_loss: 0.0136 - val_binary_accuracy: 0.9839 - val_precision_7: 0.9552 - val_recall_7: 0.9433 - val_precision_at_recall_7: 0.9903 - val_recall_at_precision_7: 0.9840\n",
      "Epoch 83/100\n",
      "37/37 [==============================] - 2s 49ms/step - loss: 0.0040 - binary_accuracy: 0.9949 - precision_7: 0.9898 - recall_7: 0.9773 - precision_at_recall_7: 0.9985 - recall_at_precision_7: 0.9949 - val_loss: 0.0133 - val_binary_accuracy: 0.9845 - val_precision_7: 0.9639 - val_recall_7: 0.9380 - val_precision_at_recall_7: 0.9912 - val_recall_at_precision_7: 0.9795\n",
      "Epoch 84/100\n",
      "37/37 [==============================] - 2s 47ms/step - loss: 0.0040 - binary_accuracy: 0.9954 - precision_7: 0.9918 - recall_7: 0.9785 - precision_at_recall_7: 0.9984 - recall_at_precision_7: 0.9937 - val_loss: 0.0137 - val_binary_accuracy: 0.9840 - val_precision_7: 0.9563 - val_recall_7: 0.9431 - val_precision_at_recall_7: 0.9899 - val_recall_at_precision_7: 0.9826\n",
      "Epoch 85/100\n"
     ]
    },
    {
     "name": "stdout",
     "output_type": "stream",
     "text": [
      "37/37 [==============================] - 2s 49ms/step - loss: 0.0040 - binary_accuracy: 0.9953 - precision_7: 0.9925 - recall_7: 0.9772 - precision_at_recall_7: 0.9984 - recall_at_precision_7: 0.9948 - val_loss: 0.0132 - val_binary_accuracy: 0.9845 - val_precision_7: 0.9585 - val_recall_7: 0.9440 - val_precision_at_recall_7: 0.9896 - val_recall_at_precision_7: 0.9818\n",
      "Epoch 86/100\n",
      "37/37 [==============================] - 2s 47ms/step - loss: 0.0039 - binary_accuracy: 0.9953 - precision_7: 0.9932 - recall_7: 0.9764 - precision_at_recall_7: 0.9984 - recall_at_precision_7: 0.9943 - val_loss: 0.0135 - val_binary_accuracy: 0.9841 - val_precision_7: 0.9579 - val_recall_7: 0.9422 - val_precision_at_recall_7: 0.9905 - val_recall_at_precision_7: 0.9826\n",
      "Epoch 87/100\n",
      "37/37 [==============================] - 2s 45ms/step - loss: 0.0038 - binary_accuracy: 0.9955 - precision_7: 0.9923 - recall_7: 0.9787 - precision_at_recall_7: 0.9984 - recall_at_precision_7: 0.9946 - val_loss: 0.0136 - val_binary_accuracy: 0.9839 - val_precision_7: 0.9555 - val_recall_7: 0.9429 - val_precision_at_recall_7: 0.9894 - val_recall_at_precision_7: 0.9837\n",
      "Epoch 88/100\n",
      "37/37 [==============================] - 2s 55ms/step - loss: 0.0039 - binary_accuracy: 0.9955 - precision_7: 0.9932 - recall_7: 0.9779 - precision_at_recall_7: 0.9985 - recall_at_precision_7: 0.9948 - val_loss: 0.0136 - val_binary_accuracy: 0.9839 - val_precision_7: 0.9587 - val_recall_7: 0.9398 - val_precision_at_recall_7: 0.9906 - val_recall_at_precision_7: 0.9823\n",
      "Epoch 89/100\n",
      "37/37 [==============================] - 2s 51ms/step - loss: 0.0040 - binary_accuracy: 0.9953 - precision_7: 0.9912 - recall_7: 0.9788 - precision_at_recall_7: 0.9982 - recall_at_precision_7: 0.9948 - val_loss: 0.0135 - val_binary_accuracy: 0.9840 - val_precision_7: 0.9581 - val_recall_7: 0.9413 - val_precision_at_recall_7: 0.9901 - val_recall_at_precision_7: 0.9836\n",
      "Epoch 90/100\n",
      "37/37 [==============================] - 2s 54ms/step - loss: 0.0039 - binary_accuracy: 0.9954 - precision_7: 0.9927 - recall_7: 0.9781 - precision_at_recall_7: 0.9984 - recall_at_precision_7: 0.9948 - val_loss: 0.0135 - val_binary_accuracy: 0.9842 - val_precision_7: 0.9597 - val_recall_7: 0.9406 - val_precision_at_recall_7: 0.9911 - val_recall_at_precision_7: 0.9825\n",
      "Epoch 91/100\n",
      "37/37 [==============================] - 2s 51ms/step - loss: 0.0039 - binary_accuracy: 0.9954 - precision_7: 0.9921 - recall_7: 0.9784 - precision_at_recall_7: 0.9983 - recall_at_precision_7: 0.9949 - val_loss: 0.0132 - val_binary_accuracy: 0.9846 - val_precision_7: 0.9592 - val_recall_7: 0.9437 - val_precision_at_recall_7: 0.9905 - val_recall_at_precision_7: 0.9836\n",
      "Epoch 92/100\n",
      "37/37 [==============================] - 2s 53ms/step - loss: 0.0038 - binary_accuracy: 0.9956 - precision_7: 0.9939 - recall_7: 0.9779 - precision_at_recall_7: 0.9983 - recall_at_precision_7: 0.9949 - val_loss: 0.0134 - val_binary_accuracy: 0.9844 - val_precision_7: 0.9599 - val_recall_7: 0.9420 - val_precision_at_recall_7: 0.9905 - val_recall_at_precision_7: 0.9826\n",
      "Epoch 93/100\n",
      "37/37 [==============================] - 2s 51ms/step - loss: 0.0038 - binary_accuracy: 0.9956 - precision_7: 0.9933 - recall_7: 0.9784 - precision_at_recall_7: 0.9985 - recall_at_precision_7: 0.9949 - val_loss: 0.0134 - val_binary_accuracy: 0.9844 - val_precision_7: 0.9624 - val_recall_7: 0.9389 - val_precision_at_recall_7: 0.9906 - val_recall_at_precision_7: 0.9805\n",
      "Epoch 94/100\n",
      "37/37 [==============================] - 2s 52ms/step - loss: 0.0039 - binary_accuracy: 0.9954 - precision_7: 0.9919 - recall_7: 0.9785 - precision_at_recall_7: 0.9984 - recall_at_precision_7: 0.9949 - val_loss: 0.0135 - val_binary_accuracy: 0.9843 - val_precision_7: 0.9610 - val_recall_7: 0.9397 - val_precision_at_recall_7: 0.9911 - val_recall_at_precision_7: 0.9821\n",
      "Epoch 95/100\n",
      "37/37 [==============================] - 2s 45ms/step - loss: 0.0037 - binary_accuracy: 0.9956 - precision_7: 0.9936 - recall_7: 0.9782 - precision_at_recall_7: 0.9984 - recall_at_precision_7: 0.9948 - val_loss: 0.0134 - val_binary_accuracy: 0.9844 - val_precision_7: 0.9594 - val_recall_7: 0.9426 - val_precision_at_recall_7: 0.9905 - val_recall_at_precision_7: 0.9831\n",
      "Epoch 96/100\n",
      "37/37 [==============================] - 2s 44ms/step - loss: 0.0037 - binary_accuracy: 0.9957 - precision_7: 0.9930 - recall_7: 0.9795 - precision_at_recall_7: 0.9985 - recall_at_precision_7: 0.9950 - val_loss: 0.0137 - val_binary_accuracy: 0.9840 - val_precision_7: 0.9615 - val_recall_7: 0.9376 - val_precision_at_recall_7: 0.9910 - val_recall_at_precision_7: 0.9812\n",
      "Epoch 97/100\n",
      "37/37 [==============================] - 2s 43ms/step - loss: 0.0037 - binary_accuracy: 0.9956 - precision_7: 0.9931 - recall_7: 0.9785 - precision_at_recall_7: 0.9985 - recall_at_precision_7: 0.9949 - val_loss: 0.0135 - val_binary_accuracy: 0.9843 - val_precision_7: 0.9614 - val_recall_7: 0.9394 - val_precision_at_recall_7: 0.9909 - val_recall_at_precision_7: 0.9821\n",
      "Epoch 98/100\n",
      "37/37 [==============================] - 1s 40ms/step - loss: 0.0037 - binary_accuracy: 0.9956 - precision_7: 0.9933 - recall_7: 0.9787 - precision_at_recall_7: 0.9985 - recall_at_precision_7: 0.9932 - val_loss: 0.0136 - val_binary_accuracy: 0.9842 - val_precision_7: 0.9564 - val_recall_7: 0.9443 - val_precision_at_recall_7: 0.9898 - val_recall_at_precision_7: 0.9832\n",
      "Epoch 99/100\n",
      "37/37 [==============================] - 2s 41ms/step - loss: 0.0037 - binary_accuracy: 0.9955 - precision_7: 0.9935 - recall_7: 0.9777 - precision_at_recall_7: 0.9985 - recall_at_precision_7: 0.9949 - val_loss: 0.0137 - val_binary_accuracy: 0.9841 - val_precision_7: 0.9597 - val_recall_7: 0.9400 - val_precision_at_recall_7: 0.9912 - val_recall_at_precision_7: 0.9821\n",
      "Epoch 100/100\n",
      "37/37 [==============================] - 2s 43ms/step - loss: 0.0036 - binary_accuracy: 0.9956 - precision_7: 0.9934 - recall_7: 0.9784 - precision_at_recall_7: 0.9985 - recall_at_precision_7: 0.9943 - val_loss: 0.0137 - val_binary_accuracy: 0.9840 - val_precision_7: 0.9549 - val_recall_7: 0.9446 - val_precision_at_recall_7: 0.9901 - val_recall_at_precision_7: 0.9845\n"
     ]
    },
    {
     "data": {
      "text/plain": [
       "<keras.callbacks.History at 0x7f821ce67e50>"
      ]
     },
     "execution_count": 56,
     "metadata": {},
     "output_type": "execute_result"
    }
   ],
   "source": [
    "model.fit(X_train, y_train, batch_size=16, epochs=100, validation_split=0.25)"
   ]
  },
  {
   "cell_type": "code",
   "execution_count": 57,
   "id": "b3da1709",
   "metadata": {
    "ExecuteTime": {
     "end_time": "2022-12-04T23:05:27.052843Z",
     "start_time": "2022-12-04T23:05:26.833964Z"
    }
   },
   "outputs": [
    {
     "name": "stdout",
     "output_type": "stream",
     "text": [
      "9/9 [==============================] - 0s 15ms/step - loss: 0.0151 - binary_accuracy: 0.9827 - precision_7: 0.9623 - recall_7: 0.9305 - precision_at_recall_7: 0.9896 - recall_at_precision_7: 0.9785\n",
      "Loss: 0.015111577697098255\n",
      "Binary Accuracy: 0.9826778769493103\n",
      "Precision: 0.9623009562492371\n",
      "Recall: 0.9304910898208618\n",
      "Precision Where Recall >= 0.2: 0.9895880818367004\n",
      "Recall Where Precision >= 0.2: 0.9785262942314148\n"
     ]
    }
   ],
   "source": [
    "score, acc, prec, rec, precRec, recPrec = model.evaluate(X_test, y_test)\n",
    "print('Loss:', score)\n",
    "print('Binary Accuracy:', acc)\n",
    "print('Precision:', prec)\n",
    "print('Recall:', rec)\n",
    "print('Precision Where Recall >= 0.2:', precRec)\n",
    "print('Recall Where Precision >= 0.2:', recPrec)"
   ]
  },
  {
   "cell_type": "code",
   "execution_count": 59,
   "id": "f2109f8a",
   "metadata": {
    "ExecuteTime": {
     "end_time": "2022-12-04T23:06:04.836592Z",
     "start_time": "2022-12-04T23:06:04.193086Z"
    }
   },
   "outputs": [
    {
     "name": "stdout",
     "output_type": "stream",
     "text": [
      "1/1 [==============================] - 0s 26ms/step\n",
      "11\n"
     ]
    },
    {
     "data": {
      "image/png": "[encoded data removed]",
      "text/plain": [
       "<Figure size 640x480 with 1 Axes>"
      ]
     },
     "metadata": {},
     "output_type": "display_data"
    },
    {
     "data": {
      "image/png": "[encoded data removed]",
      "text/plain": [
       "<Figure size 640x480 with 6 Axes>"
      ]
     },
     "metadata": {},
     "output_type": "display_data"
    }
   ],
   "source": [
    "i = int(random.random() * len(data))\n",
    "\n",
    "res = model.predict(data[i:i+1])[0]\n",
    "res = np.where(res > 0.5, 1, 0)\n",
    "\n",
    "print(i)\n",
    "\n",
    "plt.imshow(data[i][0].reshape((diam,diam)))\n",
    "plt.show()\n",
    "\n",
    "prediction = res.reshape((len(days), diam, diam))\n",
    "ground_truth = label[i].reshape((len(days), diam, diam))\n",
    "\n",
    "fig, axs = plt.subplots(len(days), 2)\n",
    "for i in range(len(days)):\n",
    "    axs[i, 0].imshow(prediction[i])\n",
    "    axs[i, 1].imshow(ground_truth[i])"
   ]
  },
  {
   "cell_type": "markdown",
   "id": "629a73fd",
   "metadata": {},
   "source": [
    "## Save Model"
   ]
  },
  {
   "cell_type": "code",
   "execution_count": 63,
   "id": "9b3e106a",
   "metadata": {
    "ExecuteTime": {
     "end_time": "2022-12-04T23:17:26.944934Z",
     "start_time": "2022-12-04T23:17:26.712508Z"
    }
   },
   "outputs": [],
   "source": [
    "import tensorflowjs as tfjs\n",
    "\n",
    "tfjs.converters.save_keras_model(model, '../model')"
   ]
  }
 ],
 "metadata": {
  "kernelspec": {
   "display_name": "cs3300project2",
   "language": "python",
   "name": "cs3300project2"
  },
  "language_info": {
   "codemirror_mode": {
    "name": "ipython",
    "version": 3
   },
   "file_extension": ".py",
   "mimetype": "text/x-python",
   "name": "python",
   "nbconvert_exporter": "python",
   "pygments_lexer": "ipython3",
   "version": "3.8.12"
  }
 },
 "nbformat": 4,
 "nbformat_minor": 5
}
